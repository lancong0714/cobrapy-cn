{
 "cells": [
  {
   "cell_type": "markdown",
   "metadata": {},
   "source": [
    "# 快速上手指南"
   ]
  },
  {
   "cell_type": "markdown",
   "metadata": {},
   "source": [
    "## 加载模型并检查它"
   ]
  },
  {
   "cell_type": "markdown",
   "metadata": {},
   "source": [
    "我们首先从两个最简单的内置模型开始。它们是*沙门氏菌*的模型，*大肠杆菌*的模型，以及一个叫做“教材”（textbook）的模型。`textbook` 模型描述了*大肠杆菌*的核心代谢。"
   ]
  },
  {
   "cell_type": "code",
   "execution_count": 1,
   "metadata": {
    "ExecuteTime": {
     "end_time": "2024-01-13T09:12:22.711124900Z",
     "start_time": "2024-01-13T09:12:20.723933300Z"
    }
   },
   "outputs": [],
   "source": [
    "import cobra\n",
    "from cobra.io import load_model\n",
    "\n",
    "# \"iJO1366\" and \"salmonella\" are also valid arguments\n",
    "model = load_model(\"textbook\")"
   ]
  },
  {
   "cell_type": "markdown",
   "metadata": {},
   "source": [
    "cobrapy模型里的反应、代谢物和基因是一种叫做 “cobra.DictList\"的特殊列表, 并且每一个分别以 `cobra.Reaction`, `cobra.Metabolite` 和`cobra.Gene`为对象。"
   ]
  },
  {
   "cell_type": "code",
   "execution_count": 2,
   "metadata": {
    "scrolled": true,
    "ExecuteTime": {
     "end_time": "2024-01-13T09:12:26.495209700Z",
     "start_time": "2024-01-13T09:12:26.443173300Z"
    }
   },
   "outputs": [
    {
     "name": "stdout",
     "output_type": "stream",
     "text": [
      "95\n",
      "72\n",
      "137\n"
     ]
    }
   ],
   "source": [
    "print(len(model.reactions))\n",
    "print(len(model.metabolites))\n",
    "print(len(model.genes))"
   ]
  },
  {
   "cell_type": "markdown",
   "metadata": {},
   "source": [
    "当我们使用[Jupyter notebook](https://jupyter-notebook-beginner-guide.readthedocs.io/en/latest/)时，这些信息将会以表格形式呈现。"
   ]
  },
  {
   "cell_type": "code",
   "execution_count": 3,
   "metadata": {
    "ExecuteTime": {
     "end_time": "2024-01-13T09:12:29.368193500Z",
     "start_time": "2024-01-13T09:12:29.302917400Z"
    }
   },
   "outputs": [
    {
     "data": {
      "text/plain": "<Model e_coli_core at 0x124eb3a3050>",
      "text/html": "\n        <table>\n            <tr>\n                <td><strong>Name</strong></td>\n                <td>e_coli_core</td>\n            </tr><tr>\n                <td><strong>Memory address</strong></td>\n                <td>124eb3a3050</td>\n            </tr><tr>\n                <td><strong>Number of metabolites</strong></td>\n                <td>72</td>\n            </tr><tr>\n                <td><strong>Number of reactions</strong></td>\n                <td>95</td>\n            </tr><tr>\n                <td><strong>Number of genes</strong></td>\n                <td>137</td>\n            </tr><tr>\n                <td><strong>Number of groups</strong></td>\n                <td>0</td>\n            </tr><tr>\n                <td><strong>Objective expression</strong></td>\n                <td>1.0*Biomass_Ecoli_core - 1.0*Biomass_Ecoli_core_reverse_2cdba</td>\n            </tr><tr>\n                <td><strong>Compartments</strong></td>\n                <td>cytosol, extracellular</td>\n            </tr>\n          </table>"
     },
     "execution_count": 3,
     "metadata": {},
     "output_type": "execute_result"
    }
   ],
   "source": [
    "model"
   ]
  },
  {
   "cell_type": "markdown",
   "metadata": {},
   "source": [
    "就像常规列表一样， `DictList`中的对象可以通过索引检索。例如，要获得该模型中的第30个反应（ (at index 29 because of [0-indexing](https://en.wikipedia.org/wiki/Zero-based_numbering)):"
   ]
  },
  {
   "cell_type": "code",
   "execution_count": 4,
   "metadata": {
    "ExecuteTime": {
     "end_time": "2024-01-13T09:12:31.802888500Z",
     "start_time": "2024-01-13T09:12:31.756579Z"
    }
   },
   "outputs": [
    {
     "data": {
      "text/plain": "<Reaction EX_glu__L_e at 0x124ecc53fd0>",
      "text/html": "\n        <table>\n            <tr>\n                <td><strong>Reaction identifier</strong></td><td>EX_glu__L_e</td>\n            </tr><tr>\n                <td><strong>Name</strong></td><td>L-Glutamate exchange</td>\n            </tr><tr>\n                <td><strong>Memory address</strong></td>\n                <td>0x124ecc53fd0</td>\n            </tr><tr>\n                <td><strong>Stoichiometry</strong></td>\n                <td>\n                    <p style='text-align:right'>glu__L_e --></p>\n                    <p style='text-align:right'>L-Glutamate --></p>\n                </td>\n            </tr><tr>\n                <td><strong>GPR</strong></td><td></td>\n            </tr><tr>\n                <td><strong>Lower bound</strong></td><td>0.0</td>\n            </tr><tr>\n                <td><strong>Upper bound</strong></td><td>1000.0</td>\n            </tr>\n        </table>\n        "
     },
     "execution_count": 4,
     "metadata": {},
     "output_type": "execute_result"
    }
   ],
   "source": [
    "model.reactions[29]"
   ]
  },
  {
   "cell_type": "markdown",
   "metadata": {},
   "source": [
    "此外，可以使用`DictList.get_by_id()` 函数按项目的`id`检索项目。例如，要获得胞质atp代谢产物对象（id为“atp_c”），我们可以执行以下操作："
   ]
  },
  {
   "cell_type": "code",
   "execution_count": 5,
   "metadata": {
    "ExecuteTime": {
     "end_time": "2024-01-13T09:12:33.444904900Z",
     "start_time": "2024-01-13T09:12:33.395968700Z"
    }
   },
   "outputs": [
    {
     "data": {
      "text/plain": "<Metabolite atp_c at 0x124ecd18c90>",
      "text/html": "\n        <table>\n            <tr>\n                <td><strong>Metabolite identifier</strong></td><td>atp_c</td>\n            </tr><tr>\n                <td><strong>Name</strong></td><td>ATP</td>\n            </tr><tr>\n                <td><strong>Memory address</strong></td>\n                <td>0x124ecd18c90</td>\n            </tr><tr>\n                <td><strong>Formula</strong></td><td>C10H12N5O13P3</td>\n            </tr><tr>\n                <td><strong>Compartment</strong></td><td>c</td>\n            </tr><tr>\n                <td><strong>In 13 reaction(s)</strong></td><td>\n                    PPS, PYK, Biomass_Ecoli_core, PPCK, GLNS, PFK, ATPS4r, PGK, SUCOAS, GLNabc, ACKr, ATPM, ADK1\n                    </td>\n            </tr>\n        </table>"
     },
     "execution_count": 5,
     "metadata": {},
     "output_type": "execute_result"
    }
   ],
   "source": [
    "model.metabolites.get_by_id(\"atp_c\")"
   ]
  },
  {
   "cell_type": "markdown",
   "metadata": {},
   "source": [
    "作为额外的收获，具有交互式shell（如IPython）的用户将能够完成制表，列出列表中的元素。虽然这不是大多数代码的推荐行为，因为id中可能存在“-”等字符，但在交互式提示中这非常有用："
   ]
  },
  {
   "cell_type": "code",
   "execution_count": 6,
   "metadata": {
    "ExecuteTime": {
     "end_time": "2024-01-13T09:12:35.038966Z",
     "start_time": "2024-01-13T09:12:34.996791300Z"
    }
   },
   "outputs": [
    {
     "data": {
      "text/plain": "(-10.0, 1000.0)"
     },
     "execution_count": 6,
     "metadata": {},
     "output_type": "execute_result"
    }
   ],
   "source": [
    "model.reactions.EX_glc__D_e.bounds"
   ]
  },
  {
   "cell_type": "markdown",
   "metadata": {},
   "source": [
    "## 反应"
   ]
  },
  {
   "cell_type": "markdown",
   "metadata": {},
   "source": [
    "我们将以葡萄糖-6-磷酸异构酶参与的葡萄糖 6-磷酸和果糖 6-磷酸相互转化反应作为演示对象。在我们的测试的模型中，该反应的反应 ID 是 PGI。"
   ]
  },
  {
   "cell_type": "code",
   "execution_count": 7,
   "metadata": {
    "ExecuteTime": {
     "end_time": "2024-01-13T09:12:37.773739500Z",
     "start_time": "2024-01-13T09:12:37.704704100Z"
    }
   },
   "outputs": [
    {
     "data": {
      "text/plain": "<Reaction PGI at 0x124ecca7c10>",
      "text/html": "\n        <table>\n            <tr>\n                <td><strong>Reaction identifier</strong></td><td>PGI</td>\n            </tr><tr>\n                <td><strong>Name</strong></td><td>glucose-6-phosphate isomerase</td>\n            </tr><tr>\n                <td><strong>Memory address</strong></td>\n                <td>0x124ecca7c10</td>\n            </tr><tr>\n                <td><strong>Stoichiometry</strong></td>\n                <td>\n                    <p style='text-align:right'>g6p_c <=> f6p_c</p>\n                    <p style='text-align:right'>D-Glucose 6-phosphate <=> D-Fructose 6-phosphate</p>\n                </td>\n            </tr><tr>\n                <td><strong>GPR</strong></td><td>b4025</td>\n            </tr><tr>\n                <td><strong>Lower bound</strong></td><td>-1000.0</td>\n            </tr><tr>\n                <td><strong>Upper bound</strong></td><td>1000.0</td>\n            </tr>\n        </table>\n        "
     },
     "execution_count": 7,
     "metadata": {},
     "output_type": "execute_result"
    }
   ],
   "source": [
    "pgi = model.reactions.get_by_id(\"PGI\")\n",
    "pgi"
   ]
  },
  {
   "cell_type": "markdown",
   "metadata": {},
   "source": [
    "我们可以将全名和催化的反应视为字符串"
   ]
  },
  {
   "cell_type": "code",
   "execution_count": 8,
   "metadata": {
    "ExecuteTime": {
     "end_time": "2024-01-13T09:12:38.692199700Z",
     "start_time": "2024-01-13T09:12:38.645196600Z"
    }
   },
   "outputs": [
    {
     "name": "stdout",
     "output_type": "stream",
     "text": [
      "glucose-6-phosphate isomerase\n",
      "g6p_c <=> f6p_c\n"
     ]
    }
   ],
   "source": [
    "print(pgi.name)\n",
    "print(pgi.reaction)"
   ]
  },
  {
   "cell_type": "markdown",
   "metadata": {},
   "source": [
    "因为 `pgi` 是可逆的，所以我们可以通过`pgi.lower_bound` < 0 和 `pgi.upper_bound`> 0来查看该反应的下限和上限"
   ]
  },
  {
   "cell_type": "code",
   "execution_count": 9,
   "metadata": {
    "ExecuteTime": {
     "end_time": "2024-01-13T09:12:39.486998Z",
     "start_time": "2024-01-13T09:12:39.454137100Z"
    }
   },
   "outputs": [
    {
     "name": "stdout",
     "output_type": "stream",
     "text": [
      "-1000.0 < pgi < 1000.0\n",
      "True\n"
     ]
    }
   ],
   "source": [
    "print(pgi.lower_bound, \"< pgi <\", pgi.upper_bound)\n",
    "print(pgi.reversibility)"
   ]
  },
  {
   "cell_type": "markdown",
   "metadata": {},
   "source": [
    "反应的下限和上限被修改时，其可逆性属性也会自动更新。操作边界的首选方法是使用`reaction.bounds`，例如"
   ]
  },
  {
   "cell_type": "code",
   "execution_count": 10,
   "metadata": {
    "scrolled": true,
    "ExecuteTime": {
     "end_time": "2024-01-13T09:12:40.281603100Z",
     "start_time": "2024-01-13T09:12:40.248629700Z"
    }
   },
   "outputs": [
    {
     "name": "stdout",
     "output_type": "stream",
     "text": [
      "0 < pgi < 1000.0\n",
      "Reversibility after modification: False\n",
      "Reversibility after resetting: True\n"
     ]
    }
   ],
   "source": [
    "old_bounds = pgi.bounds\n",
    "pgi.bounds = (0, 1000.0)\n",
    "print(pgi.lower_bound, \"< pgi <\", pgi.upper_bound)\n",
    "print(\"Reversibility after modification:\", pgi.reversibility)\n",
    "pgi.bounds = old_bounds\n",
    "print(\"Reversibility after resetting:\", pgi.reversibility)"
   ]
  },
  {
   "cell_type": "markdown",
   "metadata": {},
   "source": [
    "还可以使用`reaction.lower_bound` 或 `reaction.upper_bound`一次修改一个边界。这种方法没有使用 `reaction.bounds`同时设置两个边界的方法实用，因为用户可能会不小心设置下限高于上限（反之亦然）。如果出现下限高于上限（反之亦然），则会导致错误。"
   ]
  },
  {
   "cell_type": "code",
   "execution_count": 11,
   "metadata": {
    "ExecuteTime": {
     "end_time": "2024-01-13T09:12:41.778781800Z",
     "start_time": "2024-01-13T09:12:41.219453800Z"
    }
   },
   "outputs": [
    {
     "name": "stdout",
     "output_type": "stream",
     "text": [
      "Upper bound prior to setting new lower bound: 1000.0\n"
     ]
    },
    {
     "ename": "ValueError",
     "evalue": "The lower bound must be less than or equal to the upper bound (1100 <= 1000.0).",
     "output_type": "error",
     "traceback": [
      "\u001B[1;31m---------------------------------------------------------------------------\u001B[0m",
      "\u001B[1;31mValueError\u001B[0m                                Traceback (most recent call last)",
      "Cell \u001B[1;32mIn[11], line 3\u001B[0m\n\u001B[0;32m      1\u001B[0m old_bounds \u001B[38;5;241m=\u001B[39m pgi\u001B[38;5;241m.\u001B[39mbounds\n\u001B[0;32m      2\u001B[0m \u001B[38;5;28mprint\u001B[39m(\u001B[38;5;124m'\u001B[39m\u001B[38;5;124mUpper bound prior to setting new lower bound:\u001B[39m\u001B[38;5;124m'\u001B[39m, pgi\u001B[38;5;241m.\u001B[39mupper_bound)\n\u001B[1;32m----> 3\u001B[0m pgi\u001B[38;5;241m.\u001B[39mlower_bound \u001B[38;5;241m=\u001B[39m \u001B[38;5;241m1100\u001B[39m\n\u001B[0;32m      4\u001B[0m \u001B[38;5;28mprint\u001B[39m(\u001B[38;5;124m'\u001B[39m\u001B[38;5;124mUpper bound after setting new lower bound:\u001B[39m\u001B[38;5;124m'\u001B[39m, pgi\u001B[38;5;241m.\u001B[39mupper_bound)\n\u001B[0;32m      5\u001B[0m pgi\u001B[38;5;241m.\u001B[39mbounds \u001B[38;5;241m=\u001B[39m old_bounds\n",
      "File \u001B[1;32md:\\ProgramData\\anaconda3\\Lib\\site-packages\\cobra\\util\\context.py:111\u001B[0m, in \u001B[0;36mresettable.<locals>.wrapper\u001B[1;34m(self, new_value)\u001B[0m\n\u001B[0;32m    108\u001B[0m         \u001B[38;5;28;01mreturn\u001B[39;00m\n\u001B[0;32m    109\u001B[0m     context(partial(func, \u001B[38;5;28mself\u001B[39m, old_value))\n\u001B[1;32m--> 111\u001B[0m func(\u001B[38;5;28mself\u001B[39m, new_value)\n",
      "File \u001B[1;32md:\\ProgramData\\anaconda3\\Lib\\site-packages\\cobra\\core\\reaction.py:370\u001B[0m, in \u001B[0;36mReaction.lower_bound\u001B[1;34m(self, value)\u001B[0m\n\u001B[0;32m    347\u001B[0m \u001B[38;5;250m\u001B[39m\u001B[38;5;124;03m\"\"\"Set the lower bound.\u001B[39;00m\n\u001B[0;32m    348\u001B[0m \n\u001B[0;32m    349\u001B[0m \u001B[38;5;124;03mParameters\u001B[39;00m\n\u001B[1;32m   (...)\u001B[0m\n\u001B[0;32m    367\u001B[0m \u001B[38;5;124;03m_check_bounds\u001B[39;00m\n\u001B[0;32m    368\u001B[0m \u001B[38;5;124;03m\"\"\"\u001B[39;00m\n\u001B[0;32m    369\u001B[0m \u001B[38;5;66;03m# Validate bounds before setting them.\u001B[39;00m\n\u001B[1;32m--> 370\u001B[0m \u001B[38;5;28mself\u001B[39m\u001B[38;5;241m.\u001B[39m_check_bounds(value, \u001B[38;5;28mself\u001B[39m\u001B[38;5;241m.\u001B[39m_upper_bound)\n\u001B[0;32m    371\u001B[0m \u001B[38;5;28mself\u001B[39m\u001B[38;5;241m.\u001B[39m_lower_bound \u001B[38;5;241m=\u001B[39m value\n\u001B[0;32m    372\u001B[0m \u001B[38;5;28mself\u001B[39m\u001B[38;5;241m.\u001B[39mupdate_variable_bounds()\n",
      "File \u001B[1;32md:\\ProgramData\\anaconda3\\Lib\\site-packages\\cobra\\core\\reaction.py:293\u001B[0m, in \u001B[0;36mReaction._check_bounds\u001B[1;34m(lb, ub)\u001B[0m\n\u001B[0;32m    278\u001B[0m \u001B[38;5;250m\u001B[39m\u001B[38;5;124;03m\"\"\"Check if the lower and upper bounds are valid.\u001B[39;00m\n\u001B[0;32m    279\u001B[0m \n\u001B[0;32m    280\u001B[0m \u001B[38;5;124;03mParameters\u001B[39;00m\n\u001B[1;32m   (...)\u001B[0m\n\u001B[0;32m    290\u001B[0m \u001B[38;5;124;03m    If the lower bound is higher than upper bound.\u001B[39;00m\n\u001B[0;32m    291\u001B[0m \u001B[38;5;124;03m\"\"\"\u001B[39;00m\n\u001B[0;32m    292\u001B[0m \u001B[38;5;28;01mif\u001B[39;00m lb \u001B[38;5;241m>\u001B[39m ub:\n\u001B[1;32m--> 293\u001B[0m     \u001B[38;5;28;01mraise\u001B[39;00m \u001B[38;5;167;01mValueError\u001B[39;00m(\n\u001B[0;32m    294\u001B[0m         \u001B[38;5;124mf\u001B[39m\u001B[38;5;124m\"\u001B[39m\u001B[38;5;124mThe lower bound must be less than or equal to the upper bound \u001B[39m\u001B[38;5;124m\"\u001B[39m\n\u001B[0;32m    295\u001B[0m         \u001B[38;5;124mf\u001B[39m\u001B[38;5;124m\"\u001B[39m\u001B[38;5;124m(\u001B[39m\u001B[38;5;132;01m{\u001B[39;00mlb\u001B[38;5;132;01m}\u001B[39;00m\u001B[38;5;124m <= \u001B[39m\u001B[38;5;132;01m{\u001B[39;00mub\u001B[38;5;132;01m}\u001B[39;00m\u001B[38;5;124m).\u001B[39m\u001B[38;5;124m\"\u001B[39m\n\u001B[0;32m    296\u001B[0m     )\n",
      "\u001B[1;31mValueError\u001B[0m: The lower bound must be less than or equal to the upper bound (1100 <= 1000.0)."
     ]
    }
   ],
   "source": [
    "old_bounds = pgi.bounds\n",
    "print('Upper bound prior to setting new lower bound:', pgi.upper_bound)\n",
    "pgi.lower_bound = 1100\n",
    "print('Upper bound after setting new lower bound:', pgi.upper_bound)\n",
    "pgi.bounds = old_bounds"
   ]
  },
  {
   "cell_type": "markdown",
   "metadata": {},
   "source": [
    "我们需要确保反应是质量平衡的。如果反应不满足质量平衡，则该函数会返回元素；如果它返回为空，则表示反应是质量平衡的。"
   ]
  },
  {
   "cell_type": "code",
   "execution_count": 12,
   "metadata": {
    "ExecuteTime": {
     "end_time": "2024-01-13T09:12:51.938565800Z",
     "start_time": "2024-01-13T09:12:51.925419300Z"
    }
   },
   "outputs": [
    {
     "data": {
      "text/plain": "{}"
     },
     "execution_count": 12,
     "metadata": {},
     "output_type": "execute_result"
    }
   ],
   "source": [
    "pgi.check_mass_balance()"
   ]
  },
  {
   "cell_type": "markdown",
   "metadata": {},
   "source": [
    "为了添加代谢物，我们传入一个带有代谢物对象及其系数的 `dict`"
   ]
  },
  {
   "cell_type": "code",
   "execution_count": 13,
   "metadata": {
    "ExecuteTime": {
     "end_time": "2024-01-13T09:12:53.728565200Z",
     "start_time": "2024-01-13T09:12:53.715894700Z"
    }
   },
   "outputs": [
    {
     "data": {
      "text/plain": "'g6p_c + h_c <=> f6p_c'"
     },
     "execution_count": 13,
     "metadata": {},
     "output_type": "execute_result"
    }
   ],
   "source": [
    "pgi.add_metabolites({model.metabolites.get_by_id(\"h_c\"): -1})\n",
    "pgi.reaction"
   ]
  },
  {
   "cell_type": "markdown",
   "metadata": {},
   "source": [
    "反应不再保持质量平衡"
   ]
  },
  {
   "cell_type": "code",
   "execution_count": 14,
   "metadata": {
    "ExecuteTime": {
     "end_time": "2024-01-13T09:12:54.706244Z",
     "start_time": "2024-01-13T09:12:54.689379Z"
    }
   },
   "outputs": [
    {
     "data": {
      "text/plain": "{'charge': -1.0, 'H': -1.0}"
     },
     "execution_count": 14,
     "metadata": {},
     "output_type": "execute_result"
    }
   ],
   "source": [
    "pgi.check_mass_balance()"
   ]
  },
  {
   "cell_type": "markdown",
   "metadata": {},
   "source": [
    "我们可以去除代谢物，反应将再次平衡。"
   ]
  },
  {
   "cell_type": "code",
   "execution_count": 15,
   "metadata": {
    "ExecuteTime": {
     "end_time": "2024-01-13T09:12:55.657553100Z",
     "start_time": "2024-01-13T09:12:55.612716300Z"
    }
   },
   "outputs": [
    {
     "name": "stdout",
     "output_type": "stream",
     "text": [
      "g6p_c <=> f6p_c\n",
      "{}\n"
     ]
    }
   ],
   "source": [
    "pgi.subtract_metabolites({model.metabolites.get_by_id(\"h_c\"): -1})\n",
    "print(pgi.reaction)\n",
    "print(pgi.check_mass_balance())"
   ]
  },
  {
   "cell_type": "markdown",
   "metadata": {},
   "source": [
    "也可以从字符串构建反应。但是，在 执行此操作时必须小心，以确保反应 ID 与模型中的反应 ID 匹配。箭头的方向也用于更新上限和下限。"
   ]
  },
  {
   "cell_type": "code",
   "execution_count": 16,
   "metadata": {
    "ExecuteTime": {
     "end_time": "2024-01-13T09:12:56.682936500Z",
     "start_time": "2024-01-13T09:12:56.659935Z"
    }
   },
   "outputs": [
    {
     "name": "stdout",
     "output_type": "stream",
     "text": [
      "unknown metabolite 'green_eggs' created\n",
      "unknown metabolite 'ham' created\n"
     ]
    }
   ],
   "source": [
    "pgi.reaction = \"g6p_c --> f6p_c + h_c + green_eggs + ham\""
   ]
  },
  {
   "cell_type": "code",
   "execution_count": 17,
   "metadata": {
    "ExecuteTime": {
     "end_time": "2024-01-13T09:12:57.154167200Z",
     "start_time": "2024-01-13T09:12:57.127136400Z"
    }
   },
   "outputs": [
    {
     "data": {
      "text/plain": "'g6p_c --> f6p_c + green_eggs + h_c + ham'"
     },
     "execution_count": 17,
     "metadata": {},
     "output_type": "execute_result"
    }
   ],
   "source": [
    "pgi.reaction"
   ]
  },
  {
   "cell_type": "code",
   "execution_count": 18,
   "metadata": {
    "ExecuteTime": {
     "end_time": "2024-01-13T09:12:57.567738700Z",
     "start_time": "2024-01-13T09:12:57.521543500Z"
    }
   },
   "outputs": [
    {
     "data": {
      "text/plain": "'g6p_c <=> f6p_c'"
     },
     "execution_count": 18,
     "metadata": {},
     "output_type": "execute_result"
    }
   ],
   "source": [
    "pgi.reaction = \"g6p_c <=> f6p_c\"\n",
    "pgi.reaction"
   ]
  },
  {
   "cell_type": "markdown",
   "metadata": {},
   "source": [
    "## 代谢产物"
   ]
  },
  {
   "cell_type": "markdown",
   "metadata": {},
   "source": [
    "我们将以胞质 atp 作为我们的代谢物，它在我们的测试模型中的 id 为`\"atp_c\"`。"
   ]
  },
  {
   "cell_type": "code",
   "execution_count": 19,
   "metadata": {
    "ExecuteTime": {
     "end_time": "2024-01-13T09:12:59.456536100Z",
     "start_time": "2024-01-13T09:12:59.392973900Z"
    }
   },
   "outputs": [
    {
     "data": {
      "text/plain": "<Metabolite atp_c at 0x124ecd18c90>",
      "text/html": "\n        <table>\n            <tr>\n                <td><strong>Metabolite identifier</strong></td><td>atp_c</td>\n            </tr><tr>\n                <td><strong>Name</strong></td><td>ATP</td>\n            </tr><tr>\n                <td><strong>Memory address</strong></td>\n                <td>0x124ecd18c90</td>\n            </tr><tr>\n                <td><strong>Formula</strong></td><td>C10H12N5O13P3</td>\n            </tr><tr>\n                <td><strong>Compartment</strong></td><td>c</td>\n            </tr><tr>\n                <td><strong>In 13 reaction(s)</strong></td><td>\n                    PPS, PYK, Biomass_Ecoli_core, PPCK, GLNS, PFK, ATPS4r, PGK, SUCOAS, GLNabc, ACKr, ATPM, ADK1\n                    </td>\n            </tr>\n        </table>"
     },
     "execution_count": 19,
     "metadata": {},
     "output_type": "execute_result"
    }
   ],
   "source": [
    "atp = model.metabolites.get_by_id(\"atp_c\")\n",
    "atp"
   ]
  },
  {
   "cell_type": "markdown",
   "metadata": {},
   "source": [
    "我们可以直接把代谢物名称和隔室（在本例中为胞质溶胶）以字符串的形式打印出来。"
   ]
  },
  {
   "cell_type": "code",
   "execution_count": 20,
   "metadata": {
    "ExecuteTime": {
     "end_time": "2024-01-13T09:13:00.697216500Z",
     "start_time": "2024-01-13T09:13:00.681142100Z"
    }
   },
   "outputs": [
    {
     "name": "stdout",
     "output_type": "stream",
     "text": [
      "ATP\n",
      "c\n"
     ]
    }
   ],
   "source": [
    "print(atp.name)\n",
    "print(atp.compartment)"
   ]
  },
  {
   "cell_type": "markdown",
   "metadata": {},
   "source": [
    "我们可以看到 ATP 在我们的模型中是一种带电分子。"
   ]
  },
  {
   "cell_type": "code",
   "execution_count": 21,
   "metadata": {
    "ExecuteTime": {
     "end_time": "2024-01-13T09:13:01.783471600Z",
     "start_time": "2024-01-13T09:13:01.767728400Z"
    }
   },
   "outputs": [
    {
     "data": {
      "text/plain": "-4"
     },
     "execution_count": 21,
     "metadata": {},
     "output_type": "execute_result"
    }
   ],
   "source": [
    "atp.charge"
   ]
  },
  {
   "cell_type": "markdown",
   "metadata": {},
   "source": [
    "我们也可以看到代谢物的化学式。"
   ]
  },
  {
   "cell_type": "code",
   "execution_count": 22,
   "metadata": {
    "ExecuteTime": {
     "end_time": "2024-01-13T09:13:02.658278500Z",
     "start_time": "2024-01-13T09:13:02.641326300Z"
    }
   },
   "outputs": [
    {
     "name": "stdout",
     "output_type": "stream",
     "text": [
      "C10H12N5O13P3\n"
     ]
    }
   ],
   "source": [
    "print(atp.formula)"
   ]
  },
  {
   "cell_type": "markdown",
   "metadata": {},
   "source": [
    "反应属性给出了使用给定代谢物的所有反应的`frozenset` 。我们可以用它来计算使用 atp 的反应数量。"
   ]
  },
  {
   "cell_type": "code",
   "execution_count": 23,
   "metadata": {
    "ExecuteTime": {
     "end_time": "2024-01-13T09:13:03.447087800Z",
     "start_time": "2024-01-13T09:13:03.428402400Z"
    }
   },
   "outputs": [
    {
     "data": {
      "text/plain": "13"
     },
     "execution_count": 23,
     "metadata": {},
     "output_type": "execute_result"
    }
   ],
   "source": [
    "len(atp.reactions)"
   ]
  },
  {
   "cell_type": "markdown",
   "metadata": {},
   "source": [
    "葡萄糖 6-磷酸等代谢物将参与较少的反应。"
   ]
  },
  {
   "cell_type": "code",
   "execution_count": 24,
   "metadata": {
    "ExecuteTime": {
     "end_time": "2024-01-13T09:13:04.314580Z",
     "start_time": "2024-01-13T09:13:04.287627700Z"
    }
   },
   "outputs": [
    {
     "data": {
      "text/plain": "frozenset({<Reaction Biomass_Ecoli_core at 0x124ecca4a50>,\n           <Reaction G6PDH2r at 0x124ecc50090>,\n           <Reaction GLCpts at 0x124ece28190>,\n           <Reaction PGI at 0x124ecca7c10>})"
     },
     "execution_count": 24,
     "metadata": {},
     "output_type": "execute_result"
    }
   ],
   "source": [
    "model.metabolites.get_by_id(\"g6p_c\").reactions"
   ]
  },
  {
   "cell_type": "markdown",
   "metadata": {},
   "source": [
    "## 基因"
   ]
  },
  {
   "cell_type": "markdown",
   "metadata": {},
   "source": [
    "`gene_reaction_rule`是该反应活跃的基因要求的布尔值表示，[Schellenberger et al 2011 Nature Protocols 6(9):1290-307](http://dx.doi.org/doi:10.1038/nprot.2011.308).GPR作为GPR类存储在反应的GPR中。它的字符串表示形式存储为 Reaction 对象的gene_reaction_rule。"
   ]
  },
  {
   "cell_type": "code",
   "execution_count": 25,
   "metadata": {
    "ExecuteTime": {
     "end_time": "2024-01-13T09:13:05.786474300Z",
     "start_time": "2024-01-13T09:13:05.731952600Z"
    }
   },
   "outputs": [
    {
     "name": "stdout",
     "output_type": "stream",
     "text": [
      "b4025\n",
      "b4025\n"
     ]
    }
   ],
   "source": [
    "gpr = pgi.gpr\n",
    "print(gpr)\n",
    "gpr_string = pgi.gene_reaction_rule\n",
    "print(gpr_string)"
   ]
  },
  {
   "cell_type": "markdown",
   "metadata": {},
   "source": [
    "相应的基因对象也存在。这些对象由反应本身以及模型追踪。"
   ]
  },
  {
   "cell_type": "code",
   "execution_count": 26,
   "metadata": {
    "ExecuteTime": {
     "end_time": "2024-01-13T09:13:06.803161Z",
     "start_time": "2024-01-13T09:13:06.771113900Z"
    }
   },
   "outputs": [
    {
     "data": {
      "text/plain": "frozenset({<Gene b4025 at 0x124eccbd1d0>})"
     },
     "execution_count": 26,
     "metadata": {},
     "output_type": "execute_result"
    }
   ],
   "source": [
    "pgi.genes"
   ]
  },
  {
   "cell_type": "code",
   "execution_count": 27,
   "metadata": {
    "ExecuteTime": {
     "end_time": "2024-01-13T09:13:07.663652800Z",
     "start_time": "2024-01-13T09:13:07.642974700Z"
    }
   },
   "outputs": [
    {
     "data": {
      "text/plain": "<Gene b4025 at 0x124eccbd1d0>",
      "text/html": "\n        <table>\n            <tr>\n                <td><strong>Gene identifier</strong></td><td>b4025</td>\n            </tr><tr>\n                <td><strong>Name</strong></td><td>pgi</td>\n            </tr><tr>\n                <td><strong>Memory address</strong></td>\n                <td>0x124eccbd1d0</td>\n            </tr><tr>\n                <td><strong>Functional</strong></td><td>True</td>\n            </tr><tr>\n                <td><strong>In 1 reaction(s)</strong></td><td>\n                    PGI\n                    </td>\n            </tr>\n        </table>"
     },
     "execution_count": 27,
     "metadata": {},
     "output_type": "execute_result"
    }
   ],
   "source": [
    "pgi_gene = model.genes.get_by_id(\"b4025\")\n",
    "pgi_gene"
   ]
  },
  {
   "cell_type": "markdown",
   "metadata": {},
   "source": [
    "每个基因都追踪它催化的反应。"
   ]
  },
  {
   "cell_type": "code",
   "execution_count": 28,
   "metadata": {
    "ExecuteTime": {
     "end_time": "2024-01-13T09:13:08.730545600Z",
     "start_time": "2024-01-13T09:13:08.713682300Z"
    }
   },
   "outputs": [
    {
     "data": {
      "text/plain": "frozenset({<Reaction PGI at 0x124ecca7c10>})"
     },
     "execution_count": 28,
     "metadata": {},
     "output_type": "execute_result"
    }
   ],
   "source": [
    "pgi_gene.reactions"
   ]
  },
  {
   "cell_type": "markdown",
   "metadata": {},
   "source": [
    "如有必要，改变gene_reaction_rule将创建新的基因对象并更新所有关系。"
   ]
  },
  {
   "cell_type": "code",
   "execution_count": 29,
   "metadata": {
    "ExecuteTime": {
     "end_time": "2024-01-13T09:13:10.140873900Z",
     "start_time": "2024-01-13T09:13:09.804589700Z"
    }
   },
   "outputs": [
    {
     "data": {
      "text/plain": "frozenset({<Gene eggs at 0x124eea1bed0>, <Gene spam at 0x124eea1bfd0>})"
     },
     "execution_count": 29,
     "metadata": {},
     "output_type": "execute_result"
    }
   ],
   "source": [
    "pgi.gene_reaction_rule = \"(spam or eggs)\"\n",
    "pgi.genes"
   ]
  },
  {
   "cell_type": "code",
   "execution_count": 30,
   "metadata": {
    "ExecuteTime": {
     "end_time": "2024-01-13T09:13:10.239018700Z",
     "start_time": "2024-01-13T09:13:10.223384800Z"
    }
   },
   "outputs": [
    {
     "data": {
      "text/plain": "frozenset()"
     },
     "execution_count": 30,
     "metadata": {},
     "output_type": "execute_result"
    }
   ],
   "source": [
    "pgi_gene.reactions"
   ]
  },
  {
   "cell_type": "markdown",
   "metadata": {},
   "source": [
    "新创建的基因也能添加到模型中"
   ]
  },
  {
   "cell_type": "code",
   "execution_count": 31,
   "metadata": {
    "ExecuteTime": {
     "end_time": "2024-01-13T09:13:11.165960200Z",
     "start_time": "2024-01-13T09:13:11.143707800Z"
    }
   },
   "outputs": [
    {
     "data": {
      "text/plain": "<Gene spam at 0x124eea1bfd0>",
      "text/html": "\n        <table>\n            <tr>\n                <td><strong>Gene identifier</strong></td><td>spam</td>\n            </tr><tr>\n                <td><strong>Name</strong></td><td></td>\n            </tr><tr>\n                <td><strong>Memory address</strong></td>\n                <td>0x124eea1bfd0</td>\n            </tr><tr>\n                <td><strong>Functional</strong></td><td>True</td>\n            </tr><tr>\n                <td><strong>In 1 reaction(s)</strong></td><td>\n                    PGI\n                    </td>\n            </tr>\n        </table>"
     },
     "execution_count": 31,
     "metadata": {},
     "output_type": "execute_result"
    }
   ],
   "source": [
    "model.genes.get_by_id(\"spam\")"
   ]
  },
  {
   "cell_type": "markdown",
   "metadata": {},
   "source": [
    " `knock_out_model_genes`函数能够评估 GPR，并在反应被敲除时将上限和下限设置为 0。"
   ]
  },
  {
   "cell_type": "code",
   "execution_count": 32,
   "metadata": {
    "ExecuteTime": {
     "end_time": "2024-01-13T09:13:12.110904900Z",
     "start_time": "2024-01-13T09:13:12.094602Z"
    }
   },
   "outputs": [
    {
     "name": "stdout",
     "output_type": "stream",
     "text": [
      "after 1 KO: -1000 < flux_PGI < 1000\n",
      "after 2 KO:     0 < flux_PGI <    0\n"
     ]
    }
   ],
   "source": [
    "cobra.manipulation.knock_out_model_genes(\n",
    "    model, [\"spam\"])\n",
    "print(\"after 1 KO: %4d < flux_PGI < %4d\" % (pgi.lower_bound, pgi.upper_bound))\n",
    "\n",
    "cobra.manipulation.knock_out_model_genes(\n",
    "    model, [\"eggs\"])\n",
    "print(\"after 2 KO:  %4d < flux_PGI < %4d\" % (pgi.lower_bound, pgi.upper_bound))"
   ]
  },
  {
   "cell_type": "markdown",
   "metadata": {},
   "source": [
    "当在上下文中敲除模型基因时，它在离开上下文时会相反。"
   ]
  },
  {
   "cell_type": "markdown",
   "metadata": {},
   "source": [
    "很多时候，人们希望对模型进行一些小的更改并评估这些更改的影响。例如，我们可能希望按顺序敲除所有反应，看看这对目标函数有什么影响。一种方法是在每次敲除之前使用 `model.copy()` 创建模型的新副本。然而，即使使用小型模型，这也是一种非常缓慢的方法，因为模型是相当复杂的对象。更好的做法是进行敲除、优化，然后手动重置反应边界，然后再进行下一个反应。然而，由于这是一个非常常见的场景，cobrapy 允许我们将模型用作上下文，以自动恢复更改。"
   ]
  },
  {
   "cell_type": "code",
   "execution_count": 33,
   "metadata": {
    "ExecuteTime": {
     "end_time": "2024-01-13T09:13:13.807963Z",
     "start_time": "2024-01-13T09:13:13.635974100Z"
    }
   },
   "outputs": [
    {
     "name": "stdout",
     "output_type": "stream",
     "text": [
      "ACALD blocked (bounds: (0, 0)), new growth rate 0.873922\n",
      "ACALDt blocked (bounds: (0, 0)), new growth rate 0.873922\n",
      "ACKr blocked (bounds: (0, 0)), new growth rate 0.873922\n",
      "ACONTa blocked (bounds: (0, 0)), new growth rate -0.000000\n",
      "ACONTb blocked (bounds: (0, 0)), new growth rate -0.000000\n"
     ]
    }
   ],
   "source": [
    "model = load_model('textbook')\n",
    "for reaction in model.reactions[:5]:\n",
    "    with model as model:\n",
    "        reaction.knock_out()\n",
    "        model.optimize()\n",
    "        print('%s blocked (bounds: %s), new growth rate %f' %\n",
    "              (reaction.id, str(reaction.bounds), model.objective.value))"
   ]
  },
  {
   "cell_type": "markdown",
   "metadata": {},
   "source": [
    "如果我们看一下那些被敲击的反应，就会发现它们的界限都被恢复了。"
   ]
  },
  {
   "cell_type": "code",
   "execution_count": 34,
   "metadata": {
    "ExecuteTime": {
     "end_time": "2024-01-13T09:13:15.132136600Z",
     "start_time": "2024-01-13T09:13:15.091653400Z"
    }
   },
   "outputs": [
    {
     "data": {
      "text/plain": "[(-1000.0, 1000.0),\n (-1000.0, 1000.0),\n (-1000.0, 1000.0),\n (-1000.0, 1000.0),\n (-1000.0, 1000.0)]"
     },
     "execution_count": 34,
     "metadata": {},
     "output_type": "execute_result"
    }
   ],
   "source": [
    "[reaction.bounds for reaction in model.reactions[:5]]"
   ]
  },
  {
   "cell_type": "markdown",
   "metadata": {},
   "source": [
    "上下文也支持被嵌套"
   ]
  },
  {
   "cell_type": "code",
   "execution_count": 35,
   "metadata": {
    "ExecuteTime": {
     "end_time": "2024-01-13T09:13:16.260110300Z",
     "start_time": "2024-01-13T09:13:16.227079300Z"
    }
   },
   "outputs": [
    {
     "name": "stdout",
     "output_type": "stream",
     "text": [
      "original objective:  1.0*Biomass_Ecoli_core - 1.0*Biomass_Ecoli_core_reverse_2cdba\n",
      "print objective in first context: 1.0*ATPM - 1.0*ATPM_reverse_5b752\n",
      "print objective in second context: 1.0*ACALD - 1.0*ACALD_reverse_fda2b\n",
      "objective after exiting second context: 1.0*ATPM - 1.0*ATPM_reverse_5b752\n",
      "back to original objective: 1.0*Biomass_Ecoli_core - 1.0*Biomass_Ecoli_core_reverse_2cdba\n"
     ]
    }
   ],
   "source": [
    "print('original objective: ', model.objective.expression)\n",
    "with model:\n",
    "    model.objective = 'ATPM'\n",
    "    print('print objective in first context:', model.objective.expression)\n",
    "    with model:\n",
    "        model.objective = 'ACALD'\n",
    "        print('print objective in second context:', model.objective.expression)\n",
    "    print('objective after exiting second context:',\n",
    "          model.objective.expression)\n",
    "print('back to original objective:', model.objective.expression)"
   ]
  },
  {
   "cell_type": "markdown",
   "metadata": {},
   "source": [
    "大多数修改模型的方法都像这样支持，包括添加和去除反应和代谢物以及设定目标。支持的方法和函数在相应的文档中提到了这一点。"
   ]
  },
  {
   "cell_type": "markdown",
   "metadata": {},
   "source": [
    "虽然它没有任何实际效果，但为了语法上的方便，也可以使用与上下文外部不同的名称来引用模型。如"
   ]
  },
  {
   "cell_type": "code",
   "execution_count": 36,
   "metadata": {
    "ExecuteTime": {
     "end_time": "2024-01-13T09:13:18.064470700Z",
     "start_time": "2024-01-13T09:13:18.045948200Z"
    }
   },
   "outputs": [],
   "source": [
    "with model as inner:\n",
    "    inner.reactions.PFK.knock_out"
   ]
  }
 ],
 "metadata": {
  "kernelspec": {
   "display_name": "Python 3 (ipykernel)",
   "language": "python",
   "name": "python3"
  },
  "language_info": {
   "codemirror_mode": {
    "name": "ipython",
    "version": 3
   },
   "file_extension": ".py",
   "mimetype": "text/x-python",
   "name": "python",
   "nbconvert_exporter": "python",
   "pygments_lexer": "ipython3",
   "version": "3.8.18"
  }
 },
 "nbformat": 4,
 "nbformat_minor": 4
}

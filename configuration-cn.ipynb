{
 "cells": [
  {
   "cell_type": "markdown",
   "metadata": {},
   "source": [
    "# 全局配置"
   ]
  },
  {
   "cell_type": "markdown",
   "metadata": {},
   "source": [
    "在 cobra > 0.13.4 中，我们引入了一个全局配置对象。现在，您可以配置默认的反应边界和优化求解器，新创建的反应和模型将遵循这些求解器。"
   ]
  },
  {
   "cell_type": "markdown",
   "metadata": {},
   "source": [
    "## 配置对象"
   ]
  },
  {
   "cell_type": "markdown",
   "metadata": {},
   "source": [
    "您可以通过以下方式获取配置对象 1："
   ]
  },
  {
   "cell_type": "code",
   "execution_count": 1,
   "metadata": {
    "ExecuteTime": {
     "end_time": "2024-03-18T12:35:10.627319600Z",
     "start_time": "2024-03-18T12:35:05.432317800Z"
    }
   },
   "outputs": [],
   "source": [
    "import cobra"
   ]
  },
  {
   "cell_type": "code",
   "execution_count": 2,
   "metadata": {
    "ExecuteTime": {
     "end_time": "2024-03-18T12:35:19.834767200Z",
     "start_time": "2024-03-18T12:35:19.820815300Z"
    }
   },
   "outputs": [],
   "source": [
    "cobra_config = cobra.Configuration()"
   ]
  },
  {
   "cell_type": "markdown",
   "metadata": {},
   "source": [
    "1配置对象是单例。这意味着只能存在一个实例，并且在 COBRApy 中到处都被接受。"
   ]
  },
  {
   "cell_type": "markdown",
   "metadata": {},
   "source": [
    "## 反应边界"
   ]
  },
  {
   "cell_type": "markdown",
   "metadata": {},
   "source": [
    "该对象具有以下属性，你可以检查这些属性，也可以根据需要进行更改。"
   ]
  },
  {
   "cell_type": "code",
   "execution_count": 3,
   "metadata": {
    "ExecuteTime": {
     "end_time": "2024-03-18T12:35:23.496905300Z",
     "start_time": "2024-03-18T12:35:23.467481Z"
    }
   },
   "outputs": [
    {
     "data": {
      "text/plain": "-1000.0"
     },
     "execution_count": 3,
     "metadata": {},
     "output_type": "execute_result"
    }
   ],
   "source": [
    "cobra_config.lower_bound"
   ]
  },
  {
   "cell_type": "code",
   "execution_count": 4,
   "metadata": {
    "ExecuteTime": {
     "end_time": "2024-03-18T12:35:23.836849700Z",
     "start_time": "2024-03-18T12:35:23.816239100Z"
    }
   },
   "outputs": [
    {
     "data": {
      "text/plain": "1000.0"
     },
     "execution_count": 4,
     "metadata": {},
     "output_type": "execute_result"
    }
   ],
   "source": [
    "cobra_config.upper_bound"
   ]
  },
  {
   "cell_type": "code",
   "execution_count": 5,
   "metadata": {
    "ExecuteTime": {
     "end_time": "2024-03-18T12:35:24.364730300Z",
     "start_time": "2024-03-18T12:35:24.357156600Z"
    }
   },
   "outputs": [
    {
     "data": {
      "text/plain": "(-1000.0, 1000.0)"
     },
     "execution_count": 5,
     "metadata": {},
     "output_type": "execute_result"
    }
   ],
   "source": [
    "cobra_config.bounds"
   ]
  },
  {
   "cell_type": "markdown",
   "metadata": {},
   "source": [
    "### 更改边界"
   ]
  },
  {
   "cell_type": "markdown",
   "metadata": {},
   "source": [
    "你可在反应前修改并使用这些值。"
   ]
  },
  {
   "cell_type": "code",
   "execution_count": 6,
   "metadata": {
    "ExecuteTime": {
     "end_time": "2024-03-18T12:35:27.191913500Z",
     "start_time": "2024-03-18T12:35:27.169392600Z"
    }
   },
   "outputs": [],
   "source": [
    "cobra_config.bounds = -10, 20"
   ]
  },
  {
   "cell_type": "code",
   "execution_count": 7,
   "metadata": {
    "ExecuteTime": {
     "end_time": "2024-03-18T12:35:29.856026400Z",
     "start_time": "2024-03-18T12:35:29.837998Z"
    }
   },
   "outputs": [
    {
     "data": {
      "text/plain": "<Reaction R1 at 0x1a995d9a150>",
      "text/html": "\n        <table>\n            <tr>\n                <td><strong>Reaction identifier</strong></td><td>R1</td>\n            </tr><tr>\n                <td><strong>Name</strong></td><td></td>\n            </tr><tr>\n                <td><strong>Memory address</strong></td>\n                <td>0x1a995d9a150</td>\n            </tr><tr>\n                <td><strong>Stoichiometry</strong></td>\n                <td>\n                    <p style='text-align:right'>--></p>\n                    <p style='text-align:right'>--></p>\n                </td>\n            </tr><tr>\n                <td><strong>GPR</strong></td><td></td>\n            </tr><tr>\n                <td><strong>Lower bound</strong></td><td>0.0</td>\n            </tr><tr>\n                <td><strong>Upper bound</strong></td><td>20</td>\n            </tr>\n        </table>\n        "
     },
     "execution_count": 7,
     "metadata": {},
     "output_type": "execute_result"
    }
   ],
   "source": [
    "cobra.Reaction(\"R1\")"
   ]
  },
  {
   "cell_type": "markdown",
   "metadata": {},
   "source": [
    "请注意，默认情况下，反应是不可逆的。你可以通过取消设置下限参数来更改此行为。"
   ]
  },
  {
   "cell_type": "code",
   "execution_count": 8,
   "metadata": {
    "ExecuteTime": {
     "end_time": "2024-03-18T12:35:31.938860400Z",
     "start_time": "2024-03-18T12:35:31.903980800Z"
    }
   },
   "outputs": [
    {
     "data": {
      "text/plain": "<Reaction R2 at 0x1a995f25fd0>",
      "text/html": "\n        <table>\n            <tr>\n                <td><strong>Reaction identifier</strong></td><td>R2</td>\n            </tr><tr>\n                <td><strong>Name</strong></td><td></td>\n            </tr><tr>\n                <td><strong>Memory address</strong></td>\n                <td>0x1a995f25fd0</td>\n            </tr><tr>\n                <td><strong>Stoichiometry</strong></td>\n                <td>\n                    <p style='text-align:right'><=></p>\n                    <p style='text-align:right'><=></p>\n                </td>\n            </tr><tr>\n                <td><strong>GPR</strong></td><td></td>\n            </tr><tr>\n                <td><strong>Lower bound</strong></td><td>-10</td>\n            </tr><tr>\n                <td><strong>Upper bound</strong></td><td>20</td>\n            </tr>\n        </table>\n        "
     },
     "execution_count": 8,
     "metadata": {},
     "output_type": "execute_result"
    }
   ],
   "source": [
    "cobra.Reaction(\"R2\", lower_bound=None)"
   ]
  },
  {
   "cell_type": "markdown",
   "metadata": {},
   "source": [
    "注意：大多数模型都明确定义了反应边界，该边界优先于配置的值。"
   ]
  },
  {
   "cell_type": "code",
   "execution_count": 9,
   "metadata": {
    "ExecuteTime": {
     "end_time": "2024-03-18T12:35:36.250549900Z",
     "start_time": "2024-03-18T12:35:36.235061800Z"
    }
   },
   "outputs": [],
   "source": [
    "from cobra.io import load_model"
   ]
  },
  {
   "cell_type": "code",
   "execution_count": 10,
   "metadata": {
    "ExecuteTime": {
     "end_time": "2024-03-18T12:35:37.706310800Z",
     "start_time": "2024-03-18T12:35:37.459925200Z"
    }
   },
   "outputs": [],
   "source": [
    "model = load_model(\"textbook\")"
   ]
  },
  {
   "cell_type": "code",
   "execution_count": 11,
   "metadata": {
    "ExecuteTime": {
     "end_time": "2024-03-18T12:35:40.444728400Z",
     "start_time": "2024-03-18T12:35:40.414870100Z"
    }
   },
   "outputs": [
    {
     "data": {
      "text/plain": "<Reaction ACt2r at 0x1a995d987d0>",
      "text/html": "\n        <table>\n            <tr>\n                <td><strong>Reaction identifier</strong></td><td>ACt2r</td>\n            </tr><tr>\n                <td><strong>Name</strong></td><td>R acetate reversible transport via proton - symport</td>\n            </tr><tr>\n                <td><strong>Memory address</strong></td>\n                <td>0x1a995d987d0</td>\n            </tr><tr>\n                <td><strong>Stoichiometry</strong></td>\n                <td>\n                    <p style='text-align:right'>ac_e + h_e <=> ac_c + h_c</p>\n                    <p style='text-align:right'>Acetate + H+ <=> Acetate + H+</p>\n                </td>\n            </tr><tr>\n                <td><strong>GPR</strong></td><td></td>\n            </tr><tr>\n                <td><strong>Lower bound</strong></td><td>-1000.0</td>\n            </tr><tr>\n                <td><strong>Upper bound</strong></td><td>1000.0</td>\n            </tr>\n        </table>\n        "
     },
     "execution_count": 11,
     "metadata": {},
     "output_type": "execute_result"
    }
   ],
   "source": [
    "model.reactions.ACt2r"
   ]
  },
  {
   "cell_type": "markdown",
   "metadata": {},
   "source": [
    "## Solver"
   ]
  },
  {
   "cell_type": "markdown",
   "metadata": {},
   "source": [
    "你可以通过新实例化模型来定义默认求解器。默认求解器取决于您的环境。为了测试 Gurobi、CPLEX 和 GLPK 的可用性。假定 GLPK 始终存在于环境中。"
   ]
  },
  {
   "cell_type": "code",
   "execution_count": 12,
   "metadata": {
    "ExecuteTime": {
     "end_time": "2024-03-18T12:35:43.602825800Z",
     "start_time": "2024-03-18T12:35:43.593410300Z"
    }
   },
   "outputs": [
    {
     "data": {
      "text/plain": "<optlang.cplex_interface.Model at 0x1a995d8b950>"
     },
     "execution_count": 12,
     "metadata": {},
     "output_type": "execute_result"
    }
   ],
   "source": [
    "model.solver"
   ]
  },
  {
   "cell_type": "markdown",
   "metadata": {},
   "source": [
    "更改Solver"
   ]
  },
  {
   "cell_type": "code",
   "execution_count": 13,
   "metadata": {
    "ExecuteTime": {
     "end_time": "2024-03-18T12:35:51.061101500Z",
     "start_time": "2024-03-18T12:35:51.045573100Z"
    }
   },
   "outputs": [],
   "source": [
    "cobra_config.solver = \"glpk_exact\""
   ]
  },
  {
   "cell_type": "code",
   "execution_count": 14,
   "metadata": {
    "ExecuteTime": {
     "end_time": "2024-03-18T12:35:54.123219900Z",
     "start_time": "2024-03-18T12:35:53.923045100Z"
    }
   },
   "outputs": [],
   "source": [
    "new_model = load_model(\"textbook\")"
   ]
  },
  {
   "cell_type": "code",
   "execution_count": 15,
   "metadata": {
    "ExecuteTime": {
     "end_time": "2024-03-18T12:35:55.328463900Z",
     "start_time": "2024-03-18T12:35:55.301747900Z"
    }
   },
   "outputs": [
    {
     "data": {
      "text/plain": "<optlang.glpk_exact_interface.Model at 0x1a995e65d10>"
     },
     "execution_count": 15,
     "metadata": {},
     "output_type": "execute_result"
    }
   ],
   "source": [
    "new_model.solver"
   ]
  },
  {
   "cell_type": "markdown",
   "metadata": {},
   "source": [
    "更改全局配置值在工作会话开始时最有用。"
   ]
  }
 ],
 "metadata": {
  "kernelspec": {
   "display_name": "Python 3 (ipykernel)",
   "language": "python",
   "name": "python3"
  },
  "language_info": {
   "codemirror_mode": {
    "name": "ipython",
    "version": 3
   },
   "file_extension": ".py",
   "mimetype": "text/x-python",
   "name": "python",
   "nbconvert_exporter": "python",
   "pygments_lexer": "ipython3",
   "version": "3.8.18"
  },
  "toc": {
   "base_numbering": 1,
   "nav_menu": {},
   "number_sections": false,
   "sideBar": true,
   "skip_h1_title": true,
   "title_cell": "Table of Contents",
   "title_sidebar": "Table of Contents",
   "toc_cell": false,
   "toc_position": {},
   "toc_section_display": true,
   "toc_window_display": true
  }
 },
 "nbformat": 4,
 "nbformat_minor": 4
}

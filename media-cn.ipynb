{
 "cells": [
  {
   "cell_type": "markdown",
   "metadata": {
    "tags": []
   },
   "source": [
    "## 生长培养基\n",
    "\n",
    "营养物质的可用性对代谢通量有重大影响，`cobrapy`为管理外部环境与代谢模型之间的交换提供了一些帮助。在实验环境中，“环境”通常是由生长介质构成的，因此，所有代谢物和辅助因子的浓度都是模型生物可用的。然而，基于约束的代谢模型只考虑通量。因此，不能简单地使用浓度，因为通量的单位是`mmol / [gDW h]` 每克细胞干重和每小时的浓度)。\n",
    "此外，您正在为特定导入通量设置上限，而不是为通量本身设置上限。这里有一些粗略的近似。例如，如果你每24小时向1克细菌提供1摩尔葡萄糖，你可以将葡萄糖的最高交换通量设置为1摩尔/`1 mol / [1 gDW * 24 h]` ，因为这是可以进口的名义最大值。但不能保证葡萄糖会随流量被消耗。因此，交换通量的优选数据是直接通量测量，例如从时间过程外代谢组测量中获得的数据。\n",
    "那么在 COBRApy 中是什么样子的呢？模型的当前增长介质由“medium”属性管理。"
   ]
  },
  {
   "cell_type": "code",
   "execution_count": 1,
   "metadata": {
    "ExecuteTime": {
     "end_time": "2024-01-13T09:15:32.690467800Z",
     "start_time": "2024-01-13T09:15:30.538665500Z"
    }
   },
   "outputs": [
    {
     "data": {
      "text/plain": "{'EX_co2_e': 1000.0,\n 'EX_glc__D_e': 10.0,\n 'EX_h_e': 1000.0,\n 'EX_h2o_e': 1000.0,\n 'EX_nh4_e': 1000.0,\n 'EX_o2_e': 1000.0,\n 'EX_pi_e': 1000.0}"
     },
     "execution_count": 1,
     "metadata": {},
     "output_type": "execute_result"
    }
   ],
   "source": [
    "from cobra.io import load_model\n",
    "\n",
    "model = load_model(\"textbook\")\n",
    "model.medium"
   ]
  },
  {
   "cell_type": "markdown",
   "metadata": {},
   "source": [
    "这将返回一个包含所有活动交换通量(具有非零通量边界的交换通量)的通量上限字典。现在我们看到我们已经实现了有氧生长。您可以通过将字典分配给模型来修改模型的生长介质。`model.medium` ，将交换反应映射到各自的进口上限。现在让我们通过关闭氧气输入来强制厌氧生长。"
   ]
  },
  {
   "cell_type": "code",
   "execution_count": 2,
   "metadata": {
    "ExecuteTime": {
     "end_time": "2024-01-13T09:15:32.707876600Z",
     "start_time": "2024-01-13T09:15:32.691465500Z"
    }
   },
   "outputs": [
    {
     "data": {
      "text/plain": "{'EX_co2_e': 1000.0,\n 'EX_glc__D_e': 10.0,\n 'EX_h_e': 1000.0,\n 'EX_h2o_e': 1000.0,\n 'EX_nh4_e': 1000.0,\n 'EX_pi_e': 1000.0}"
     },
     "execution_count": 2,
     "metadata": {},
     "output_type": "execute_result"
    }
   ],
   "source": [
    "medium = model.medium\n",
    "medium[\"EX_o2_e\"] = 0.0\n",
    "model.medium = medium\n",
    "\n",
    "model.medium"
   ]
  },
  {
   "cell_type": "markdown",
   "metadata": {},
   "source": [
    "正如我们所看到的，氧气进口现在从活跃的交换列表中删除，我们可以验证这也导致了较低的增长率。"
   ]
  },
  {
   "cell_type": "code",
   "execution_count": 3,
   "metadata": {
    "ExecuteTime": {
     "end_time": "2024-01-13T09:15:32.744682800Z",
     "start_time": "2024-01-13T09:15:32.701527700Z"
    }
   },
   "outputs": [
    {
     "data": {
      "text/plain": "0.21166294973531258"
     },
     "execution_count": 3,
     "metadata": {},
     "output_type": "execute_result"
    }
   ],
   "source": [
    "model.slim_optimize()"
   ]
  },
  {
   "cell_type": "markdown",
   "metadata": {},
   "source": [
    "这里有个小陷阱。 因为`model.medium`不能直接分配，所以以下操作将不起作用:"
   ]
  },
  {
   "cell_type": "code",
   "execution_count": 4,
   "metadata": {
    "ExecuteTime": {
     "end_time": "2024-01-13T09:15:32.745683Z",
     "start_time": "2024-01-13T09:15:32.709876700Z"
    }
   },
   "outputs": [
    {
     "data": {
      "text/plain": "{'EX_co2_e': 1000.0,\n 'EX_glc__D_e': 10.0,\n 'EX_h_e': 1000.0,\n 'EX_h2o_e': 1000.0,\n 'EX_nh4_e': 1000.0,\n 'EX_pi_e': 1000.0}"
     },
     "execution_count": 4,
     "metadata": {},
     "output_type": "execute_result"
    }
   ],
   "source": [
    "model.medium[\"EX_co2_e\"] = 0.0\n",
    "model.medium"
   ]
  },
  {
   "cell_type": "markdown",
   "metadata": {},
   "source": [
    "正如你所看到的，`EX_co2_e`没有设置为零。这是因为model.medium只是当前交换通量的副本。直接用`model.medium[...] = ...` 不会改变模式。你必须用改变后的导入通量上界来分配整个字典:"
   ]
  },
  {
   "cell_type": "code",
   "execution_count": 5,
   "metadata": {
    "ExecuteTime": {
     "end_time": "2024-01-13T09:15:32.746684200Z",
     "start_time": "2024-01-13T09:15:32.727605700Z"
    }
   },
   "outputs": [
    {
     "data": {
      "text/plain": "{'EX_glc__D_e': 10.0,\n 'EX_h_e': 1000.0,\n 'EX_h2o_e': 1000.0,\n 'EX_nh4_e': 1000.0,\n 'EX_pi_e': 1000.0}"
     },
     "execution_count": 5,
     "metadata": {},
     "output_type": "execute_result"
    }
   ],
   "source": [
    "medium = model.medium\n",
    "medium[\"EX_co2_e\"] = 0.0\n",
    "model.medium = medium\n",
    "\n",
    "model.medium  # now it worked"
   ]
  },
  {
   "cell_type": "markdown",
   "metadata": {},
   "source": [
    "设置生长介质还连接到上下文管理器，因此您可以以可逆的方式设置特定的生长介质。"
   ]
  },
  {
   "cell_type": "code",
   "execution_count": 6,
   "metadata": {
    "ExecuteTime": {
     "end_time": "2024-01-13T09:15:33.079613900Z",
     "start_time": "2024-01-13T09:15:32.908274400Z"
    }
   },
   "outputs": [
    {
     "name": "stdout",
     "output_type": "stream",
     "text": [
      "0.21166294973531258\n",
      "0.8739215069684315\n"
     ]
    },
    {
     "data": {
      "text/plain": "{'EX_co2_e': 1000.0,\n 'EX_glc__D_e': 10.0,\n 'EX_h_e': 1000.0,\n 'EX_h2o_e': 1000.0,\n 'EX_nh4_e': 1000.0,\n 'EX_o2_e': 1000.0,\n 'EX_pi_e': 1000.0}"
     },
     "execution_count": 6,
     "metadata": {},
     "output_type": "execute_result"
    }
   ],
   "source": [
    "model = load_model(\"textbook\")\n",
    "\n",
    "with model:\n",
    "    medium = model.medium\n",
    "    medium[\"EX_o2_e\"] = 0.0\n",
    "    model.medium = medium\n",
    "    print(model.slim_optimize())\n",
    "print(model.slim_optimize())\n",
    "model.medium"
   ]
  },
  {
   "cell_type": "markdown",
   "metadata": {},
   "source": [
    "因此，介质变化仅在`with`块内应用并自动恢复。"
   ]
  },
  {
   "cell_type": "markdown",
   "metadata": {},
   "source": [
    "## 最小培养基\n",
    "\n",
    "在某些情况下，您可能对能够保持特定生长速率的最小生长介质感兴趣，即所谓的最小介质。为此，我们提供了minimal_medium`函数，默认情况下获得具有最低总进口通量的介质。这个函数需要两个参数:模型和其必须达到的最小增长率(或其他目标)。"
   ]
  },
  {
   "cell_type": "code",
   "execution_count": 15,
   "metadata": {
    "ExecuteTime": {
     "end_time": "2024-01-13T09:17:13.126816400Z",
     "start_time": "2024-01-13T09:17:13.117997200Z"
    }
   },
   "outputs": [
    {
     "name": "stderr",
     "output_type": "stream",
     "text": [
      "d:\\ProgramData\\anaconda3\\Lib\\site-packages\\cobra\\medium\\minimal_medium.py:112: FutureWarning: The default dtype for empty Series will be 'object' instead of 'float64' in a future version. Specify a dtype explicitly to silence this warning.\n",
      "  medium = pd.Series()\n"
     ]
    },
    {
     "data": {
      "text/plain": "EX_glc__D_e    10.000000\nEX_nh4_e        4.765319\nEX_o2_e        21.799493\nEX_pi_e         3.214895\ndtype: float64"
     },
     "execution_count": 15,
     "metadata": {},
     "output_type": "execute_result"
    }
   ],
   "source": [
    "from cobra.medium import minimal_medium\n",
    "\n",
    "max_growth = model.slim_optimize()\n",
    "minimal_medium(model, max_growth)"
   ]
  },
  {
   "cell_type": "markdown",
   "metadata": {},
   "source": [
    "所以我们看到生长实际上受到葡萄糖输入的限制。\n",
    "或者，您可能对具有最少数量的活动导入的最小介质感兴趣。这可以通过使用`minimize_components`参数来实现(注意，这使用了MIP公式，因此会慢得多)。"
   ]
  },
  {
   "cell_type": "code",
   "execution_count": 8,
   "metadata": {
    "ExecuteTime": {
     "end_time": "2024-01-13T09:15:34.102178600Z",
     "start_time": "2024-01-13T09:15:34.082199100Z"
    }
   },
   "outputs": [
    {
     "name": "stderr",
     "output_type": "stream",
     "text": [
      "d:\\ProgramData\\anaconda3\\Lib\\site-packages\\cobra\\medium\\minimal_medium.py:112: FutureWarning: The default dtype for empty Series will be 'object' instead of 'float64' in a future version. Specify a dtype explicitly to silence this warning.\n",
      "  medium = pd.Series()\n"
     ]
    },
    {
     "data": {
      "text/plain": "EX_glc__D_e    10.00000\nEX_nh4_e        0.54528\nEX_pi_e         0.36787\ndtype: float64"
     },
     "execution_count": 8,
     "metadata": {},
     "output_type": "execute_result"
    }
   ],
   "source": [
    "minimal_medium(model, 0.1, minimize_components=True)"
   ]
  },
  {
   "cell_type": "markdown",
   "metadata": {},
   "source": [
    "在尽量减少进口通量的数量时，可能有许多替代解决方案。为了得到其中的几个，你也可以传递一个正整数来`minimize_components`，这将给你最多50个备选解。让我们在我们的模型中尝试一下，并使用 `open_exchanges` 参数，该参数将为模型中的所有进口反应分配一个大的上界。返回类型将是`pandas.DataFrame`。"
   ]
  },
  {
   "cell_type": "code",
   "execution_count": 9,
   "metadata": {
    "ExecuteTime": {
     "end_time": "2024-01-13T09:15:34.764854300Z",
     "start_time": "2024-01-13T09:15:34.650084500Z"
    }
   },
   "outputs": [
    {
     "name": "stderr",
     "output_type": "stream",
     "text": [
      "d:\\ProgramData\\anaconda3\\Lib\\site-packages\\cobra\\medium\\minimal_medium.py:112: FutureWarning: The default dtype for empty Series will be 'object' instead of 'float64' in a future version. Specify a dtype explicitly to silence this warning.\n",
      "  medium = pd.Series()\n",
      "d:\\ProgramData\\anaconda3\\Lib\\site-packages\\cobra\\medium\\minimal_medium.py:112: FutureWarning: The default dtype for empty Series will be 'object' instead of 'float64' in a future version. Specify a dtype explicitly to silence this warning.\n",
      "  medium = pd.Series()\n",
      "d:\\ProgramData\\anaconda3\\Lib\\site-packages\\cobra\\medium\\minimal_medium.py:112: FutureWarning: The default dtype for empty Series will be 'object' instead of 'float64' in a future version. Specify a dtype explicitly to silence this warning.\n",
      "  medium = pd.Series()\n",
      "d:\\ProgramData\\anaconda3\\Lib\\site-packages\\cobra\\medium\\minimal_medium.py:112: FutureWarning: The default dtype for empty Series will be 'object' instead of 'float64' in a future version. Specify a dtype explicitly to silence this warning.\n",
      "  medium = pd.Series()\n",
      "d:\\ProgramData\\anaconda3\\Lib\\site-packages\\cobra\\medium\\minimal_medium.py:112: FutureWarning: The default dtype for empty Series will be 'object' instead of 'float64' in a future version. Specify a dtype explicitly to silence this warning.\n",
      "  medium = pd.Series()\n",
      "d:\\ProgramData\\anaconda3\\Lib\\site-packages\\cobra\\medium\\minimal_medium.py:112: FutureWarning: The default dtype for empty Series will be 'object' instead of 'float64' in a future version. Specify a dtype explicitly to silence this warning.\n",
      "  medium = pd.Series()\n"
     ]
    },
    {
     "data": {
      "text/plain": "                      0          1          2          3           4  \\\nEX_fru_e       0.000000  308.82944    0.00000   0.000000    0.000000   \nEX_glc__D_e    0.000000    0.00000  308.82944  31.084608  502.051914   \nEX_gln__L_e    0.000000    0.00000    0.00000   2.181120    0.000000   \nEX_glu__L_e  346.141716    4.36224    4.36224   0.000000    0.000000   \nEX_mal__L_e    0.000000    0.00000    0.00000   0.000000    0.000000   \nEX_nh4_e       0.000000    0.00000    0.00000   0.000000    8.417918   \nEX_o2_e      500.000000    0.00000    0.00000   0.000000    0.000000   \nEX_pi_e       65.104125    2.94296    2.94296   2.942960    5.679100   \n\n                       5  \nEX_fru_e        0.000000  \nEX_glc__D_e     0.000000  \nEX_gln__L_e     0.000000  \nEX_glu__L_e    24.798770  \nEX_mal__L_e  1000.000000  \nEX_nh4_e        0.000000  \nEX_o2_e         0.000000  \nEX_pi_e        15.546299  ",
      "text/html": "<div>\n<style scoped>\n    .dataframe tbody tr th:only-of-type {\n        vertical-align: middle;\n    }\n\n    .dataframe tbody tr th {\n        vertical-align: top;\n    }\n\n    .dataframe thead th {\n        text-align: right;\n    }\n</style>\n<table border=\"1\" class=\"dataframe\">\n  <thead>\n    <tr style=\"text-align: right;\">\n      <th></th>\n      <th>0</th>\n      <th>1</th>\n      <th>2</th>\n      <th>3</th>\n      <th>4</th>\n      <th>5</th>\n    </tr>\n  </thead>\n  <tbody>\n    <tr>\n      <th>EX_fru_e</th>\n      <td>0.000000</td>\n      <td>308.82944</td>\n      <td>0.00000</td>\n      <td>0.000000</td>\n      <td>0.000000</td>\n      <td>0.000000</td>\n    </tr>\n    <tr>\n      <th>EX_glc__D_e</th>\n      <td>0.000000</td>\n      <td>0.00000</td>\n      <td>308.82944</td>\n      <td>31.084608</td>\n      <td>502.051914</td>\n      <td>0.000000</td>\n    </tr>\n    <tr>\n      <th>EX_gln__L_e</th>\n      <td>0.000000</td>\n      <td>0.00000</td>\n      <td>0.00000</td>\n      <td>2.181120</td>\n      <td>0.000000</td>\n      <td>0.000000</td>\n    </tr>\n    <tr>\n      <th>EX_glu__L_e</th>\n      <td>346.141716</td>\n      <td>4.36224</td>\n      <td>4.36224</td>\n      <td>0.000000</td>\n      <td>0.000000</td>\n      <td>24.798770</td>\n    </tr>\n    <tr>\n      <th>EX_mal__L_e</th>\n      <td>0.000000</td>\n      <td>0.00000</td>\n      <td>0.00000</td>\n      <td>0.000000</td>\n      <td>0.000000</td>\n      <td>1000.000000</td>\n    </tr>\n    <tr>\n      <th>EX_nh4_e</th>\n      <td>0.000000</td>\n      <td>0.00000</td>\n      <td>0.00000</td>\n      <td>0.000000</td>\n      <td>8.417918</td>\n      <td>0.000000</td>\n    </tr>\n    <tr>\n      <th>EX_o2_e</th>\n      <td>500.000000</td>\n      <td>0.00000</td>\n      <td>0.00000</td>\n      <td>0.000000</td>\n      <td>0.000000</td>\n      <td>0.000000</td>\n    </tr>\n    <tr>\n      <th>EX_pi_e</th>\n      <td>65.104125</td>\n      <td>2.94296</td>\n      <td>2.94296</td>\n      <td>2.942960</td>\n      <td>5.679100</td>\n      <td>15.546299</td>\n    </tr>\n  </tbody>\n</table>\n</div>"
     },
     "execution_count": 9,
     "metadata": {},
     "output_type": "execute_result"
    }
   ],
   "source": [
    "minimal_medium(model, 0.8, minimize_components=8, open_exchanges=True)"
   ]
  },
  {
   "cell_type": "markdown",
   "metadata": {},
   "source": [
    "所以总共有4个解。一个好氧和三个厌氧使用不同的碳源。"
   ]
  },
  {
   "cell_type": "markdown",
   "metadata": {},
   "source": [
    "## 边界反应\n",
    "除交换反应外，还有其他类型的边界反应，如需求反应或吸收反应。`cobrapy` 使用各种启发式方法来识别它们，并且可以通过使用适当的属性来访问它们。对于交换反应:"
   ]
  },
  {
   "cell_type": "code",
   "execution_count": 10,
   "metadata": {
    "ExecuteTime": {
     "end_time": "2024-01-13T09:15:39.166015Z",
     "start_time": "2024-01-13T09:15:35.404772500Z"
    }
   },
   "outputs": [
    {
     "data": {
      "text/plain": "[<Reaction EX_12ppd__R_e at 0x21342599f10>,\n <Reaction EX_12ppd__S_e at 0x21342576390>,\n <Reaction EX_14glucan_e at 0x21342576350>,\n <Reaction EX_15dap_e at 0x21342576750>,\n <Reaction EX_23camp_e at 0x21342576b10>]"
     },
     "execution_count": 10,
     "metadata": {},
     "output_type": "execute_result"
    }
   ],
   "source": [
    "ecoli = load_model(\"iJO1366\")\n",
    "ecoli.exchanges[0:5]"
   ]
  },
  {
   "cell_type": "markdown",
   "metadata": {},
   "source": [
    "对于需求反应:"
   ]
  },
  {
   "cell_type": "code",
   "execution_count": 11,
   "metadata": {
    "ExecuteTime": {
     "end_time": "2024-01-13T09:15:39.239273900Z",
     "start_time": "2024-01-13T09:15:39.170435300Z"
    }
   },
   "outputs": [
    {
     "data": {
      "text/plain": "[<Reaction DM_4crsol_c at 0x21342573a50>,\n <Reaction DM_5drib_c at 0x21342573bd0>,\n <Reaction DM_aacald_c at 0x21342574450>,\n <Reaction DM_amob_c at 0x21342574810>,\n <Reaction DM_mththf_c at 0x21342574c10>,\n <Reaction DM_oxam_c at 0x21342574fd0>]"
     },
     "execution_count": 11,
     "metadata": {},
     "output_type": "execute_result"
    }
   ],
   "source": [
    "ecoli.demands"
   ]
  },
  {
   "cell_type": "markdown",
   "metadata": {},
   "source": [
    "对于汇反应:"
   ]
  },
  {
   "cell_type": "code",
   "execution_count": 16,
   "metadata": {
    "ExecuteTime": {
     "end_time": "2024-01-13T09:17:41.249397700Z",
     "start_time": "2024-01-13T09:17:41.205445800Z"
    }
   },
   "outputs": [
    {
     "data": {
      "text/plain": "[]"
     },
     "execution_count": 16,
     "metadata": {},
     "output_type": "execute_result"
    }
   ],
   "source": [
    "ecoli.sinks"
   ]
  },
  {
   "cell_type": "markdown",
   "metadata": {},
   "source": [
    "所有边界反应(任何消耗或引入质量到系统中的反应)都可以用`boundary`属性获得:"
   ]
  },
  {
   "cell_type": "code",
   "execution_count": 13,
   "metadata": {
    "ExecuteTime": {
     "end_time": "2024-01-13T09:15:39.263367700Z",
     "start_time": "2024-01-13T09:15:39.241271700Z"
    }
   },
   "outputs": [
    {
     "data": {
      "text/plain": "[<Reaction DM_4crsol_c at 0x21342573a50>,\n <Reaction DM_5drib_c at 0x21342573bd0>,\n <Reaction DM_aacald_c at 0x21342574450>,\n <Reaction DM_amob_c at 0x21342574810>,\n <Reaction DM_mththf_c at 0x21342574c10>,\n <Reaction DM_oxam_c at 0x21342574fd0>,\n <Reaction EX_12ppd__R_e at 0x21342599f10>,\n <Reaction EX_12ppd__S_e at 0x21342576390>,\n <Reaction EX_14glucan_e at 0x21342576350>,\n <Reaction EX_15dap_e at 0x21342576750>]"
     },
     "execution_count": 13,
     "metadata": {},
     "output_type": "execute_result"
    }
   ],
   "source": [
    "ecoli.boundary[0:10]"
   ]
  }
 ],
 "metadata": {
  "kernelspec": {
   "display_name": "Python 3 (ipykernel)",
   "language": "python",
   "name": "python3"
  },
  "language_info": {
   "codemirror_mode": {
    "name": "ipython",
    "version": 3
   },
   "file_extension": ".py",
   "mimetype": "text/x-python",
   "name": "python",
   "nbconvert_exporter": "python",
   "pygments_lexer": "ipython3",
   "version": "3.8.18"
  }
 },
 "nbformat": 4,
 "nbformat_minor": 4
}

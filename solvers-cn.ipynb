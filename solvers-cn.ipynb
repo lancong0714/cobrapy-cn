{
 "cells": [
  {
   "cell_type": "markdown",
   "metadata": {},
   "source": [
    "# 求解器"
   ]
  },
  {
   "cell_type": "markdown",
   "metadata": {},
   "source": [
    "生物系统的基于约束的重建和分析模型实际上只是一类离散优化问题的应用，通常用[linear, mixed integer](https://en.wikipedia.org/wiki/Linear_programming)或[optlang](https://github.com/biosustain/optlang)技术来解决。 Cobrapy 并没有实现任何算法来找到这些问题的解决方案，而是为这些技术创造了一种生物动机的概括，使人们更容易思考代谢系统是如何工作的，而不必过多关注如何制定优化问题。\n",
    "\n",
    "实际的解决是由工具来完成的，如自由软件[glpk](https://www.gnu.org/software/glpk/)或商业工具[gurobi](http://www.gurobi.com/)和[cplex](https://www-01.ibm.com/software/commerce/optimization/cplex-optimizer/)，它们都是通过[optlang](https://github.com/biosustain/optlang)包作为通用程序员接口提供的。\n",
    "\n",
    "当你定义了你的模型，你可以通过简单地分配给模型来切换求解器后端。解算器的属性。"
   ]
  },
  {
   "cell_type": "code",
   "execution_count": 1,
   "metadata": {
    "tags": [],
    "ExecuteTime": {
     "end_time": "2024-06-06T09:20:05.948001400Z",
     "start_time": "2024-06-06T09:19:57.445434900Z"
    }
   },
   "outputs": [],
   "source": [
    "from cobra.io import load_model\n",
    "model = load_model('textbook')"
   ]
  },
  {
   "cell_type": "code",
   "execution_count": 4,
   "metadata": {
    "tags": [],
    "ExecuteTime": {
     "end_time": "2024-01-13T09:33:17.327726500Z",
     "start_time": "2024-01-13T09:33:17.263443300Z"
    }
   },
   "outputs": [
    {
     "ename": "SolverNotFound",
     "evalue": "cplex is not a valid solver interface. Pick one from glpk_exact, glpk, scipy.",
     "output_type": "error",
     "traceback": [
      "\u001B[1;31m---------------------------------------------------------------------------\u001B[0m",
      "\u001B[1;31mKeyError\u001B[0m                                  Traceback (most recent call last)",
      "File \u001B[1;32md:\\ProgramData\\anaconda3\\Lib\\site-packages\\cobra\\util\\solver.py:340\u001B[0m, in \u001B[0;36mcheck_solver\u001B[1;34m(obj)\u001B[0m\n\u001B[0;32m    339\u001B[0m \u001B[38;5;28;01mtry\u001B[39;00m:\n\u001B[1;32m--> 340\u001B[0m     interface \u001B[38;5;241m=\u001B[39m solvers[interface_to_str(obj)]\n\u001B[0;32m    341\u001B[0m \u001B[38;5;28;01mexcept\u001B[39;00m \u001B[38;5;167;01mKeyError\u001B[39;00m:\n",
      "\u001B[1;31mKeyError\u001B[0m: 'cplex'",
      "\nDuring handling of the above exception, another exception occurred:\n",
      "\u001B[1;31mSolverNotFound\u001B[0m                            Traceback (most recent call last)",
      "Cell \u001B[1;32mIn[4], line 3\u001B[0m\n\u001B[0;32m      1\u001B[0m model\u001B[38;5;241m.\u001B[39msolver \u001B[38;5;241m=\u001B[39m \u001B[38;5;124m'\u001B[39m\u001B[38;5;124mglpk\u001B[39m\u001B[38;5;124m'\u001B[39m\n\u001B[0;32m      2\u001B[0m \u001B[38;5;66;03m# or if you have cplex installed\u001B[39;00m\n\u001B[1;32m----> 3\u001B[0m model\u001B[38;5;241m.\u001B[39msolver \u001B[38;5;241m=\u001B[39m \u001B[38;5;124m'\u001B[39m\u001B[38;5;124mcplex\u001B[39m\u001B[38;5;124m'\u001B[39m\n",
      "File \u001B[1;32md:\\ProgramData\\anaconda3\\Lib\\site-packages\\cobra\\util\\context.py:111\u001B[0m, in \u001B[0;36mresettable.<locals>.wrapper\u001B[1;34m(self, new_value)\u001B[0m\n\u001B[0;32m    108\u001B[0m         \u001B[38;5;28;01mreturn\u001B[39;00m\n\u001B[0;32m    109\u001B[0m     context(partial(func, \u001B[38;5;28mself\u001B[39m, old_value))\n\u001B[1;32m--> 111\u001B[0m func(\u001B[38;5;28mself\u001B[39m, new_value)\n",
      "File \u001B[1;32md:\\ProgramData\\anaconda3\\Lib\\site-packages\\cobra\\core\\model.py:169\u001B[0m, in \u001B[0;36mModel.solver\u001B[1;34m(self, value)\u001B[0m\n\u001B[0;32m    153\u001B[0m \u001B[38;5;129m@solver\u001B[39m\u001B[38;5;241m.\u001B[39msetter\n\u001B[0;32m    154\u001B[0m \u001B[38;5;129m@resettable\u001B[39m\n\u001B[0;32m    155\u001B[0m \u001B[38;5;28;01mdef\u001B[39;00m \u001B[38;5;21msolver\u001B[39m(\u001B[38;5;28mself\u001B[39m, value: Union[\u001B[38;5;28mstr\u001B[39m, ModuleType]) \u001B[38;5;241m-\u001B[39m\u001B[38;5;241m>\u001B[39m \u001B[38;5;28;01mNone\u001B[39;00m:\n\u001B[0;32m    156\u001B[0m \u001B[38;5;250m    \u001B[39m\u001B[38;5;124;03m\"\"\"Set the attached solver instance.\u001B[39;00m\n\u001B[0;32m    157\u001B[0m \n\u001B[0;32m    158\u001B[0m \u001B[38;5;124;03m    The associated the solver object, which manages the interaction with\u001B[39;00m\n\u001B[1;32m   (...)\u001B[0m\n\u001B[0;32m    167\u001B[0m \u001B[38;5;124;03m        The solver to set, which will be checked by `check_solver()`.\u001B[39;00m\n\u001B[0;32m    168\u001B[0m \u001B[38;5;124;03m    \"\"\"\u001B[39;00m\n\u001B[1;32m--> 169\u001B[0m     interface \u001B[38;5;241m=\u001B[39m check_solver(value)\n\u001B[0;32m    171\u001B[0m     \u001B[38;5;66;03m# Do nothing if the solver did not change\u001B[39;00m\n\u001B[0;32m    172\u001B[0m     \u001B[38;5;28;01mif\u001B[39;00m \u001B[38;5;28mself\u001B[39m\u001B[38;5;241m.\u001B[39mproblem \u001B[38;5;241m==\u001B[39m interface:\n",
      "File \u001B[1;32md:\\ProgramData\\anaconda3\\Lib\\site-packages\\cobra\\util\\solver.py:342\u001B[0m, in \u001B[0;36mcheck_solver\u001B[1;34m(obj)\u001B[0m\n\u001B[0;32m    340\u001B[0m         interface \u001B[38;5;241m=\u001B[39m solvers[interface_to_str(obj)]\n\u001B[0;32m    341\u001B[0m     \u001B[38;5;28;01mexcept\u001B[39;00m \u001B[38;5;167;01mKeyError\u001B[39;00m:\n\u001B[1;32m--> 342\u001B[0m         \u001B[38;5;28;01mraise\u001B[39;00m not_valid_interface\n\u001B[0;32m    343\u001B[0m \u001B[38;5;28;01melif\u001B[39;00m \u001B[38;5;28misinstance\u001B[39m(obj, ModuleType) \u001B[38;5;129;01mand\u001B[39;00m \u001B[38;5;28mhasattr\u001B[39m(obj, \u001B[38;5;124m\"\u001B[39m\u001B[38;5;124mModel\u001B[39m\u001B[38;5;124m\"\u001B[39m):\n\u001B[0;32m    344\u001B[0m     interface \u001B[38;5;241m=\u001B[39m obj\n",
      "\u001B[1;31mSolverNotFound\u001B[0m: cplex is not a valid solver interface. Pick one from glpk_exact, glpk, scipy."
     ]
    }
   ],
   "source": [
    "model.solver = 'glpk'\n",
    "# or if you have cplex installed\n",
    "model.solver = 'cplex'"
   ]
  },
  {
   "cell_type": "markdown",
   "metadata": {},
   "source": [
    "有关如何配置和调优求解器的信息，请参阅[optlang项目的文档](http://optlang.readthedocs.io)，并注意`model.solver` 只是一个optlang中类似`Model`的一个对象"
   ]
  },
  {
   "cell_type": "code",
   "execution_count": 3,
   "metadata": {
    "tags": []
   },
   "outputs": [
    {
     "ename": "NameError",
     "evalue": "name 'model' is not defined",
     "output_type": "error",
     "traceback": [
      "\u001B[1;31m---------------------------------------------------------------------------\u001B[0m",
      "\u001B[1;31mNameError\u001B[0m                                 Traceback (most recent call last)",
      "Cell \u001B[1;32mIn[3], line 1\u001B[0m\n\u001B[1;32m----> 1\u001B[0m \u001B[38;5;28mtype\u001B[39m(model\u001B[38;5;241m.\u001B[39msolver)\n",
      "\u001B[1;31mNameError\u001B[0m: name 'model' is not defined"
     ]
    }
   ],
   "source": [
    "type(model.solver)"
   ]
  },
  {
   "cell_type": "markdown",
   "metadata": {},
   "source": [
    "## 内部求解器接口"
   ]
  },
  {
   "cell_type": "markdown",
   "metadata": {},
   "source": [
    "Cobrapy也包含自己的求解器接口，但这些接口现在已被弃用，并将在不久的将来被完全删除。有关如何使用这些工具的文档，请参阅 [older documentation](http://cobrapy.readthedocs.io/en/0.5.11/)."
   ]
  }
 ],
 "metadata": {
  "kernelspec": {
   "display_name": "Python 3 (ipykernel)",
   "language": "python",
   "name": "python3"
  },
  "language_info": {
   "codemirror_mode": {
    "name": "ipython",
    "version": 3
   },
   "file_extension": ".py",
   "mimetype": "text/x-python",
   "name": "python",
   "nbconvert_exporter": "python",
   "pygments_lexer": "ipython3",
   "version": "3.8.18"
  }
 },
 "nbformat": 4,
 "nbformat_minor": 4
}

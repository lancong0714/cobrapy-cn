{
 "cells": [
  {
   "cell_type": "markdown",
   "metadata": {},
   "source": [
    "# 通量取样"
   ]
  },
  {
   "cell_type": "markdown",
   "metadata": {},
   "source": [
    "## 基本用法"
   ]
  },
  {
   "cell_type": "markdown",
   "metadata": {},
   "source": [
    "开始使用通量采样的最简单的方法是在`flux_analysis` 子模块的`sample` 功能。`sample`至少接受俩个参数：cobra模型以及要生成的样本数量。"
   ]
  },
  {
   "cell_type": "code",
   "execution_count": 1,
   "metadata": {
    "ExecuteTime": {
     "end_time": "2024-01-20T08:51:59.278418600Z",
     "start_time": "2024-01-20T08:51:47.623369100Z"
    }
   },
   "outputs": [
    {
     "data": {
      "text/plain": "      ACALD    ACALDt      ACKr     ACONTa     ACONTb     ACt2r       ADK1  \\\n0 -3.799475 -2.498751 -1.421441   7.540352   7.540352 -1.421441  16.929342   \n1 -1.664563 -1.159660 -0.104808  10.096309  10.096309 -0.104808  21.034965   \n2 -1.803558 -1.667910 -2.144206   8.824075   8.824075 -2.144206  11.796768   \n3 -1.448489 -0.122990 -1.631803   9.828801   9.828801 -1.631803  22.691294   \n4 -0.751012 -0.234146 -1.534250  10.996159  10.996159 -1.534250   2.346065   \n\n      AKGDH    AKGt2r    ALCD2x  ...       RPI   SUCCt2_2     SUCCt3  \\\n0  6.483571 -0.338296 -1.300724  ... -1.499339  14.876146  15.591381   \n1  9.031672 -0.102474 -0.504903  ... -1.458747   2.293237   3.284039   \n2  2.727459 -0.121884 -0.135648  ... -1.705485   1.930752   2.053874   \n3  5.339959 -0.201254 -1.325499  ... -1.986551  10.169471  11.442413   \n4  5.583547 -0.695630 -0.516866  ... -3.448945   1.012854   2.196951   \n\n        SUCDi    SUCOAS      TALA       THD2      TKT1      TKT2       TPI  \n0  566.653991 -6.483571  1.464935   1.833969  1.464935  1.451100  8.457706  \n1  484.075418 -9.031672  1.434034  48.090638  1.434034  1.424095  7.472630  \n2  721.454310 -2.727459  1.681770  75.179992  1.681770  1.672234  7.402820  \n3  684.373359 -5.339959  1.892144  36.876984  1.892144  1.854180  7.635212  \n4  624.064170 -5.583547  3.400375  19.158341  3.400375  3.380843  6.447869  \n\n[5 rows x 95 columns]",
      "text/html": "<div>\n<style scoped>\n    .dataframe tbody tr th:only-of-type {\n        vertical-align: middle;\n    }\n\n    .dataframe tbody tr th {\n        vertical-align: top;\n    }\n\n    .dataframe thead th {\n        text-align: right;\n    }\n</style>\n<table border=\"1\" class=\"dataframe\">\n  <thead>\n    <tr style=\"text-align: right;\">\n      <th></th>\n      <th>ACALD</th>\n      <th>ACALDt</th>\n      <th>ACKr</th>\n      <th>ACONTa</th>\n      <th>ACONTb</th>\n      <th>ACt2r</th>\n      <th>ADK1</th>\n      <th>AKGDH</th>\n      <th>AKGt2r</th>\n      <th>ALCD2x</th>\n      <th>...</th>\n      <th>RPI</th>\n      <th>SUCCt2_2</th>\n      <th>SUCCt3</th>\n      <th>SUCDi</th>\n      <th>SUCOAS</th>\n      <th>TALA</th>\n      <th>THD2</th>\n      <th>TKT1</th>\n      <th>TKT2</th>\n      <th>TPI</th>\n    </tr>\n  </thead>\n  <tbody>\n    <tr>\n      <th>0</th>\n      <td>-3.799475</td>\n      <td>-2.498751</td>\n      <td>-1.421441</td>\n      <td>7.540352</td>\n      <td>7.540352</td>\n      <td>-1.421441</td>\n      <td>16.929342</td>\n      <td>6.483571</td>\n      <td>-0.338296</td>\n      <td>-1.300724</td>\n      <td>...</td>\n      <td>-1.499339</td>\n      <td>14.876146</td>\n      <td>15.591381</td>\n      <td>566.653991</td>\n      <td>-6.483571</td>\n      <td>1.464935</td>\n      <td>1.833969</td>\n      <td>1.464935</td>\n      <td>1.451100</td>\n      <td>8.457706</td>\n    </tr>\n    <tr>\n      <th>1</th>\n      <td>-1.664563</td>\n      <td>-1.159660</td>\n      <td>-0.104808</td>\n      <td>10.096309</td>\n      <td>10.096309</td>\n      <td>-0.104808</td>\n      <td>21.034965</td>\n      <td>9.031672</td>\n      <td>-0.102474</td>\n      <td>-0.504903</td>\n      <td>...</td>\n      <td>-1.458747</td>\n      <td>2.293237</td>\n      <td>3.284039</td>\n      <td>484.075418</td>\n      <td>-9.031672</td>\n      <td>1.434034</td>\n      <td>48.090638</td>\n      <td>1.434034</td>\n      <td>1.424095</td>\n      <td>7.472630</td>\n    </tr>\n    <tr>\n      <th>2</th>\n      <td>-1.803558</td>\n      <td>-1.667910</td>\n      <td>-2.144206</td>\n      <td>8.824075</td>\n      <td>8.824075</td>\n      <td>-2.144206</td>\n      <td>11.796768</td>\n      <td>2.727459</td>\n      <td>-0.121884</td>\n      <td>-0.135648</td>\n      <td>...</td>\n      <td>-1.705485</td>\n      <td>1.930752</td>\n      <td>2.053874</td>\n      <td>721.454310</td>\n      <td>-2.727459</td>\n      <td>1.681770</td>\n      <td>75.179992</td>\n      <td>1.681770</td>\n      <td>1.672234</td>\n      <td>7.402820</td>\n    </tr>\n    <tr>\n      <th>3</th>\n      <td>-1.448489</td>\n      <td>-0.122990</td>\n      <td>-1.631803</td>\n      <td>9.828801</td>\n      <td>9.828801</td>\n      <td>-1.631803</td>\n      <td>22.691294</td>\n      <td>5.339959</td>\n      <td>-0.201254</td>\n      <td>-1.325499</td>\n      <td>...</td>\n      <td>-1.986551</td>\n      <td>10.169471</td>\n      <td>11.442413</td>\n      <td>684.373359</td>\n      <td>-5.339959</td>\n      <td>1.892144</td>\n      <td>36.876984</td>\n      <td>1.892144</td>\n      <td>1.854180</td>\n      <td>7.635212</td>\n    </tr>\n    <tr>\n      <th>4</th>\n      <td>-0.751012</td>\n      <td>-0.234146</td>\n      <td>-1.534250</td>\n      <td>10.996159</td>\n      <td>10.996159</td>\n      <td>-1.534250</td>\n      <td>2.346065</td>\n      <td>5.583547</td>\n      <td>-0.695630</td>\n      <td>-0.516866</td>\n      <td>...</td>\n      <td>-3.448945</td>\n      <td>1.012854</td>\n      <td>2.196951</td>\n      <td>624.064170</td>\n      <td>-5.583547</td>\n      <td>3.400375</td>\n      <td>19.158341</td>\n      <td>3.400375</td>\n      <td>3.380843</td>\n      <td>6.447869</td>\n    </tr>\n  </tbody>\n</table>\n<p>5 rows × 95 columns</p>\n</div>"
     },
     "execution_count": 1,
     "metadata": {},
     "output_type": "execute_result"
    }
   ],
   "source": [
    "from cobra.io import load_model\n",
    "from cobra.sampling import sample\n",
    "\n",
    "model = load_model(\"textbook\")\n",
    "s = sample(model, 100)\n",
    "s.head()"
   ]
  },
  {
   "cell_type": "markdown",
   "metadata": {},
   "source": [
    "默认情况下，sample 使用基于此处 [method presented here](http://dx.doi.org/10.1371/journal.pone.0086587)介绍的方法的`optgp`方法，因为它适用于较大的模型，并且可以并行运行。默认情况下，采样器使用单个进程。这可以通过使用 `processes`参数进行更改"
   ]
  },
  {
   "cell_type": "code",
   "execution_count": 2,
   "metadata": {
    "ExecuteTime": {
     "end_time": "2024-01-20T08:52:49.129464Z",
     "start_time": "2024-01-20T08:51:59.153394100Z"
    }
   },
   "outputs": [
    {
     "name": "stdout",
     "output_type": "stream",
     "text": [
      "One process:\n",
      "CPU times: total: 20.8 s\n",
      "Wall time: 15.8 s\n",
      "Two processes:\n",
      "CPU times: total: 1.92 s\n",
      "Wall time: 34 s\n"
     ]
    }
   ],
   "source": [
    "print(\"One process:\")\n",
    "%time s = sample(model, 1000)\n",
    "print(\"Two processes:\")\n",
    "%time s = sample(model, 1000, processes=2)"
   ]
  },
  {
   "cell_type": "markdown",
   "metadata": {},
   "source": [
    "或者，您也可以通过将方法设置为“achr”来使用 Artificial Centering Hit-and-Run 进行采样。 'achr' 不支持并行执行，但收敛性好，几乎是马尔可夫式的。"
   ]
  },
  {
   "cell_type": "code",
   "execution_count": 3,
   "metadata": {
    "ExecuteTime": {
     "end_time": "2024-01-13T09:18:43.449545200Z",
     "start_time": "2024-01-13T09:18:42.493220700Z"
    }
   },
   "outputs": [],
   "source": [
    "s = sample(model, 100, method=\"achr\")"
   ]
  },
  {
   "cell_type": "markdown",
   "metadata": {},
   "source": [
    "一般来说，设置采样器的成本很高，因为初始搜索方向是通过解决许多线性规划问题生成的。因此，我们建议一次性生成尽可能多的样品。但是，这可能需要对采样过程进行更精细的控制，如下一节所述。"
   ]
  },
  {
   "cell_type": "markdown",
   "metadata": {},
   "source": [
    "## 高级使用方法"
   ]
  },
  {
   "cell_type": "markdown",
   "metadata": {},
   "source": [
    "### 采样目标"
   ]
  },
  {
   "cell_type": "markdown",
   "metadata": {},
   "source": [
    "通过直接使用采样器类，可以在较低级别上控制采样过程。"
   ]
  },
  {
   "cell_type": "code",
   "execution_count": 4,
   "metadata": {
    "ExecuteTime": {
     "end_time": "2024-01-13T09:18:43.486587500Z",
     "start_time": "2024-01-13T09:18:43.456550600Z"
    }
   },
   "outputs": [],
   "source": [
    "from cobra.sampling import OptGPSampler, ACHRSampler"
   ]
  },
  {
   "cell_type": "markdown",
   "metadata": {},
   "source": [
    "这两个采样器类都具有标准化的接口，并采用一些额外的参数。例如，“变薄”因素。“减薄”是指每 n 次迭代仅记录样本。较高的稀化系数意味着较少的相关样本，但计算时间也较长。默认情况下，采样器使用 100 的稀疏因子，这会创建大致不相关的样本。如果您想要更少的样品但更好的混合，请随时增加此参数。如果要研究自己的模型的收敛性，则可能需要将其设置为 1 以获取所有迭代。"
   ]
  },
  {
   "cell_type": "code",
   "execution_count": 5,
   "metadata": {
    "ExecuteTime": {
     "end_time": "2024-01-13T09:18:43.595508800Z",
     "start_time": "2024-01-13T09:18:43.467585100Z"
    }
   },
   "outputs": [],
   "source": [
    "achr = ACHRSampler(model, thinning=10)"
   ]
  },
  {
   "cell_type": "markdown",
   "metadata": {},
   "source": [
    "`OptGPSampler`有一个额外的 `processes`参数，用于指定用于创建并行采样链的进程数。这应该按照 CPU 内核的顺序排列，以实现最大效率。如前所述，由于生成初始搜索方向，类初始化可能需要几分钟时间。另一方面，采样速度很快。"
   ]
  },
  {
   "cell_type": "code",
   "execution_count": 6,
   "metadata": {
    "ExecuteTime": {
     "end_time": "2024-01-13T09:18:43.807313400Z",
     "start_time": "2024-01-13T09:18:43.597508700Z"
    }
   },
   "outputs": [],
   "source": [
    "optgp = OptGPSampler(model, processes=4)"
   ]
  },
  {
   "cell_type": "markdown",
   "metadata": {},
   "source": [
    "### 采样和验证"
   ]
  },
  {
   "cell_type": "markdown",
   "metadata": {},
   "source": [
    "两个采样器都有一个示例函数，该函数从初始化的对象生成样本，其作用类似于上面描述的 `sample`函数，只是这次它只接受一个参数，即样本数。对于`OptGPSampler`，样本数应为进程数的倍数，否则将自动增加到最接近的倍数。"
   ]
  },
  {
   "cell_type": "code",
   "execution_count": 7,
   "metadata": {
    "ExecuteTime": {
     "end_time": "2024-01-13T09:18:47.108401300Z",
     "start_time": "2024-01-13T09:18:43.809315400Z"
    }
   },
   "outputs": [],
   "source": [
    "s1 = achr.sample(100)\n",
    "\n",
    "s2 = optgp.sample(100)"
   ]
  },
  {
   "cell_type": "markdown",
   "metadata": {},
   "source": [
    "You can`sample`ample` repeatedly and both samplers are optimized to generate large amount of samples without falling into \"numerical traps\". All sampler objects have a `validate` function in order to check if a set of points are feasible and give detailed information about feasibility violations in a form of a short code denoting feasibility. Here the short code is a combination of any of the following letters:\n",
    "\n",
    "- \"v\" - valid point\n",
    "- \"l\" - lower bound violation\n",
    "- \"u\" - upper bound violation\n",
    "- \"e\" - equality violation (meaning the point is not a steady state)\n",
    "\n",
    "For instance for a random flux distribution (should not be feasible):"
   ]
  },
  {
   "cell_type": "code",
   "execution_count": 8,
   "metadata": {
    "ExecuteTime": {
     "end_time": "2024-01-13T09:18:47.131208100Z",
     "start_time": "2024-01-13T09:18:47.114408100Z"
    }
   },
   "outputs": [
    {
     "data": {
      "text/plain": "array(['le'], dtype='<U3')"
     },
     "execution_count": 8,
     "metadata": {},
     "output_type": "execute_result"
    }
   ],
   "source": [
    "import numpy as np\n",
    "\n",
    "bad = np.random.uniform(-1000, 1000, size=len(model.reactions))\n",
    "achr.validate(np.atleast_2d(bad))"
   ]
  },
  {
   "cell_type": "markdown",
   "metadata": {},
   "source": [
    "对于我们生成的样本："
   ]
  },
  {
   "cell_type": "code",
   "execution_count": 9,
   "metadata": {
    "ExecuteTime": {
     "end_time": "2024-01-13T09:18:47.161304100Z",
     "start_time": "2024-01-13T09:18:47.133204900Z"
    }
   },
   "outputs": [
    {
     "data": {
      "text/plain": "array(['v', 'v', 'v', 'v', 'v', 'v', 'v', 'v', 'v', 'v', 'v', 'v', 'v',\n       'v', 'v', 'v', 'v', 'v', 'v', 'v', 'v', 'v', 'v', 'v', 'v', 'v',\n       'v', 'v', 'v', 'v', 'v', 'v', 'v', 'v', 'v', 'v', 'v', 'v', 'v',\n       'v', 'v', 'v', 'v', 'v', 'v', 'v', 'v', 'v', 'v', 'v', 'v', 'v',\n       'v', 'v', 'v', 'v', 'v', 'v', 'v', 'v', 'v', 'v', 'v', 'v', 'v',\n       'v', 'v', 'v', 'v', 'v', 'v', 'v', 'v', 'v', 'v', 'v', 'v', 'v',\n       'v', 'v', 'v', 'v', 'v', 'v', 'v', 'v', 'v', 'v', 'v', 'v', 'v',\n       'v', 'v', 'v', 'v', 'v', 'v', 'v', 'v', 'v'], dtype='<U3')"
     },
     "execution_count": 9,
     "metadata": {},
     "output_type": "execute_result"
    }
   ],
   "source": [
    "achr.validate(s1)"
   ]
  },
  {
   "cell_type": "markdown",
   "metadata": {},
   "source": [
    "尽管大多数模型在数值上足够稳定，采样器应该只生成有效样本，但我们仍然敦促检查这一点。`validate` 非常快，即使对于大型模型和许多样本也能快速工作。如果发现无效样本，则不必重新运行整个样本，但可以从示例 DataFrame 中排除它们。"
   ]
  },
  {
   "cell_type": "code",
   "execution_count": 10,
   "metadata": {
    "ExecuteTime": {
     "end_time": "2024-01-13T09:18:47.199299600Z",
     "start_time": "2024-01-13T09:18:47.145157900Z"
    }
   },
   "outputs": [
    {
     "data": {
      "text/plain": "100"
     },
     "execution_count": 10,
     "metadata": {},
     "output_type": "execute_result"
    }
   ],
   "source": [
    "s1_valid = s1[achr.validate(s1) == \"v\"]\n",
    "len(s1_valid)"
   ]
  },
  {
   "cell_type": "markdown",
   "metadata": {},
   "source": [
    "### 批量抽样"
   ]
  },
  {
   "cell_type": "markdown",
   "metadata": {},
   "source": [
    "采样器对象用于生成数十亿个样本，但是在使用基因组规模模型时，使用“样本”功能可能会很快填满您的 RAM。在这里，采样器对象的`sample`方法可能会派上用场。 `batch` 有两个参数，即每批中的样本数和批数。举个小例子，这是有道理的。\n",
    "\n",
    "让我们假设我们想要量化样本中将增长的比例。为此，我们可能需要生成 10 批，每批 50 个样本，并测量单个 100 个样本中显示大于 0.1 的百分比。最后，我们要计算这些单个百分比的平均值和标准差。"
   ]
  },
  {
   "cell_type": "code",
   "execution_count": 11,
   "metadata": {
    "ExecuteTime": {
     "end_time": "2024-01-13T09:19:18.033269Z",
     "start_time": "2024-01-13T09:18:47.161304100Z"
    }
   },
   "outputs": [
    {
     "name": "stdout",
     "output_type": "stream",
     "text": [
      "Usually 3.00% +- 0.77% grow...\n"
     ]
    }
   ],
   "source": [
    "counts = [np.mean(s.Biomass_Ecoli_core > 0.1) for s in optgp.batch(100, 10)]\n",
    "print(\"Usually {:.2f}% +- {:.2f}% grow...\".format(\n",
    "    np.mean(counts) * 100.0, np.std(counts) * 100.0))"
   ]
  },
  {
   "cell_type": "markdown",
   "metadata": {},
   "source": [
    "## 添加约束"
   ]
  },
  {
   "cell_type": "markdown",
   "metadata": {},
   "source": [
    "通量采样将遵循模型中定义的其他约束条件。例如，我们可以添加一个约束，以与上一节类似的方式强制增长。"
   ]
  },
  {
   "cell_type": "code",
   "execution_count": 12,
   "metadata": {
    "ExecuteTime": {
     "end_time": "2024-01-13T09:19:18.042039200Z",
     "start_time": "2024-01-13T09:19:18.033269Z"
    }
   },
   "outputs": [],
   "source": [
    "co = model.problem.Constraint(model.reactions.Biomass_Ecoli_core.flux_expression, lb=0.1)\n",
    "model.add_cons_vars([co])"
   ]
  },
  {
   "cell_type": "markdown",
   "metadata": {},
   "source": [
    "*请注意，这仅用于演示目的。通常，您可以直接设置反应的下限，而不是创建新约束。*"
   ]
  },
  {
   "cell_type": "code",
   "execution_count": 13,
   "metadata": {
    "ExecuteTime": {
     "end_time": "2024-01-13T09:19:18.330154600Z",
     "start_time": "2024-01-13T09:19:18.047041100Z"
    }
   },
   "outputs": [
    {
     "name": "stdout",
     "output_type": "stream",
     "text": [
      "0    0.105278\n",
      "1    0.126172\n",
      "2    0.108318\n",
      "3    0.105436\n",
      "4    0.100796\n",
      "5    0.154830\n",
      "6    0.155173\n",
      "7    0.177615\n",
      "8    0.193415\n",
      "9    0.148553\n",
      "Name: Biomass_Ecoli_core, dtype: float64\n"
     ]
    }
   ],
   "source": [
    "s = sample(model, 10)\n",
    "print(s.Biomass_Ecoli_core)"
   ]
  },
  {
   "cell_type": "markdown",
   "metadata": {},
   "source": [
    "正如我们所看到的，我们的新约束被接受了。"
   ]
  }
 ],
 "metadata": {
  "anaconda-cloud": {},
  "kernelspec": {
   "display_name": "Python 3 (ipykernel)",
   "language": "python",
   "name": "python3"
  },
  "language_info": {
   "codemirror_mode": {
    "name": "ipython",
    "version": 3
   },
   "file_extension": ".py",
   "mimetype": "text/x-python",
   "name": "python",
   "nbconvert_exporter": "python",
   "pygments_lexer": "ipython3",
   "version": "3.8.18"
  }
 },
 "nbformat": 4,
 "nbformat_minor": 4
}

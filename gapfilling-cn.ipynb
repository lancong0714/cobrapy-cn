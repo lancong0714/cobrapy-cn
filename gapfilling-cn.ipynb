{
 "cells": [
  {
   "cell_type": "markdown",
   "metadata": {},
   "source": [
    "## 缺口填充\n",
    "\n",
    "模型缺口填充的任务是找出必须将哪些反应添加到模型中以使其可行。已经报道了几种这样的算法，例如[Kumar等人，2009](http://dx.doi.org/10.1371/journal.pcbi.1000308)和[Reed等人，2006](http://www.pnas.org/content/103/46/17480.short)。cobry有一个缺口填充实现，与Reed等人的实现非常相似，我们使用混合整数线性程序来计算需要为用户定义的反应集合添加的最小反应数量，即通用模型。简单地说，就是我们尝试的问题"
   ]
  },
  {
   "cell_type": "markdown",
   "metadata": {},
   "source": [
    "Minimize: $$\\sum_i c_i * z_i$$"
   ]
  },
  {
   "cell_type": "markdown",
   "metadata": {},
   "source": [
    "subject to"
   ]
  },
  {
   "cell_type": "markdown",
   "metadata": {},
   "source": [
    "$$Sv = 0$$\n",
    "$$v^\\star \\geq t$$\n",
    "$$l_i\\leq v_i \\leq u_i$$\n",
    "$$v_i = 0 \\textrm{ if } z_i = 0$$"
   ]
  },
  {
   "cell_type": "markdown",
   "metadata": {},
   "source": [
    "其中*l*， *u*分别是*i*反应的下界和上界，*z*是一个指标变量，如果不使用该反应则为零，否则为1，*c*是与使用*i*反应相关的用户定义成本，$v^\\star$是物镜的通量，*t*是该物镜的下界。为了证明这一点，让我们以一个模型为例，并从中移除一些基本的反应。"
   ]
  },
  {
   "cell_type": "code",
   "execution_count": 2,
   "metadata": {
    "ExecuteTime": {
     "end_time": "2024-01-13T09:10:59.436840200Z",
     "start_time": "2024-01-13T09:10:54.782011600Z"
    }
   },
   "outputs": [],
   "source": [
    "from cobra.io import load_model\n",
    "from cobra.flux_analysis import gapfill\n",
    "model = load_model(\"iYS1720\")"
   ]
  },
  {
   "cell_type": "markdown",
   "metadata": {},
   "source": [
    "在这个模型中，d -果糖-6-磷酸是必需的代谢物。我们将移除所有使用它的反应，并把它们放到一个单独的模型中。"
   ]
  },
  {
   "cell_type": "code",
   "execution_count": 3,
   "metadata": {
    "ExecuteTime": {
     "end_time": "2024-01-13T09:10:59.527675600Z",
     "start_time": "2024-01-13T09:10:59.507665100Z"
    }
   },
   "outputs": [],
   "source": [
    "import cobra\n",
    "universal = cobra.Model(\"universal_reactions\")\n",
    "for i in [i.id for i in model.metabolites.f6p_c.reactions]:\n",
    "    reaction = model.reactions.get_by_id(i)\n",
    "    universal.add_reactions([reaction.copy()])\n",
    "    model.remove_reactions([reaction])"
   ]
  },
  {
   "cell_type": "markdown",
   "metadata": {},
   "source": [
    "现在，因为这些空白，所以模型不会发展。"
   ]
  },
  {
   "cell_type": "code",
   "execution_count": 4,
   "metadata": {
    "ExecuteTime": {
     "end_time": "2024-01-13T09:10:59.705740400Z",
     "start_time": "2024-01-13T09:10:59.680194500Z"
    }
   },
   "outputs": [
    {
     "data": {
      "text/plain": "0.0"
     },
     "execution_count": 4,
     "metadata": {},
     "output_type": "execute_result"
    }
   ],
   "source": [
    "model.optimize().objective_value"
   ]
  },
  {
   "cell_type": "markdown",
   "metadata": {},
   "source": [
    "我们将使用模型的原始目标，生长，来找出哪些被移除的反应是模型再次可行所必需的。这与[Kumar et al. 2009](http://dx.doi.org/10.1371/journal.pcbi.1000308)的“不增长但增长(NGG)”预测非常相似。"
   ]
  },
  {
   "cell_type": "code",
   "execution_count": 5,
   "metadata": {
    "ExecuteTime": {
     "end_time": "2024-01-13T09:11:01.101467500Z",
     "start_time": "2024-01-13T09:10:59.688740900Z"
    }
   },
   "outputs": [
    {
     "name": "stdout",
     "output_type": "stream",
     "text": [
      "GF6PTA\n",
      "TALA\n"
     ]
    }
   ],
   "source": [
    "solution = gapfill(model, universal, demand_reactions=False)\n",
    "for reaction in solution[0]:\n",
    "    print(reaction.id)"
   ]
  },
  {
   "cell_type": "markdown",
   "metadata": {},
   "source": [
    "通过多次迭代，我们可以得到多个可能的反应集。"
   ]
  },
  {
   "cell_type": "code",
   "execution_count": 6,
   "metadata": {
    "ExecuteTime": {
     "end_time": "2024-01-13T09:11:03.302374300Z",
     "start_time": "2024-01-13T09:11:01.167496200Z"
    }
   },
   "outputs": [
    {
     "name": "stdout",
     "output_type": "stream",
     "text": [
      "---- Run 1 ----\n",
      "GF6PTA\n",
      "TALA\n",
      "---- Run 2 ----\n",
      "GF6PTA\n",
      "TALA\n",
      "---- Run 3 ----\n",
      "GF6PTA\n",
      "PGI\n",
      "TKT2\n",
      "---- Run 4 ----\n",
      "GF6PTA\n",
      "TALA\n"
     ]
    }
   ],
   "source": [
    "result = gapfill(model, universal, demand_reactions=False, iterations=4)\n",
    "for i, entries in enumerate(result):\n",
    "    print(\"---- Run %d ----\" % (i + 1))\n",
    "    for e in entries:\n",
    "        print(e.id)"
   ]
  },
  {
   "cell_type": "markdown",
   "metadata": {},
   "source": [
    "我们也可以不使用最初的目标，指定一种我们希望模型能够产生的代谢物。"
   ]
  },
  {
   "cell_type": "code",
   "execution_count": 7,
   "metadata": {
    "ExecuteTime": {
     "end_time": "2024-01-13T09:11:12.550049300Z",
     "start_time": "2024-01-13T09:11:03.580428800Z"
    }
   },
   "outputs": [
    {
     "name": "stdout",
     "output_type": "stream",
     "text": [
      "PGI\n"
     ]
    }
   ],
   "source": [
    "with model:\n",
    "    model.objective = model.add_boundary(model.metabolites.f6p_c, type='demand')\n",
    "    solution = gapfill(model, universal)\n",
    "    for reaction in solution[0]:\n",
    "        print(reaction.id)"
   ]
  },
  {
   "cell_type": "markdown",
   "metadata": {},
   "source": [
    "最后，请注意，使用混合整数线性规划在计算上相当昂贵，对于较大的模型，您可能需要考虑替代的[间隙填充方法](http://opencobra.github.io/cobrapy/tags/gapfilling/)和[重建方法](http://opencobra.github.io/cobrapy/tags/reconstruction/)。"
   ]
  }
 ],
 "metadata": {
  "kernelspec": {
   "display_name": "Python 3 (ipykernel)",
   "language": "python",
   "name": "python3"
  },
  "language_info": {
   "codemirror_mode": {
    "name": "ipython",
    "version": 3
   },
   "file_extension": ".py",
   "mimetype": "text/x-python",
   "name": "python",
   "nbconvert_exporter": "python",
   "pygments_lexer": "ipython3",
   "version": "3.8.18"
  }
 },
 "nbformat": 4,
 "nbformat_minor": 4
}

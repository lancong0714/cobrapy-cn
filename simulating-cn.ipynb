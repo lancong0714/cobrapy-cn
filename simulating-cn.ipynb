{
 "cells": [
  {
   "cell_type": "markdown",
   "metadata": {},
   "source": [
    "# 使用FBA进行模拟"
   ]
  },
  {
   "cell_type": "markdown",
   "metadata": {},
   "source": [
    "使用磁通平衡分析的仿真可以使用 Model.optimize（） 进行求解。这将最大化或最小化（最大化是默认设置）通过客观反应的通量。"
   ]
  },
  {
   "cell_type": "code",
   "execution_count": 1,
   "metadata": {
    "ExecuteTime": {
     "end_time": "2024-01-20T07:45:49.297242900Z",
     "start_time": "2024-01-20T07:45:43.517858100Z"
    }
   },
   "outputs": [],
   "source": [
    "from cobra.io import load_model\n",
    "model = load_model(\"textbook\")"
   ]
  },
  {
   "cell_type": "markdown",
   "metadata": {},
   "source": [
    "## 运行 FBA"
   ]
  },
  {
   "cell_type": "code",
   "execution_count": 2,
   "metadata": {
    "ExecuteTime": {
     "end_time": "2024-01-13T09:19:35.887147500Z",
     "start_time": "2024-01-13T09:19:35.868037700Z"
    }
   },
   "outputs": [
    {
     "name": "stdout",
     "output_type": "stream",
     "text": [
      "<Solution 0.874 at 0x195d0067050>\n"
     ]
    }
   ],
   "source": [
    "solution = model.optimize()\n",
    "print(solution)"
   ]
  },
  {
   "cell_type": "markdown",
   "metadata": {},
   "source": [
    "`Model.optimize()`方法会给出一个解决方案（Solution）对象。这个对象包含了几个关键属性：\n",
    "\n",
    "- `objective_value`：表示目标函数的优化值，也就是模型追求最大化或最小化的那个数值结果。\n",
    "- `status`：显示线性规划求解器给出的解决状态，告诉你问题是否得到解决、有没有特殊情况需要留意。\n",
    "- `fluxes`：这是一个按照反应标识符来组织的pandas序列，里面记录了每个反应的通量值。通量是指正向反应速率与逆向反应速率之差，直观反映了物质在该反应中的净流动情况。\n",
    "- `shadow_prices`：同样是一个pandas序列，不过这次是依据代谢物标识符来排列的，展示了每个代谢物的影子价格。影子价格揭示了在保持目标函数最优的前提下，如果系统可利用的某种代谢物增多或减少一个单位，目标函数值的变化量，有助于理解代谢物的重要性及限制条件。"
   ]
  },
  {
   "cell_type": "markdown",
   "metadata": {},
   "source": [
    "例如，在最后一次调用“model.optimize（）”之后，如果优化成功，则其状态将为最佳。如果模型不可行，则会引发错误。"
   ]
  },
  {
   "cell_type": "code",
   "execution_count": 3,
   "metadata": {
    "ExecuteTime": {
     "end_time": "2024-01-13T09:19:37.339864200Z",
     "start_time": "2024-01-13T09:19:37.329834800Z"
    }
   },
   "outputs": [
    {
     "data": {
      "text/plain": "0.8739215069684279"
     },
     "execution_count": 3,
     "metadata": {},
     "output_type": "execute_result"
    }
   ],
   "source": [
    "solution.objective_value"
   ]
  },
  {
   "cell_type": "markdown",
   "metadata": {},
   "source": [
    "可与 cobrapy 一起使用的求解器速度非常快，以至于对于许多中小型模型来说，计算求解的速度甚至比从求解器收集值并将 python 对象转换为它们所需的速度还要快。使用“model.optimize”，我们收集所有反应和代谢物的值，如果重复进行，这可能需要大量时间。如果我们只对单个反应或目标的通量值感兴趣，那么使用“model.slim_optimize”会更快，它只执行优化并返回目标值，由你来获取你可能需要的其他值。"
   ]
  },
  {
   "cell_type": "code",
   "execution_count": 4,
   "metadata": {
    "ExecuteTime": {
     "end_time": "2024-01-13T09:19:38.765473600Z",
     "start_time": "2024-01-13T09:19:38.757861900Z"
    }
   },
   "outputs": [
    {
     "name": "stdout",
     "output_type": "stream",
     "text": [
      "CPU times: total: 0 ns\n",
      "Wall time: 1e+03 µs\n"
     ]
    },
    {
     "data": {
      "text/plain": "0.8739215069684305"
     },
     "execution_count": 4,
     "metadata": {},
     "output_type": "execute_result"
    }
   ],
   "source": [
    "%%time\n",
    "model.optimize().objective_value"
   ]
  },
  {
   "cell_type": "code",
   "execution_count": 5,
   "metadata": {
    "ExecuteTime": {
     "end_time": "2024-01-13T09:19:40.032657900Z",
     "start_time": "2024-01-13T09:19:40.009151700Z"
    }
   },
   "outputs": [
    {
     "name": "stdout",
     "output_type": "stream",
     "text": [
      "CPU times: total: 0 ns\n",
      "Wall time: 1e+03 µs\n"
     ]
    },
    {
     "data": {
      "text/plain": "0.8739215069684305"
     },
     "execution_count": 5,
     "metadata": {},
     "output_type": "execute_result"
    }
   ],
   "source": [
    "%%time\n",
    "model.slim_optimize()"
   ]
  },
  {
   "cell_type": "markdown",
   "metadata": {},
   "source": [
    "### 分析 FBA solutions"
   ]
  },
  {
   "cell_type": "markdown",
   "metadata": {},
   "source": [
    "使用FBA求解的模型可以通过使用摘要方法进一步分析，这些方法输出打印文本以快速表示模型行为。对整个模型调用 summary 方法将显示有关模型的输入和输出行为的信息，以及优化的目标。"
   ]
  },
  {
   "cell_type": "code",
   "execution_count": 6,
   "metadata": {
    "ExecuteTime": {
     "end_time": "2024-01-13T09:19:43.226520600Z",
     "start_time": "2024-01-13T09:19:43.093548200Z"
    }
   },
   "outputs": [
    {
     "data": {
      "text/plain": "<cobra.summary.model_summary.ModelSummary at 0x195c6bb6f50>",
      "text/html": "<h3>Objective</h3><p>1.0 Biomass_Ecoli_core = 0.8739215069684297</p><h4>Uptake</h4><table border=\"1\" class=\"dataframe\">\n  <thead>\n    <tr style=\"text-align: right;\">\n      <th>Metabolite</th>\n      <th>Reaction</th>\n      <th>Flux</th>\n      <th>C-Number</th>\n      <th>C-Flux</th>\n    </tr>\n  </thead>\n  <tbody>\n    <tr>\n      <td>glc__D_e</td>\n      <td>EX_glc__D_e</td>\n      <td>10</td>\n      <td>6</td>\n      <td>100.00%</td>\n    </tr>\n    <tr>\n      <td>nh4_e</td>\n      <td>EX_nh4_e</td>\n      <td>4.765</td>\n      <td>0</td>\n      <td>0.00%</td>\n    </tr>\n    <tr>\n      <td>o2_e</td>\n      <td>EX_o2_e</td>\n      <td>21.8</td>\n      <td>0</td>\n      <td>0.00%</td>\n    </tr>\n    <tr>\n      <td>pi_e</td>\n      <td>EX_pi_e</td>\n      <td>3.215</td>\n      <td>0</td>\n      <td>0.00%</td>\n    </tr>\n  </tbody>\n</table><h4>Secretion</h4><table border=\"1\" class=\"dataframe\">\n  <thead>\n    <tr style=\"text-align: right;\">\n      <th>Metabolite</th>\n      <th>Reaction</th>\n      <th>Flux</th>\n      <th>C-Number</th>\n      <th>C-Flux</th>\n    </tr>\n  </thead>\n  <tbody>\n    <tr>\n      <td>co2_e</td>\n      <td>EX_co2_e</td>\n      <td>-22.81</td>\n      <td>1</td>\n      <td>100.00%</td>\n    </tr>\n    <tr>\n      <td>h2o_e</td>\n      <td>EX_h2o_e</td>\n      <td>-29.18</td>\n      <td>0</td>\n      <td>0.00%</td>\n    </tr>\n    <tr>\n      <td>h_e</td>\n      <td>EX_h_e</td>\n      <td>-17.53</td>\n      <td>0</td>\n      <td>0.00%</td>\n    </tr>\n  </tbody>\n</table>"
     },
     "execution_count": 6,
     "metadata": {},
     "output_type": "execute_result"
    }
   ],
   "source": [
    "model.summary()"
   ]
  },
  {
   "cell_type": "markdown",
   "metadata": {},
   "source": [
    "此外，还可以使用汇总方法检查单个代谢物的输入输出行为。例如，以下命令可用于检查模型的整体氧化还原平衡"
   ]
  },
  {
   "cell_type": "code",
   "execution_count": 7,
   "metadata": {
    "ExecuteTime": {
     "end_time": "2024-01-13T09:19:46.210056600Z",
     "start_time": "2024-01-13T09:19:46.091582Z"
    }
   },
   "outputs": [
    {
     "data": {
      "text/plain": "<cobra.summary.metabolite_summary.MetaboliteSummary at 0x195d0e3d590>",
      "text/html": "<h3>nadh_c</h3><p>C21H27N7O14P2</p><h4>Producing Reactions</h4><table border=\"1\" class=\"dataframe\">\n  <thead>\n    <tr style=\"text-align: right;\">\n      <th>Percent</th>\n      <th>Flux</th>\n      <th>Reaction</th>\n      <th>Definition</th>\n    </tr>\n  </thead>\n  <tbody>\n    <tr>\n      <td>13.14%</td>\n      <td>5.064</td>\n      <td>AKGDH</td>\n      <td>akg_c + coa_c + nad_c --&gt; co2_c + nadh_c + succoa_c</td>\n    </tr>\n    <tr>\n      <td>8.04%</td>\n      <td>3.1</td>\n      <td>Biomass_Ecoli_core</td>\n      <td>1.496 3pg_c + 3.7478 accoa_c + 59.81 atp_c + 0.361 e4p_c + 0.0709 f6p_c + 0.129 g3p_c + 0.205 g6p_c + 0.2557 gln__L_c + 4.9414 glu__L_c + 59.81 h2o_c + 3.547 nad_c + 13.0279 nadph_c + 1.7867 oaa_c + 0.5191 pep_c + 2.8328 pyr_c + 0.8977 r5p_c --&gt; 59.81 adp_c + 4.1182 akg_c + 3.7478 coa_c + 59.81 h_c + 3.547 nadh_c + 13.0279 nadp_c + 59.81 pi_c</td>\n    </tr>\n    <tr>\n      <td>41.58%</td>\n      <td>16.02</td>\n      <td>GAPD</td>\n      <td>g3p_c + nad_c + pi_c &lt;=&gt; 13dpg_c + h_c + nadh_c</td>\n    </tr>\n    <tr>\n      <td>13.14%</td>\n      <td>5.064</td>\n      <td>MDH</td>\n      <td>mal__L_c + nad_c &lt;=&gt; h_c + nadh_c + oaa_c</td>\n    </tr>\n    <tr>\n      <td>24.09%</td>\n      <td>9.283</td>\n      <td>PDH</td>\n      <td>coa_c + nad_c + pyr_c --&gt; accoa_c + co2_c + nadh_c</td>\n    </tr>\n  </tbody>\n</table><h4>Consuming Reactions</h4><table border=\"1\" class=\"dataframe\">\n  <thead>\n    <tr style=\"text-align: right;\">\n      <th>Percent</th>\n      <th>Flux</th>\n      <th>Reaction</th>\n      <th>Definition</th>\n    </tr>\n  </thead>\n  <tbody>\n    <tr>\n      <td>100.00%</td>\n      <td>-38.53</td>\n      <td>NADH16</td>\n      <td>4.0 h_c + nadh_c + q8_c --&gt; 3.0 h_e + nad_c + q8h2_c</td>\n    </tr>\n  </tbody>\n</table>"
     },
     "execution_count": 7,
     "metadata": {},
     "output_type": "execute_result"
    }
   ],
   "source": [
    "model.metabolites.nadh_c.summary()"
   ]
  },
  {
   "cell_type": "markdown",
   "metadata": {},
   "source": [
    "或者了解主要的能源生产和消费反应"
   ]
  },
  {
   "cell_type": "code",
   "execution_count": 8,
   "metadata": {
    "ExecuteTime": {
     "end_time": "2024-01-13T09:19:48.008574800Z",
     "start_time": "2024-01-13T09:19:47.778153100Z"
    }
   },
   "outputs": [
    {
     "data": {
      "text/plain": "<cobra.summary.metabolite_summary.MetaboliteSummary at 0x195d02826d0>",
      "text/html": "<h3>atp_c</h3><p>C10H12N5O13P3</p><h4>Producing Reactions</h4><table border=\"1\" class=\"dataframe\">\n  <thead>\n    <tr style=\"text-align: right;\">\n      <th>Percent</th>\n      <th>Flux</th>\n      <th>Reaction</th>\n      <th>Definition</th>\n    </tr>\n  </thead>\n  <tbody>\n    <tr>\n      <td>66.58%</td>\n      <td>45.51</td>\n      <td>ATPS4r</td>\n      <td>adp_c + 4.0 h_e + pi_c &lt;=&gt; atp_c + h2o_c + 3.0 h_c</td>\n    </tr>\n    <tr>\n      <td>23.44%</td>\n      <td>16.02</td>\n      <td>PGK</td>\n      <td>3pg_c + atp_c &lt;=&gt; 13dpg_c + adp_c</td>\n    </tr>\n    <tr>\n      <td>2.57%</td>\n      <td>1.758</td>\n      <td>PYK</td>\n      <td>adp_c + h_c + pep_c --&gt; atp_c + pyr_c</td>\n    </tr>\n    <tr>\n      <td>7.41%</td>\n      <td>5.064</td>\n      <td>SUCOAS</td>\n      <td>atp_c + coa_c + succ_c &lt;=&gt; adp_c + pi_c + succoa_c</td>\n    </tr>\n  </tbody>\n</table><h4>Consuming Reactions</h4><table border=\"1\" class=\"dataframe\">\n  <thead>\n    <tr style=\"text-align: right;\">\n      <th>Percent</th>\n      <th>Flux</th>\n      <th>Reaction</th>\n      <th>Definition</th>\n    </tr>\n  </thead>\n  <tbody>\n    <tr>\n      <td>12.27%</td>\n      <td>-8.39</td>\n      <td>ATPM</td>\n      <td>atp_c + h2o_c --&gt; adp_c + h_c + pi_c</td>\n    </tr>\n    <tr>\n      <td>76.46%</td>\n      <td>-52.27</td>\n      <td>Biomass_Ecoli_core</td>\n      <td>1.496 3pg_c + 3.7478 accoa_c + 59.81 atp_c + 0.361 e4p_c + 0.0709 f6p_c + 0.129 g3p_c + 0.205 g6p_c + 0.2557 gln__L_c + 4.9414 glu__L_c + 59.81 h2o_c + 3.547 nad_c + 13.0279 nadph_c + 1.7867 oaa_c + 0.5191 pep_c + 2.8328 pyr_c + 0.8977 r5p_c --&gt; 59.81 adp_c + 4.1182 akg_c + 3.7478 coa_c + 59.81 h_c + 3.547 nadh_c + 13.0279 nadp_c + 59.81 pi_c</td>\n    </tr>\n    <tr>\n      <td>0.33%</td>\n      <td>-0.2235</td>\n      <td>GLNS</td>\n      <td>atp_c + glu__L_c + nh4_c --&gt; adp_c + gln__L_c + h_c + pi_c</td>\n    </tr>\n    <tr>\n      <td>10.94%</td>\n      <td>-7.477</td>\n      <td>PFK</td>\n      <td>atp_c + f6p_c --&gt; adp_c + fdp_c + h_c</td>\n    </tr>\n  </tbody>\n</table>"
     },
     "execution_count": 8,
     "metadata": {},
     "output_type": "execute_result"
    }
   ],
   "source": [
    "model.metabolites.atp_c.summary()"
   ]
  },
  {
   "cell_type": "markdown",
   "metadata": {},
   "source": [
    "## 更改目标"
   ]
  },
  {
   "cell_type": "markdown",
   "metadata": {},
   "source": [
    "目标函数由客观反应的objective_coefficient属性确定。通常，使用描述构成细胞的代谢物组成的“生物量”函数。"
   ]
  },
  {
   "cell_type": "code",
   "execution_count": 9,
   "metadata": {
    "ExecuteTime": {
     "end_time": "2024-01-13T09:19:50.273773500Z",
     "start_time": "2024-01-13T09:19:50.228896800Z"
    }
   },
   "outputs": [],
   "source": [
    "biomass_rxn = model.reactions.get_by_id(\"Biomass_Ecoli_core\")"
   ]
  },
  {
   "cell_type": "markdown",
   "metadata": {},
   "source": [
    "目前在模型中，目标中只有一个反应（生物质反应），线性系数为1。"
   ]
  },
  {
   "cell_type": "code",
   "execution_count": 10,
   "metadata": {
    "ExecuteTime": {
     "end_time": "2024-01-13T09:19:51.988944300Z",
     "start_time": "2024-01-13T09:19:51.943423Z"
    }
   },
   "outputs": [
    {
     "data": {
      "text/plain": "{<Reaction Biomass_Ecoli_core at 0x195cff33490>: 1.0}"
     },
     "execution_count": 10,
     "metadata": {},
     "output_type": "execute_result"
    }
   ],
   "source": [
    "from cobra.util.solver import linear_reaction_coefficients\n",
    "linear_reaction_coefficients(model)"
   ]
  },
  {
   "cell_type": "markdown",
   "metadata": {},
   "source": [
    "可以通过分配 Model.objective 来更改目标函数，Model.objective 可以是反应对象（或只是它的名称），也可以是 {Reaction： objective_coefficient} 的字典。"
   ]
  },
  {
   "cell_type": "code",
   "execution_count": 11,
   "metadata": {
    "ExecuteTime": {
     "end_time": "2024-01-13T09:19:53.495885600Z",
     "start_time": "2024-01-13T09:19:53.456367200Z"
    }
   },
   "outputs": [
    {
     "data": {
      "text/plain": "{<Reaction ATPM at 0x195cff09450>: 1.0}"
     },
     "execution_count": 11,
     "metadata": {},
     "output_type": "execute_result"
    }
   ],
   "source": [
    "# 将目标改为 ATPM\n",
    "model.objective = \"ATPM\"\n",
    "\n",
    "# 上界应该是1000，这样我们才能得到实际的最佳值\n",
    "model.reactions.get_by_id(\"ATPM\").upper_bound = 1000.\n",
    "linear_reaction_coefficients(model)"
   ]
  },
  {
   "cell_type": "code",
   "execution_count": 12,
   "metadata": {
    "ExecuteTime": {
     "end_time": "2024-01-13T09:19:54.357147500Z",
     "start_time": "2024-01-13T09:19:54.315278600Z"
    }
   },
   "outputs": [
    {
     "data": {
      "text/plain": "175.00000000000006"
     },
     "execution_count": 12,
     "metadata": {},
     "output_type": "execute_result"
    }
   ],
   "source": [
    "model.optimize().objective_value"
   ]
  },
  {
   "cell_type": "markdown",
   "metadata": {},
   "source": [
    "我们还可以有更复杂的目标，比如二次项。"
   ]
  },
  {
   "cell_type": "markdown",
   "metadata": {},
   "source": [
    "## 运行 FVA"
   ]
  },
  {
   "cell_type": "markdown",
   "metadata": {},
   "source": [
    "FBA不会总是给出独特的解决方案，因为多个通量状态可以达到相同的最佳状态。FVA（或通量变异性分析）找到每个代谢通量处于最佳状态的范围。"
   ]
  },
  {
   "cell_type": "code",
   "execution_count": 13,
   "metadata": {
    "ExecuteTime": {
     "end_time": "2024-01-13T09:19:57.857214500Z",
     "start_time": "2024-01-13T09:19:57.842175900Z"
    }
   },
   "outputs": [],
   "source": [
    "import cobra\n",
    "from cobra.flux_analysis import flux_variability_analysis"
   ]
  },
  {
   "cell_type": "code",
   "execution_count": 14,
   "metadata": {
    "ExecuteTime": {
     "end_time": "2024-01-13T09:20:05.398208800Z",
     "start_time": "2024-01-13T09:19:58.470647200Z"
    }
   },
   "outputs": [
    {
     "data": {
      "text/plain": "             minimum       maximum\nACALD  -9.375513e-15  0.000000e+00\nACALDt -1.198454e-14  0.000000e+00\nACKr   -1.832929e-14  1.039260e-14\nACONTa  2.000000e+01  2.000000e+01\nACONTb  2.000000e+01  2.000000e+01\nACt2r  -3.615752e-15  0.000000e+00\nADK1    0.000000e+00  1.924093e-13\nAKGDH   2.000000e+01  2.000000e+01\nAKGt2r -9.821844e-15  0.000000e+00\nALCD2x  9.994214e-15  0.000000e+00",
      "text/html": "<div>\n<style scoped>\n    .dataframe tbody tr th:only-of-type {\n        vertical-align: middle;\n    }\n\n    .dataframe tbody tr th {\n        vertical-align: top;\n    }\n\n    .dataframe thead th {\n        text-align: right;\n    }\n</style>\n<table border=\"1\" class=\"dataframe\">\n  <thead>\n    <tr style=\"text-align: right;\">\n      <th></th>\n      <th>minimum</th>\n      <th>maximum</th>\n    </tr>\n  </thead>\n  <tbody>\n    <tr>\n      <th>ACALD</th>\n      <td>-9.375513e-15</td>\n      <td>0.000000e+00</td>\n    </tr>\n    <tr>\n      <th>ACALDt</th>\n      <td>-1.198454e-14</td>\n      <td>0.000000e+00</td>\n    </tr>\n    <tr>\n      <th>ACKr</th>\n      <td>-1.832929e-14</td>\n      <td>1.039260e-14</td>\n    </tr>\n    <tr>\n      <th>ACONTa</th>\n      <td>2.000000e+01</td>\n      <td>2.000000e+01</td>\n    </tr>\n    <tr>\n      <th>ACONTb</th>\n      <td>2.000000e+01</td>\n      <td>2.000000e+01</td>\n    </tr>\n    <tr>\n      <th>ACt2r</th>\n      <td>-3.615752e-15</td>\n      <td>0.000000e+00</td>\n    </tr>\n    <tr>\n      <th>ADK1</th>\n      <td>0.000000e+00</td>\n      <td>1.924093e-13</td>\n    </tr>\n    <tr>\n      <th>AKGDH</th>\n      <td>2.000000e+01</td>\n      <td>2.000000e+01</td>\n    </tr>\n    <tr>\n      <th>AKGt2r</th>\n      <td>-9.821844e-15</td>\n      <td>0.000000e+00</td>\n    </tr>\n    <tr>\n      <th>ALCD2x</th>\n      <td>9.994214e-15</td>\n      <td>0.000000e+00</td>\n    </tr>\n  </tbody>\n</table>\n</div>"
     },
     "execution_count": 14,
     "metadata": {},
     "output_type": "execute_result"
    }
   ],
   "source": [
    "flux_variability_analysis(model, model.reactions[:10])"
   ]
  },
  {
   "cell_type": "markdown",
   "metadata": {},
   "source": [
    "设置参数“fraction_of_optimium=0.90”将给出 90% 最佳反应的通量范围。"
   ]
  },
  {
   "cell_type": "code",
   "execution_count": 15,
   "metadata": {
    "ExecuteTime": {
     "end_time": "2024-01-13T09:20:12.117884Z",
     "start_time": "2024-01-13T09:20:05.395208500Z"
    }
   },
   "outputs": [
    {
     "data": {
      "text/plain": "         minimum       maximum\nACALD  -2.692308  0.000000e+00\nACALDt -2.692308  0.000000e+00\nACKr   -4.117647  1.039260e-14\nACONTa  8.461538  2.000000e+01\nACONTb  8.461538  2.000000e+01\nACt2r  -4.117647  0.000000e+00\nADK1    0.000000  1.750000e+01\nAKGDH   2.500000  2.000000e+01\nAKGt2r -1.489362  0.000000e+00\nALCD2x -2.333333  0.000000e+00",
      "text/html": "<div>\n<style scoped>\n    .dataframe tbody tr th:only-of-type {\n        vertical-align: middle;\n    }\n\n    .dataframe tbody tr th {\n        vertical-align: top;\n    }\n\n    .dataframe thead th {\n        text-align: right;\n    }\n</style>\n<table border=\"1\" class=\"dataframe\">\n  <thead>\n    <tr style=\"text-align: right;\">\n      <th></th>\n      <th>minimum</th>\n      <th>maximum</th>\n    </tr>\n  </thead>\n  <tbody>\n    <tr>\n      <th>ACALD</th>\n      <td>-2.692308</td>\n      <td>0.000000e+00</td>\n    </tr>\n    <tr>\n      <th>ACALDt</th>\n      <td>-2.692308</td>\n      <td>0.000000e+00</td>\n    </tr>\n    <tr>\n      <th>ACKr</th>\n      <td>-4.117647</td>\n      <td>1.039260e-14</td>\n    </tr>\n    <tr>\n      <th>ACONTa</th>\n      <td>8.461538</td>\n      <td>2.000000e+01</td>\n    </tr>\n    <tr>\n      <th>ACONTb</th>\n      <td>8.461538</td>\n      <td>2.000000e+01</td>\n    </tr>\n    <tr>\n      <th>ACt2r</th>\n      <td>-4.117647</td>\n      <td>0.000000e+00</td>\n    </tr>\n    <tr>\n      <th>ADK1</th>\n      <td>0.000000</td>\n      <td>1.750000e+01</td>\n    </tr>\n    <tr>\n      <th>AKGDH</th>\n      <td>2.500000</td>\n      <td>2.000000e+01</td>\n    </tr>\n    <tr>\n      <th>AKGt2r</th>\n      <td>-1.489362</td>\n      <td>0.000000e+00</td>\n    </tr>\n    <tr>\n      <th>ALCD2x</th>\n      <td>-2.333333</td>\n      <td>0.000000e+00</td>\n    </tr>\n  </tbody>\n</table>\n</div>"
     },
     "execution_count": 15,
     "metadata": {},
     "output_type": "execute_result"
    }
   ],
   "source": [
    "cobra.flux_analysis.flux_variability_analysis(\n",
    "    model, model.reactions[:10], fraction_of_optimum=0.9)"
   ]
  },
  {
   "cell_type": "markdown",
   "metadata": {},
   "source": [
    "标准FVA可能包含环路，即高绝对通量值，只有在允许它们参与环路时才能很高（一种在体内不会发生的数学伪影）。使用“loopless”参数来避免此类循环。接下来，我们可以在环中看到 FRD7 和 SUCDi 反应，与此同时可使用无环 FVA 来避免这种情况。"
   ]
  },
  {
   "cell_type": "code",
   "execution_count": 16,
   "metadata": {
    "ExecuteTime": {
     "end_time": "2024-01-13T09:20:17.442624700Z",
     "start_time": "2024-01-13T09:20:12.123177400Z"
    }
   },
   "outputs": [
    {
     "data": {
      "text/plain": "       minimum  maximum\nFRD7       0.0    980.0\nSUCDi     20.0   1000.0",
      "text/html": "<div>\n<style scoped>\n    .dataframe tbody tr th:only-of-type {\n        vertical-align: middle;\n    }\n\n    .dataframe tbody tr th {\n        vertical-align: top;\n    }\n\n    .dataframe thead th {\n        text-align: right;\n    }\n</style>\n<table border=\"1\" class=\"dataframe\">\n  <thead>\n    <tr style=\"text-align: right;\">\n      <th></th>\n      <th>minimum</th>\n      <th>maximum</th>\n    </tr>\n  </thead>\n  <tbody>\n    <tr>\n      <th>FRD7</th>\n      <td>0.0</td>\n      <td>980.0</td>\n    </tr>\n    <tr>\n      <th>SUCDi</th>\n      <td>20.0</td>\n      <td>1000.0</td>\n    </tr>\n  </tbody>\n</table>\n</div>"
     },
     "execution_count": 16,
     "metadata": {},
     "output_type": "execute_result"
    }
   ],
   "source": [
    "loop_reactions = [model.reactions.FRD7, model.reactions.SUCDi]\n",
    "flux_variability_analysis(model, reaction_list=loop_reactions, loopless=False)"
   ]
  },
  {
   "cell_type": "code",
   "execution_count": 17,
   "metadata": {
    "ExecuteTime": {
     "end_time": "2024-01-13T09:20:23.014823600Z",
     "start_time": "2024-01-13T09:20:17.448015900Z"
    }
   },
   "outputs": [
    {
     "data": {
      "text/plain": "       minimum  maximum\nFRD7       0.0      0.0\nSUCDi     20.0     20.0",
      "text/html": "<div>\n<style scoped>\n    .dataframe tbody tr th:only-of-type {\n        vertical-align: middle;\n    }\n\n    .dataframe tbody tr th {\n        vertical-align: top;\n    }\n\n    .dataframe thead th {\n        text-align: right;\n    }\n</style>\n<table border=\"1\" class=\"dataframe\">\n  <thead>\n    <tr style=\"text-align: right;\">\n      <th></th>\n      <th>minimum</th>\n      <th>maximum</th>\n    </tr>\n  </thead>\n  <tbody>\n    <tr>\n      <th>FRD7</th>\n      <td>0.0</td>\n      <td>0.0</td>\n    </tr>\n    <tr>\n      <th>SUCDi</th>\n      <td>20.0</td>\n      <td>20.0</td>\n    </tr>\n  </tbody>\n</table>\n</div>"
     },
     "execution_count": 17,
     "metadata": {},
     "output_type": "execute_result"
    }
   ],
   "source": [
    "flux_variability_analysis(model, reaction_list=loop_reactions, loopless=True)"
   ]
  },
  {
   "cell_type": "markdown",
   "metadata": {},
   "source": [
    "### 在摘要方法中运行 FVA"
   ]
  },
  {
   "cell_type": "markdown",
   "metadata": {},
   "source": [
    "通量变异性分析也可以嵌入到对摘要方法的调用中。例如，可以通过以下方式快速找到基材消耗和产物形成的预期变化"
   ]
  },
  {
   "cell_type": "code",
   "execution_count": 18,
   "metadata": {
    "ExecuteTime": {
     "end_time": "2024-01-13T09:20:31.685883600Z",
     "start_time": "2024-01-13T09:20:23.002824Z"
    }
   },
   "outputs": [
    {
     "data": {
      "text/plain": "<cobra.summary.model_summary.ModelSummary at 0x195d1630d10>",
      "text/html": "<h3>Objective</h3><p>1.0 ATPM = 175.0000000000001</p><h4>Uptake</h4><table border=\"1\" class=\"dataframe\">\n  <thead>\n    <tr style=\"text-align: right;\">\n      <th>Metabolite</th>\n      <th>Reaction</th>\n      <th>Flux</th>\n      <th>Range</th>\n      <th>C-Number</th>\n      <th>C-Flux</th>\n    </tr>\n  </thead>\n  <tbody>\n    <tr>\n      <td>glc__D_e</td>\n      <td>EX_glc__D_e</td>\n      <td>10</td>\n      <td>[9.5;  10]</td>\n      <td>6</td>\n      <td>100.00%</td>\n    </tr>\n    <tr>\n      <td>o2_e</td>\n      <td>EX_o2_e</td>\n      <td>60</td>\n      <td>[55.88;  60]</td>\n      <td>0</td>\n      <td>0.00%</td>\n    </tr>\n  </tbody>\n</table><h4>Secretion</h4><table border=\"1\" class=\"dataframe\">\n  <thead>\n    <tr style=\"text-align: right;\">\n      <th>Metabolite</th>\n      <th>Reaction</th>\n      <th>Flux</th>\n      <th>Range</th>\n      <th>C-Number</th>\n      <th>C-Flux</th>\n    </tr>\n  </thead>\n  <tbody>\n    <tr>\n      <td>ac_e</td>\n      <td>EX_ac_e</td>\n      <td>0</td>\n      <td>[-2.059;  0]</td>\n      <td>2</td>\n      <td>0.00%</td>\n    </tr>\n    <tr>\n      <td>acald_e</td>\n      <td>EX_acald_e</td>\n      <td>0</td>\n      <td>[-1.346;  0]</td>\n      <td>2</td>\n      <td>0.00%</td>\n    </tr>\n    <tr>\n      <td>akg_e</td>\n      <td>EX_akg_e</td>\n      <td>0</td>\n      <td>[-0.7447;  0]</td>\n      <td>5</td>\n      <td>0.00%</td>\n    </tr>\n    <tr>\n      <td>co2_e</td>\n      <td>EX_co2_e</td>\n      <td>-60</td>\n      <td>[-60;  -54.17]</td>\n      <td>1</td>\n      <td>100.00%</td>\n    </tr>\n    <tr>\n      <td>etoh_e</td>\n      <td>EX_etoh_e</td>\n      <td>0</td>\n      <td>[-1.167;  0]</td>\n      <td>2</td>\n      <td>0.00%</td>\n    </tr>\n    <tr>\n      <td>for_e</td>\n      <td>EX_for_e</td>\n      <td>0</td>\n      <td>[-5.833;  0]</td>\n      <td>1</td>\n      <td>0.00%</td>\n    </tr>\n    <tr>\n      <td>glu__L_e</td>\n      <td>EX_glu__L_e</td>\n      <td>0</td>\n      <td>[-0.6731;  0]</td>\n      <td>5</td>\n      <td>0.00%</td>\n    </tr>\n    <tr>\n      <td>h2o_e</td>\n      <td>EX_h2o_e</td>\n      <td>-60</td>\n      <td>[-60;  -54.17]</td>\n      <td>0</td>\n      <td>0.00%</td>\n    </tr>\n    <tr>\n      <td>h_e</td>\n      <td>EX_h_e</td>\n      <td>0</td>\n      <td>[-5.833;  0]</td>\n      <td>0</td>\n      <td>0.00%</td>\n    </tr>\n    <tr>\n      <td>lac__D_e</td>\n      <td>EX_lac__D_e</td>\n      <td>0</td>\n      <td>[-1.129;  0]</td>\n      <td>3</td>\n      <td>0.00%</td>\n    </tr>\n    <tr>\n      <td>nh4_e</td>\n      <td>EX_nh4_e</td>\n      <td>0</td>\n      <td>[0;  0.6731]</td>\n      <td>0</td>\n      <td>0.00%</td>\n    </tr>\n    <tr>\n      <td>pi_e</td>\n      <td>EX_pi_e</td>\n      <td>0</td>\n      <td>[0;  0.171]</td>\n      <td>0</td>\n      <td>0.00%</td>\n    </tr>\n    <tr>\n      <td>pyr_e</td>\n      <td>EX_pyr_e</td>\n      <td>0</td>\n      <td>[-1.346;  0]</td>\n      <td>3</td>\n      <td>0.00%</td>\n    </tr>\n    <tr>\n      <td>succ_e</td>\n      <td>EX_succ_e</td>\n      <td>0</td>\n      <td>[-0.875;  0]</td>\n      <td>4</td>\n      <td>0.00%</td>\n    </tr>\n  </tbody>\n</table>"
     },
     "execution_count": 18,
     "metadata": {},
     "output_type": "execute_result"
    }
   ],
   "source": [
    "model.optimize()\n",
    "model.summary(fva=0.95)"
   ]
  },
  {
   "cell_type": "markdown",
   "metadata": {},
   "source": [
    "同样，代谢物质量平衡的变异性也可以通过通量变异性分析来检查。"
   ]
  },
  {
   "cell_type": "code",
   "execution_count": 19,
   "metadata": {
    "ExecuteTime": {
     "end_time": "2024-01-13T09:20:38.787172500Z",
     "start_time": "2024-01-13T09:20:31.793940Z"
    }
   },
   "outputs": [
    {
     "data": {
      "text/plain": "<cobra.summary.metabolite_summary.MetaboliteSummary at 0x195d129f910>",
      "text/html": "<h3>pyr_c</h3><p>C3H3O3</p><h4>Producing Reactions</h4><table border=\"1\" class=\"dataframe\">\n  <thead>\n    <tr style=\"text-align: right;\">\n      <th>Percent</th>\n      <th>Flux</th>\n      <th>Range</th>\n      <th>Reaction</th>\n      <th>Definition</th>\n    </tr>\n  </thead>\n  <tbody>\n    <tr>\n      <td>50.00%</td>\n      <td>10</td>\n      <td>[9.5;  10]</td>\n      <td>GLCpts</td>\n      <td>glc__D_e + pep_c --&gt; g6p_c + pyr_c</td>\n    </tr>\n    <tr>\n      <td>0.00%</td>\n      <td>0</td>\n      <td>[-1.129;  0]</td>\n      <td>LDH_D</td>\n      <td>lac__D_c + nad_c &lt;=&gt; h_c + nadh_c + pyr_c</td>\n    </tr>\n    <tr>\n      <td>0.00%</td>\n      <td>0</td>\n      <td>[0;  8.75]</td>\n      <td>ME1</td>\n      <td>mal__L_c + nad_c --&gt; co2_c + nadh_c + pyr_c</td>\n    </tr>\n    <tr>\n      <td>0.00%</td>\n      <td>0</td>\n      <td>[0;  8.75]</td>\n      <td>ME2</td>\n      <td>mal__L_c + nadp_c --&gt; co2_c + nadph_c + pyr_c</td>\n    </tr>\n    <tr>\n      <td>50.00%</td>\n      <td>10</td>\n      <td>[1.25;  18.75]</td>\n      <td>PYK</td>\n      <td>adp_c + h_c + pep_c --&gt; atp_c + pyr_c</td>\n    </tr>\n    <tr>\n      <td>0.00%</td>\n      <td>0</td>\n      <td>[-1.346;  0]</td>\n      <td>PYRt2</td>\n      <td>h_e + pyr_e &lt;=&gt; h_c + pyr_c</td>\n    </tr>\n  </tbody>\n</table><h4>Consuming Reactions</h4><table border=\"1\" class=\"dataframe\">\n  <thead>\n    <tr style=\"text-align: right;\">\n      <th>Percent</th>\n      <th>Flux</th>\n      <th>Range</th>\n      <th>Reaction</th>\n      <th>Definition</th>\n    </tr>\n  </thead>\n  <tbody>\n    <tr>\n      <td>0.00%</td>\n      <td>0</td>\n      <td>[-0.1316;  0]</td>\n      <td>Biomass_Ecoli_core</td>\n      <td>1.496 3pg_c + 3.7478 accoa_c + 59.81 atp_c + 0.361 e4p_c + 0.0709 f6p_c + 0.129 g3p_c + 0.205 g6p_c + 0.2557 gln__L_c + 4.9414 glu__L_c + 59.81 h2o_c + 3.547 nad_c + 13.0279 nadph_c + 1.7867 oaa_c + 0.5191 pep_c + 2.8328 pyr_c + 0.8977 r5p_c --&gt; 59.81 adp_c + 4.1182 akg_c + 3.7478 coa_c + 59.81 h_c + 3.547 nadh_c + 13.0279 nadp_c + 59.81 pi_c</td>\n    </tr>\n    <tr>\n      <td>100.00%</td>\n      <td>-20</td>\n      <td>[-28.75;  -13]</td>\n      <td>PDH</td>\n      <td>coa_c + nad_c + pyr_c --&gt; accoa_c + co2_c + nadh_c</td>\n    </tr>\n    <tr>\n      <td>0.00%</td>\n      <td>0</td>\n      <td>[-5.833;  0]</td>\n      <td>PFL</td>\n      <td>coa_c + pyr_c --&gt; accoa_c + for_c</td>\n    </tr>\n    <tr>\n      <td>0.00%</td>\n      <td>0</td>\n      <td>[-8.75;  0]</td>\n      <td>PPS</td>\n      <td>atp_c + h2o_c + pyr_c --&gt; amp_c + 2.0 h_c + pep_c + pi_c</td>\n    </tr>\n  </tbody>\n</table>"
     },
     "execution_count": 19,
     "metadata": {},
     "output_type": "execute_result"
    }
   ],
   "source": [
    "model.metabolites.pyr_c.summary(fva=0.95)"
   ]
  },
  {
   "cell_type": "markdown",
   "metadata": {},
   "source": [
    "在这些汇总方法中，这些值报告为中心点 +/- FVA 解的范围，由最大值和最小值计算得出。"
   ]
  },
  {
   "cell_type": "markdown",
   "metadata": {},
   "source": [
    "## 运行 pFBA"
   ]
  },
  {
   "cell_type": "markdown",
   "metadata": {},
   "source": [
    "简约的 FBA（通常写成 pFBA）找到一个通量分布，该分布可提供最佳增长率，但使通量总和最小化。这涉及求解两个顺序线性程序，但由 cobrapy 透明地处理。有关pFBA的更多详细信息，请参阅 [Lewis et al. (2010)](http://dx.doi.org/10.1038/msb.2010.47)."
   ]
  },
  {
   "cell_type": "code",
   "execution_count": 20,
   "metadata": {
    "ExecuteTime": {
     "end_time": "2024-01-13T09:20:38.802790200Z",
     "start_time": "2024-01-13T09:20:38.789171500Z"
    }
   },
   "outputs": [],
   "source": [
    "model.objective = 'Biomass_Ecoli_core'\n",
    "fba_solution = model.optimize()\n",
    "pfba_solution = cobra.flux_analysis.pfba(model)"
   ]
  },
  {
   "cell_type": "markdown",
   "metadata": {},
   "source": [
    "这些函数可能会给出完全不同的目标值，因为 pFBA 显示的目标值定义为 'sum（abs（pfba_solution.fluxes.values））'，而标准 FBA 的目标值定义为通过优化反应的加权通量（例如 'fba_solution.fluxes[“Biomass_Ecoli_core”]'）。\n",
    "\n",
    "pFBA 和 FBA 都应在求解器容差范围内为要优化的目标返回相同的结果。例如，对于使反应“Biomass_Ecoli_core”最大化的 FBA 问题："
   ]
  },
  {
   "cell_type": "code",
   "execution_count": 21,
   "metadata": {
    "ExecuteTime": {
     "end_time": "2024-01-13T09:20:38.816901600Z",
     "start_time": "2024-01-13T09:20:38.803790Z"
    }
   },
   "outputs": [
    {
     "data": {
      "text/plain": "5.551115123125783e-16"
     },
     "execution_count": 21,
     "metadata": {},
     "output_type": "execute_result"
    }
   ],
   "source": [
    "abs(fba_solution.fluxes[\"Biomass_Ecoli_core\"] - pfba_solution.fluxes[\n",
    "    \"Biomass_Ecoli_core\"])"
   ]
  },
  {
   "cell_type": "code",
   "execution_count": 22,
   "metadata": {
    "ExecuteTime": {
     "end_time": "2024-01-13T09:20:38.835914600Z",
     "start_time": "2024-01-13T09:20:38.813655200Z"
    }
   },
   "outputs": [
    {
     "data": {
      "text/plain": "True"
     },
     "execution_count": 22,
     "metadata": {},
     "output_type": "execute_result"
    }
   ],
   "source": [
    "import numpy as np\n",
    "np.isclose(\n",
    "    fba_solution.fluxes[\"Biomass_Ecoli_core\"], \n",
    "    pfba_solution.fluxes[\"Biomass_Ecoli_core\"]\n",
    ")"
   ]
  },
  {
   "cell_type": "markdown",
   "metadata": {},
   "source": [
    "## 运行几何FBA"
   ]
  },
  {
   "cell_type": "markdown",
   "metadata": {},
   "source": [
    "几何 FBA 找到一个独特的最佳通量分布，这是可能通量范围的核心。有关几何FBA的更多详细信息，请参阅 [K Smallbone, E Simeonidis (2009)](http://dx.doi.org/10.1016/j.jtbi.2009.01.027)."
   ]
  },
  {
   "cell_type": "code",
   "execution_count": 23,
   "metadata": {
    "ExecuteTime": {
     "end_time": "2024-01-13T09:21:06.079313100Z",
     "start_time": "2024-01-13T09:20:38.822913600Z"
    }
   },
   "outputs": [
    {
     "data": {
      "text/plain": "<Solution 0.000 at 0x195d2143890>",
      "text/html": "<strong><em>Optimal</em> solution with objective value 0.000</strong><br><div>\n<style scoped>\n    .dataframe tbody tr th:only-of-type {\n        vertical-align: middle;\n    }\n\n    .dataframe tbody tr th {\n        vertical-align: top;\n    }\n\n    .dataframe thead th {\n        text-align: right;\n    }\n</style>\n<table border=\"1\" class=\"dataframe\">\n  <thead>\n    <tr style=\"text-align: right;\">\n      <th></th>\n      <th>fluxes</th>\n      <th>reduced_costs</th>\n    </tr>\n  </thead>\n  <tbody>\n    <tr>\n      <th>ACALD</th>\n      <td>0.000000e+00</td>\n      <td>0.0</td>\n    </tr>\n    <tr>\n      <th>ACALDt</th>\n      <td>0.000000e+00</td>\n      <td>0.0</td>\n    </tr>\n    <tr>\n      <th>ACKr</th>\n      <td>1.260427e-13</td>\n      <td>0.0</td>\n    </tr>\n    <tr>\n      <th>ACONTa</th>\n      <td>6.007250e+00</td>\n      <td>0.0</td>\n    </tr>\n    <tr>\n      <th>ACONTb</th>\n      <td>6.007250e+00</td>\n      <td>0.0</td>\n    </tr>\n    <tr>\n      <th>...</th>\n      <td>...</td>\n      <td>...</td>\n    </tr>\n    <tr>\n      <th>TALA</th>\n      <td>1.496984e+00</td>\n      <td>0.0</td>\n    </tr>\n    <tr>\n      <th>THD2</th>\n      <td>0.000000e+00</td>\n      <td>0.0</td>\n    </tr>\n    <tr>\n      <th>TKT1</th>\n      <td>1.496984e+00</td>\n      <td>0.0</td>\n    </tr>\n    <tr>\n      <th>TKT2</th>\n      <td>1.181498e+00</td>\n      <td>0.0</td>\n    </tr>\n    <tr>\n      <th>TPI</th>\n      <td>7.477382e+00</td>\n      <td>0.0</td>\n    </tr>\n  </tbody>\n</table>\n<p>95 rows × 2 columns</p>\n</div>"
     },
     "execution_count": 23,
     "metadata": {},
     "output_type": "execute_result"
    }
   ],
   "source": [
    "geometric_fba_sol = cobra.flux_analysis.geometric_fba(model)\n",
    "geometric_fba_sol"
   ]
  }
 ],
 "metadata": {
  "kernelspec": {
   "display_name": "Python 3 (ipykernel)",
   "language": "python",
   "name": "python3"
  },
  "language_info": {
   "codemirror_mode": {
    "name": "ipython",
    "version": 3
   },
   "file_extension": ".py",
   "mimetype": "text/x-python",
   "name": "python",
   "nbconvert_exporter": "python",
   "pygments_lexer": "ipython3",
   "version": "3.8.18"
  }
 },
 "nbformat": 4,
 "nbformat_minor": 4
}

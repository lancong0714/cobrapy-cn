{
 "cells": [
  {
   "cell_type": "markdown",
   "metadata": {},
   "source": [
    "# 常见问题解答"
   ]
  },
  {
   "cell_type": "markdown",
   "metadata": {},
   "source": [
    "本文档将解决在文档的其他页面中未解决的常见问题。"
   ]
  },
  {
   "cell_type": "markdown",
   "metadata": {},
   "source": [
    "## 如何安装cobrapy?"
   ]
  },
  {
   "cell_type": "markdown",
   "metadata": {},
   "source": [
    "请参阅文件 [INSTALL.rst](https://github.com/opencobra/cobrapy/blob/stable/INSTALL.rst) "
   ]
  },
  {
   "cell_type": "markdown",
   "metadata": {},
   "source": [
    "##如何引用cobrapy?"
   ]
  },
  {
   "cell_type": "markdown",
   "metadata": {},
   "source": [
    "请引用2013年的出版物: [10.1186/1752-0509-7-74](http://dx.doi.org/doi:10.1186/1752-0509-7-74)"
   ]
  },
  {
   "cell_type": "markdown",
   "metadata": {},
   "source": [
    "## 如何重新命名反应或代谢物?"
   ]
  },
  {
   "cell_type": "markdown",
   "metadata": {},
   "source": [
    "TL;DR 之后使用“Model.repair”\n",
    "\n",
    "当重命名代谢物或反应时，会出现一些问题，因为cobra索引是基于ID的，这可能会导致错误。例如:"
   ]
  },
  {
   "cell_type": "code",
   "execution_count": 1,
   "metadata": {
    "tags": [],
    "ExecuteTime": {
     "end_time": "2024-01-13T09:10:05.914578200Z",
     "start_time": "2024-01-13T09:09:57.755371800Z"
    }
   },
   "outputs": [],
   "source": [
    "from cobra.io import load_model\n",
    "model = load_model(\"iYS1720\")\n",
    "\n",
    "for metabolite in model.metabolites:\n",
    "    metabolite.id = f\"test_{metabolite.id}\"\n",
    "\n",
    "try:\n",
    "    model.metabolites.get_by_id(model.metabolites[0].id)\n",
    "except KeyError as e:\n",
    "    print(repr(e))"
   ]
  },
  {
   "cell_type": "markdown",
   "metadata": {},
   "source": [
    "Model.repair 函数将重新生成必要的索引"
   ]
  },
  {
   "cell_type": "code",
   "execution_count": 2,
   "metadata": {
    "ExecuteTime": {
     "end_time": "2024-01-13T09:10:05.999637Z",
     "start_time": "2024-01-13T09:10:05.960579300Z"
    }
   },
   "outputs": [
    {
     "data": {
      "text/plain": "<Metabolite test_10fthf_c at 0x16e9f8c5750>",
      "text/html": "\n        <table>\n            <tr>\n                <td><strong>Metabolite identifier</strong></td><td>test_10fthf_c</td>\n            </tr><tr>\n                <td><strong>Name</strong></td><td>10-Formyltetrahydrofolate</td>\n            </tr><tr>\n                <td><strong>Memory address</strong></td>\n                <td>0x16e9f8c5750</td>\n            </tr><tr>\n                <td><strong>Formula</strong></td><td>C20H21N7O7</td>\n            </tr><tr>\n                <td><strong>Compartment</strong></td><td>c</td>\n            </tr><tr>\n                <td><strong>In 9 reaction(s)</strong></td><td>\n                    GARFT, MTHFC, BIOMASS_Ec_iAF1260_core_59p81M, BIOMASS_invivo, TDPFRMT, FTHFD, ULA4NFT, AICART, FMETTRS\n                    </td>\n            </tr>\n        </table>"
     },
     "execution_count": 2,
     "metadata": {},
     "output_type": "execute_result"
    }
   ],
   "source": [
    "model.repair()\n",
    "model.metabolites.get_by_id(model.metabolites[0].id)"
   ]
  },
  {
   "cell_type": "markdown",
   "metadata": {},
   "source": [
    "## 如何删除基因？"
   ]
  },
  {
   "cell_type": "markdown",
   "metadata": {},
   "source": [
    "这取决于你所说的删除基因到底是什么意思。\n",
    "\n",
    "如果要模拟基因敲除的模型，请在上下文中使用`cobra.manipulation.knock_out_model_genes` 函数。退出上下文时，此函数的效果将相反。"
   ]
  },
  {
   "cell_type": "code",
   "execution_count": 3,
   "metadata": {
    "ExecuteTime": {
     "end_time": "2024-01-13T09:10:10.503021400Z",
     "start_time": "2024-01-13T09:10:06.000637300Z"
    }
   },
   "outputs": [
    {
     "name": "stdout",
     "output_type": "stream",
     "text": [
      "bounds before knockout: (-1000.0, 1000.0)\n",
      "bounds after knockouts (0, 0)\n"
     ]
    }
   ],
   "source": [
    "model = load_model(\"iYS1720\")\n",
    "PGI = model.reactions.get_by_id(\"PGI\")\n",
    "print(\"bounds before knockout:\", (PGI.lower_bound, PGI.upper_bound))\n",
    "from cobra.manipulation import knock_out_model_genes\n",
    "knock_out_model_genes(model, [\"STM4221\"])\n",
    "print(\"bounds after knockouts\", (PGI.lower_bound, PGI.upper_bound))"
   ]
  },
  {
   "cell_type": "markdown",
   "metadata": {},
   "source": [
    "如果你想从模型中去除一个基因的所有痕迹，这要困难得多，因为这需要改变涉及该基因的反应的所有 `gene_reaction_rule` 字符串。"
   ]
  },
  {
   "cell_type": "markdown",
   "metadata": {},
   "source": [
    "## 如何更改反应的可逆性？"
   ]
  },
  {
   "cell_type": "markdown",
   "metadata": {},
   "source": [
    "`Reaction.reversibility` 是cobra中的一个属性，在从下界和上界请求时计算。"
   ]
  },
  {
   "cell_type": "code",
   "execution_count": 4,
   "metadata": {
    "ExecuteTime": {
     "end_time": "2024-01-13T09:10:14.977017200Z",
     "start_time": "2024-01-13T09:10:10.505018500Z"
    }
   },
   "outputs": [
    {
     "data": {
      "text/plain": "True"
     },
     "execution_count": 4,
     "metadata": {},
     "output_type": "execute_result"
    }
   ],
   "source": [
    "model = load_model(\"iYS1720\")\n",
    "model.reactions.get_by_id(\"PGI\").reversibility"
   ]
  },
  {
   "cell_type": "markdown",
   "metadata": {},
   "source": [
    "尝试直接设置它将导致错误或警告："
   ]
  },
  {
   "cell_type": "code",
   "execution_count": 5,
   "metadata": {
    "ExecuteTime": {
     "end_time": "2024-01-13T09:10:14.978010200Z",
     "start_time": "2024-01-13T09:10:14.969347900Z"
    }
   },
   "outputs": [
    {
     "name": "stderr",
     "output_type": "stream",
     "text": [
      "d:\\ProgramData\\anaconda3\\Lib\\site-packages\\cobra\\core\\reaction.py:810: UserWarning: Setting reaction reversibility is ignored\n",
      "  warn(\"Setting reaction reversibility is ignored\")\n"
     ]
    }
   ],
   "source": [
    "try:\n",
    "    model.reactions.get_by_id(\"PGI\").reversibility = False\n",
    "except Exception as e:\n",
    "    print(repr(e))"
   ]
  },
  {
   "cell_type": "markdown",
   "metadata": {},
   "source": [
    "改变可逆性的方法是改变边界，使反应不可逆。"
   ]
  },
  {
   "cell_type": "code",
   "execution_count": 6,
   "metadata": {
    "ExecuteTime": {
     "end_time": "2024-01-13T09:10:15.026405900Z",
     "start_time": "2024-01-13T09:10:14.979010500Z"
    }
   },
   "outputs": [
    {
     "data": {
      "text/plain": "False"
     },
     "execution_count": 6,
     "metadata": {},
     "output_type": "execute_result"
    }
   ],
   "source": [
    "model.reactions.get_by_id(\"PGI\").lower_bound = 10\n",
    "model.reactions.get_by_id(\"PGI\").reversibility"
   ]
  },
  {
   "cell_type": "markdown",
   "metadata": {
    "tags": []
   },
   "source": [
    "## 如何从 COBRA 模型生成 LP 文件？"
   ]
  },
  {
   "cell_type": "markdown",
   "metadata": {},
   "source": [
    "### 关于基于 optlang 的求解器"
   ]
  },
  {
   "cell_type": "markdown",
   "metadata": {},
   "source": [
    "使用 optlang 求解器，模型的 LP 公式通过其字符串表示获得。所有求解器的行为方式都相同。"
   ]
  },
  {
   "cell_type": "code",
   "execution_count": 7,
   "metadata": {
    "ExecuteTime": {
     "end_time": "2024-01-13T09:10:15.056662900Z",
     "start_time": "2024-01-13T09:10:14.994405500Z"
    }
   },
   "outputs": [],
   "source": [
    "with open('test.lp', 'w') as out:\n",
    "    out.write(str(model.solver))"
   ]
  },
  {
   "cell_type": "markdown",
   "metadata": {},
   "source": [
    "### 我如何将通量解形象化?"
   ]
  },
  {
   "cell_type": "markdown",
   "metadata": {},
   "source": [
    "请浏览我们网站上的 [visualization packages](https://opencobra.github.io/cobrapy/tags/visualization/)以获取最新的工具列表。"
   ]
  }
 ],
 "metadata": {
  "kernelspec": {
   "display_name": "Python 3 (ipykernel)",
   "language": "python",
   "name": "python3"
  },
  "language_info": {
   "codemirror_mode": {
    "name": "ipython",
    "version": 3
   },
   "file_extension": ".py",
   "mimetype": "text/x-python",
   "name": "python",
   "nbconvert_exporter": "python",
   "pygments_lexer": "ipython3",
   "version": "3.8.18"
  }
 },
 "nbformat": 4,
 "nbformat_minor": 4
}

{
 "cells": [
  {
   "cell_type": "markdown",
   "metadata": {},
   "source": [
    "# 读写模型"
   ]
  },
  {
   "cell_type": "markdown",
   "metadata": {},
   "source": [
    "Cobrapy 支持读取和写入 SBML（带和不带 FBC）、JSON、YAML、MAT 和 pickle 格式的模型。通常情况下，具有 FBC 版本2  的 SBML 是首选格式。JSON 格式对于某些特定于 cobrapy 的功能可能更有用。该软件包还附带各种格式的测试模型，用于测试目的。"
   ]
  },
  {
   "cell_type": "code",
   "execution_count": null,
   "metadata": {},
   "outputs": [],
   "source": [
    "from pathlib import Path\n",
    "from cobra.io import load_json_model, save_json_model, load_matlab_model, save_matlab_model, read_sbml_model, write_sbml_model\n",
    "import logging\n",
    "\n",
    "data_dir = Path(\".\") / \"..\" / \"src\" / \"cobra\" / \"data\"\n",
    "data_dir = data_dir.resolve()\n",
    "\n",
    "print(\"mini test files: \")\n",
    "print(\", \".join(str(i) for i in data_dir.glob('mini*.*')))\n",
    "from cobra.io import load_model\n",
    "textbook_model = load_model(\"textbook\")\n",
    "ecoli_model = load_model(\"iJO1366\")\n",
    "logging.getLogger(\"cobra.io.sbml\").setLevel(logging.ERROR)\n",
    "salmonella_model = load_model(\"salmonella\")\n"
   ]
  },
  {
   "cell_type": "markdown",
   "metadata": {},
   "source": [
    "## SBML"
   ]
  },
  {
   "cell_type": "markdown",
   "metadata": {},
   "source": [
    "[Systems Biology Markup Language](http://sbml.org)  是一种基于 XML 的标准格式，用于分发模型，它通过  [FBC extension](http://sbml.org/Documents/Specifications/SBML_Level_3/Packages/Flux_Balance_Constraints_%28flux%29)版本 2 支持 COBRA 模型。\n",
    "\n",
    "Cobrapy 原生支持使用 FBCv2 读取和写入 SBML。请注意，模型中的所有 ID 都必须符合 SBML SID 要求，才能生成有效的 SBML 文件。"
   ]
  },
  {
   "cell_type": "code",
   "execution_count": null,
   "metadata": {},
   "outputs": [],
   "source": [
    "mini_fbc2_path = data_dir / \"mini_fbc2.xml\" \n",
    "read_sbml_model(str(mini_fbc2_path.resolve()))"
   ]
  },
  {
   "cell_type": "code",
   "execution_count": null,
   "metadata": {},
   "outputs": [],
   "source": [
    "write_sbml_model(textbook_model, \"test_fbc2.xml\")"
   ]
  },
  {
   "cell_type": "markdown",
   "metadata": {},
   "source": [
    "在FBC 2之前，还有其他用于编码COBRA模型的SBML方言。最主要的一种是“COBRA”方言，它在过去利用SBML文件中的“notes”字段进行编码。\n",
    "\n",
    "Cobrapy能够使用libsbml进行SBML文件的读写操作，但需单独安装（请参阅安装指南）。在读取模型时，它会自动检测是否使用了FBC扩展。而在写入模型时，可以通过use_fbc_package标志选择使用与否，以便以这种传统的“COBRA”格式保存文件。\n",
    "\n",
    "建议安装lxml包，因为它能显著加快解析速度。"
   ]
  },
  {
   "cell_type": "code",
   "execution_count": null,
   "metadata": {},
   "outputs": [],
   "source": [
    "mini_cobra_path = data_dir / \"mini_cobra.xml\" \n",
    "read_sbml_model(str(mini_cobra_path.resolve()))"
   ]
  },
  {
   "cell_type": "code",
   "execution_count": null,
   "metadata": {},
   "outputs": [],
   "source": [
    "write_sbml_model(textbook_model, \"test_cobra.xml\")"
   ]
  },
  {
   "cell_type": "markdown",
   "metadata": {},
   "source": [
    "## JSON"
   ]
  },
  {
   "cell_type": "markdown",
   "metadata": {},
   "source": [
    "Cobrapy 模型具有 JSON（JavaScript 对象表示法）表示形式。创建此格式是为了与 escher 的互操作性。"
   ]
  },
  {
   "cell_type": "code",
   "execution_count": null,
   "metadata": {},
   "outputs": [],
   "source": [
    "mini_json_path = data_dir / \"mini.json\" \n",
    "load_json_model(str(mini_json_path.resolve()))"
   ]
  },
  {
   "cell_type": "code",
   "execution_count": null,
   "metadata": {},
   "outputs": [],
   "source": [
    "save_json_model(textbook_model, \"test.json\")"
   ]
  },
  {
   "cell_type": "markdown",
   "metadata": {},
   "source": [
    "## YAML"
   ]
  },
  {
   "cell_type": "markdown",
   "metadata": {},
   "source": [
    "Cobrapy 模型具有 YAML（YAML 不是标记语言）表示形式。创建此格式是为了实现更易读的模型表示和模型之间的自动差异而创建的。"
   ]
  },
  {
   "cell_type": "code",
   "execution_count": null,
   "metadata": {},
   "outputs": [],
   "source": [
    "mini_yml_path = data_dir / \"mini.yml\"\n",
    "load_yaml_model(str(mini_yml_path.resolve()))"
   ]
  },
  {
   "cell_type": "code",
   "execution_count": null,
   "metadata": {},
   "outputs": [],
   "source": [
    "save_yaml_model(textbook_model, \"test.yml\")"
   ]
  },
  {
   "cell_type": "markdown",
   "metadata": {},
   "source": [
    "## MATLAB"
   ]
  },
  {
   "cell_type": "markdown",
   "metadata": {},
   "source": [
    "通常，导入和导出模型可能只是为了在 cobrapy 和 MATLAB cobra 工具箱中使用相同的模型。MATLAB有自己的“.mat”格式来存储变量。从 python 读取和写入这些 mat 文件需要 scipy。\n",
    "\n",
    "一个 mat 文件可以包含多个 MATLAB 变量。因此，可以将MATLAB文件中模型的变量名称传递到读取函数中："
   ]
  },
  {
   "cell_type": "code",
   "execution_count": null,
   "metadata": {},
   "outputs": [],
   "source": [
    "mini_mat_path = data_dir / \"mini.mat\"\n",
    "load_matlab_model(\n",
    "    str(mini_mat_path.resolve()),\n",
    "    variable_name=\"mini_textbook\",\n",
    ")"
   ]
  },
  {
   "cell_type": "markdown",
   "metadata": {},
   "source": [
    "如果 mat 文件只包含单个模型，cobra 可以确定要从哪个变量中读取，并且不需要 variable_name 参数。"
   ]
  },
  {
   "cell_type": "code",
   "execution_count": null,
   "metadata": {},
   "outputs": [],
   "source": [
    "mini_mat_path = data_dir / \"mini.mat\"\n",
    "load_matlab_model(str(mini_mat_path.resolve()))"
   ]
  },
  {
   "cell_type": "markdown",
   "metadata": {},
   "source": [
    "将模型保存到 mat 文件也相对简单"
   ]
  },
  {
   "cell_type": "code",
   "execution_count": null,
   "metadata": {},
   "outputs": [],
   "source": [
    "save_matlab_model(textbook_model, \"test.mat\")"
   ]
  },
  {
   "cell_type": "markdown",
   "metadata": {},
   "source": [
    "## Pickle"
   ]
  },
  {
   "cell_type": "markdown",
   "metadata": {},
   "source": [
    "Cobra 模型可以使用 python 序列化格式 pickle 进行序列化。\n",
    "\n",
    "请注意，对于大多数用例，通常不建议使用 pickle 格式。JSON、SBML 和 MAT 通常是首选格式。"
   ]
  }
 ],
 "metadata": {
  "kernelspec": {
   "display_name": "Python 3 (ipykernel)",
   "language": "python",
   "name": "python3"
  },
  "language_info": {
   "codemirror_mode": {
    "name": "ipython",
    "version": 3
   },
   "file_extension": ".py",
   "mimetype": "text/x-python",
   "name": "python",
   "nbconvert_exporter": "python",
   "pygments_lexer": "ipython3",
   "version": "3.8.18"
  }
 },
 "nbformat": 4,
 "nbformat_minor": 4
}

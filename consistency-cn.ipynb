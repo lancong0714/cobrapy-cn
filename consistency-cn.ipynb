{
 "cells": [
  {
   "cell_type": "markdown",
   "metadata": {},
   "source": [
    "# 一致性测试"
   ]
  },
  {
   "cell_type": "markdown",
   "metadata": {},
   "source": [
    "对于大多数问题，多个磁通状态可以达到相同的最优，因此我们试图获得一致的网络。我们的意思是，网络中将存在多个阻塞反应，从而导致这种不一致。为解决这个问题，我们使用的算法可以检测所有被阻断的反应，并为我们提供一致的网络。"
   ]
  },
  {
   "cell_type": "markdown",
   "metadata": {},
   "source": [
    "Let us take a toy network, like so:\n",
    "\n",
    "\\begin{align}\n",
    "v_1 &: {} \\rightarrow 2A \\\\\n",
    "v_2 &: A \\leftrightarrow B \\\\\n",
    "v_3 &: A \\rightarrow D \\\\\n",
    "v_4 &: A \\rightarrow C \\\\\n",
    "v_5 &: C \\rightarrow D \\\\\n",
    "v_6 &: D \\rightarrow\n",
    "\\end{align}\n",
    "\n",
    "Here, $v_{x}$, where $x \\in \\{1, 2, \\ldots, 6\\}$ represent the flux carried by the reactions as shown above."
   ]
  },
  {
   "cell_type": "code",
   "execution_count": 1,
   "metadata": {
    "ExecuteTime": {
     "end_time": "2024-01-13T09:05:33.047739800Z",
     "start_time": "2024-01-13T09:05:31.150211100Z"
    }
   },
   "outputs": [],
   "source": [
    "import cobra"
   ]
  },
  {
   "cell_type": "code",
   "execution_count": 2,
   "metadata": {
    "ExecuteTime": {
     "end_time": "2024-01-13T09:05:33.070891100Z",
     "start_time": "2024-01-13T09:05:33.054887600Z"
    }
   },
   "outputs": [
    {
     "name": "stdout",
     "output_type": "stream",
     "text": [
      "unknown metabolite 'A' created\n",
      "unknown metabolite 'B' created\n",
      "unknown metabolite 'D' created\n",
      "unknown metabolite 'C' created\n"
     ]
    }
   ],
   "source": [
    "test_model = cobra.Model(\"test_model\")\n",
    "v1 = cobra.Reaction(\"v1\")\n",
    "v2 = cobra.Reaction(\"v2\")\n",
    "v3 = cobra.Reaction(\"v3\")\n",
    "v4 = cobra.Reaction(\"v4\")\n",
    "v5 = cobra.Reaction(\"v5\")\n",
    "v6 = cobra.Reaction(\"v6\")\n",
    "\n",
    "test_model.add_reactions([v1, v2, v3, v4, v5, v6])\n",
    "\n",
    "v1.reaction = \"-> 2 A\"\n",
    "v2.reaction = \"A <-> B\"\n",
    "v3.reaction = \"A -> D\"\n",
    "v4.reaction = \"A -> C\"\n",
    "v5.reaction = \"C -> D\"\n",
    "v6.reaction = \"D ->\"\n",
    "\n",
    "v1.bounds = (0.0, 3.0)\n",
    "v2.bounds = (-3.0, 3.0)\n",
    "v3.bounds = (0.0, 3.0)\n",
    "v4.bounds = (0.0, 3.0)\n",
    "v5.bounds = (0.0, 3.0)\n",
    "v6.bounds = (0.0, 3.0)\n",
    "\n",
    "test_model.objective = v6"
   ]
  },
  {
   "cell_type": "markdown",
   "metadata": {},
   "source": [
    "## 使用 FVA"
   ]
  },
  {
   "cell_type": "markdown",
   "metadata": {},
   "source": [
    "我们可以遵循的第一种方法是使用 FVA（通量可变性分析），在许多其他应用中，它用于检测阻塞反应。 `cobra.flux_analysis.find_blocked_reactions()`  函数将返回使用 FVA 获得的所有被阻止反应的列表。"
   ]
  },
  {
   "cell_type": "code",
   "execution_count": 3,
   "metadata": {
    "ExecuteTime": {
     "end_time": "2024-01-13T09:05:41.349017300Z",
     "start_time": "2024-01-13T09:05:36.147486700Z"
    }
   },
   "outputs": [
    {
     "data": {
      "text/plain": "['v2']"
     },
     "execution_count": 3,
     "metadata": {},
     "output_type": "execute_result"
    }
   ],
   "source": [
    "cobra.flux_analysis.find_blocked_reactions(test_model)"
   ]
  },
  {
   "cell_type": "markdown",
   "metadata": {},
   "source": [
    "As we see above, we are able to obtain the blocked reaction, which in this case is $v_2$.\n",
    "正如上述所示，我们能够通过在本例中的 $v_2$，来获得阻断反应。"
   ]
  },
  {
   "cell_type": "markdown",
   "metadata": {},
   "source": [
    "## 使用FASTCC"
   ]
  },
  {
   "cell_type": "markdown",
   "metadata": {},
   "source": [
    "在`cobrapy`中获得一致网络的第二种方法是使用 FASTCC。使用这种方法，您可以期望有效地获得准确一致的网络。有关该算法的更多详细信息，请参阅[Vlassis N, Pacheco MP, Sauter T (2014)](https://journals.plos.org/ploscompbiol/article?id=10.1371/journal.pcbi.1003424)."
   ]
  },
  {
   "cell_type": "code",
   "execution_count": 4,
   "metadata": {
    "ExecuteTime": {
     "end_time": "2024-01-13T09:05:50.930272800Z",
     "start_time": "2024-01-13T09:05:50.904870200Z"
    }
   },
   "outputs": [
    {
     "data": {
      "text/plain": "[<Reaction v1 at 0x21cc26101d0>,\n <Reaction v3 at 0x21cc27caa50>,\n <Reaction v4 at 0x21cc27cabd0>,\n <Reaction v5 at 0x21cc27cad50>,\n <Reaction v6 at 0x21cc27caf10>]"
     },
     "execution_count": 4,
     "metadata": {},
     "output_type": "execute_result"
    }
   ],
   "source": [
    "consistent_model = cobra.flux_analysis.fastcc(test_model)\n",
    "consistent_model.reactions"
   ]
  },
  {
   "cell_type": "markdown",
   "metadata": {},
   "source": [
    "与 FVA 方法类似，我们能够确定 $v_2$ 确实是阻断反应。"
   ]
  }
 ],
 "metadata": {
  "kernelspec": {
   "display_name": "Python 3 (ipykernel)",
   "language": "python",
   "name": "python3"
  },
  "language_info": {
   "codemirror_mode": {
    "name": "ipython",
    "version": 3
   },
   "file_extension": ".py",
   "mimetype": "text/x-python",
   "name": "python",
   "nbconvert_exporter": "python",
   "pygments_lexer": "ipython3",
   "version": "3.8.18"
  },
  "toc": {
   "base_numbering": 1,
   "nav_menu": {},
   "number_sections": false,
   "sideBar": true,
   "skip_h1_title": true,
   "title_cell": "Table of Contents",
   "title_sidebar": "Table of Contents",
   "toc_cell": false,
   "toc_position": {},
   "toc_section_display": true,
   "toc_window_display": true
  }
 },
 "nbformat": 4,
 "nbformat_minor": 4
}

{
 "cells": [
  {
   "cell_type": "markdown",
   "metadata": {
    "deletable": true,
    "editable": true
   },
   "source": [
    "# 构建模型\n",
    "## 模型、反应和代谢物"
   ]
  },
  {
   "cell_type": "markdown",
   "metadata": {
    "deletable": true,
    "editable": true
   },
   "source": [
    "这个简单示例演示了如何创建模型，创建反应，然后将反应添加到模型中。\n",
    "\n",
    "我们将使用 STM_1.0 模型中的“3OAS140”反应：\n",
    "\n",
    "1.0 malACP[c] + 1.0 h[c] + 1.0 ddcaACP[c] →\n",
    " 1.0 co2[c] + 1.0 ACP[c] + 1.0 3omrsACP[c]\n",
    "\n",
    "首先，创建模型和反应。"
   ]
  },
  {
   "cell_type": "code",
   "execution_count": 2,
   "metadata": {
    "deletable": true,
    "editable": true,
    "ExecuteTime": {
     "end_time": "2024-01-13T08:57:22.438677300Z",
     "start_time": "2024-01-13T08:57:22.424801800Z"
    }
   },
   "outputs": [],
   "source": [
    "from cobra import Model, Reaction, Metabolite"
   ]
  },
  {
   "cell_type": "code",
   "execution_count": 3,
   "metadata": {
    "collapsed": false,
    "deletable": true,
    "editable": true,
    "ExecuteTime": {
     "end_time": "2024-01-13T08:57:22.443940400Z",
     "start_time": "2024-01-13T08:57:22.431803600Z"
    }
   },
   "outputs": [],
   "source": [
    "model = Model('example_model')\n",
    "\n",
    "reaction = Reaction('R_3OAS140')\n",
    "reaction.name = '3 oxoacyl acyl carrier protein synthase n C140 '\n",
    "reaction.subsystem = 'Cell Envelope Biosynthesis'\n",
    "reaction.lower_bound = 0.  # This is the default\n",
    "reaction.upper_bound = 1000.  # This is the default"
   ]
  },
  {
   "cell_type": "markdown",
   "metadata": {
    "deletable": true,
    "editable": true
   },
   "source": [
    "我们也需要创造代谢物。如果我们使用现有模型“Model.get_by_id”来获得适当的代谢物对象。"
   ]
  },
  {
   "cell_type": "code",
   "execution_count": 26,
   "metadata": {
    "collapsed": false,
    "deletable": true,
    "editable": true,
    "ExecuteTime": {
     "end_time": "2024-01-13T09:00:47.897420800Z",
     "start_time": "2024-01-13T09:00:47.861031700Z"
    }
   },
   "outputs": [],
   "source": [
    "ACP_c = Metabolite(\n",
    "    'ACP_c',\n",
    "    formula='C11H21N2O7PRS',\n",
    "    name='acyl-carrier-protein',\n",
    "    compartment='c')\n",
    "omrsACP_c = Metabolite(\n",
    "    'M3omrsACP_c',\n",
    "    formula='C25H45N2O9PRS',\n",
    "    name='3-Oxotetradecanoyl-acyl-carrier-protein',\n",
    "    compartment='c')\n",
    "co2_c = Metabolite('co2_c', formula='CO2', name='CO2', compartment='c')\n",
    "malACP_c = Metabolite(\n",
    "    'malACP_c',\n",
    "    formula='C14H22N2O10PRS',\n",
    "    name='Malonyl-acyl-carrier-protein',\n",
    "    compartment='c')\n",
    "h_c = Metabolite('h_c', formula='H', name='H', compartment='c')\n",
    "ddcaACP_c = Metabolite(\n",
    "    'ddcaACP_c',\n",
    "    formula='C23H43N2O8PRS',\n",
    "    name='Dodecanoyl-ACP-n-C120ACP',\n",
    "    compartment='c')"
   ]
  },
  {
   "cell_type": "markdown",
   "metadata": {},
   "source": [
    "旁注：SId\n",
    "\n",
    "强烈建议反应、代谢物和基因的 ID 是有效的 SBML 标识符 （SId）。SId 是从基本 XML 类型字符串派生的数据类型，但对允许的字符以及这些字符可能出现的顺序有限制\n",
    "letter   ::=   ’a’..’z’,’A’..’Z’\n",
    "digit    ::=   ’0’..’9’\n",
    "idChar   ::=   letter | digit | ’_’\n",
    "SId      ::=   ( letter | ’_’ ) idChar*idChar*\n",
    "主要限制是 id 不能以数字开头。使用 SIds 允许序列化到 SBML。此外，通过点语法进行代码补全和对象访问等功能将在 cobrapy 中工作。"
   ]
  },
  {
   "cell_type": "markdown",
   "metadata": {
    "deletable": true,
    "editable": true
   },
   "source": [
    "使用代谢物及其化学计量系数的字典可将代谢物添加到反应中。一组代谢物可以一次全部添加，也可以一次添加一个。"
   ]
  },
  {
   "cell_type": "code",
   "execution_count": 27,
   "metadata": {
    "collapsed": false,
    "deletable": true,
    "editable": true,
    "ExecuteTime": {
     "end_time": "2024-01-13T09:00:53.293171800Z",
     "start_time": "2024-01-13T09:00:53.244638Z"
    }
   },
   "outputs": [
    {
     "data": {
      "text/plain": "'2.0 ddcaACP_c + 2.0 h_c + 2.0 malACP_c --> 2.0 ACP_c + 2.0 M3omrsACP_c + 2.0 co2_c'"
     },
     "execution_count": 27,
     "metadata": {},
     "output_type": "execute_result"
    }
   ],
   "source": [
    "reaction.add_metabolites({\n",
    "    malACP_c: -1.0,\n",
    "    h_c: -1.0,\n",
    "    ddcaACP_c: -1.0,\n",
    "    co2_c: 1.0,\n",
    "    ACP_c: 1.0,\n",
    "    omrsACP_c: 1.0\n",
    "})\n",
    "\n",
    "reaction.reaction  # This gives a string representation of the reaction"
   ]
  },
  {
   "cell_type": "markdown",
   "metadata": {
    "deletable": true,
    "editable": true
   },
   "source": [
    "gene_reaction_rule是该反应活跃的基因要求的布尔表示，如 Schellenberger 等人 的研究[Schellenberger et al 2011 Nature Protocols 6(9):1290-307](http://dx.doi.org/doi:10.1038/nprot.2011.308). 我们将分配基因反应规则字符串，该字符串将自动创建相应的基因对象。"
   ]
  },
  {
   "cell_type": "code",
   "execution_count": 28,
   "metadata": {
    "collapsed": false,
    "deletable": true,
    "editable": true,
    "ExecuteTime": {
     "end_time": "2024-01-13T09:00:56.403045100Z",
     "start_time": "2024-01-13T09:00:56.356495800Z"
    }
   },
   "outputs": [
    {
     "data": {
      "text/plain": "frozenset({<Gene STM1197 at 0x1a2c2619f90>, <Gene STM2378 at 0x1a2c261a150>})"
     },
     "execution_count": 28,
     "metadata": {},
     "output_type": "execute_result"
    }
   ],
   "source": [
    "reaction.gene_reaction_rule = '( STM2378 or STM1197 )'\n",
    "reaction.genes"
   ]
  },
  {
   "cell_type": "markdown",
   "metadata": {
    "deletable": true,
    "editable": true
   },
   "source": [
    "此时，模型仍为空"
   ]
  },
  {
   "cell_type": "code",
   "execution_count": 29,
   "metadata": {
    "collapsed": false,
    "deletable": true,
    "editable": true,
    "ExecuteTime": {
     "end_time": "2024-01-13T09:00:59.871686800Z",
     "start_time": "2024-01-13T09:00:59.858516700Z"
    }
   },
   "outputs": [
    {
     "name": "stdout",
     "output_type": "stream",
     "text": [
      "3 reactions initially\n",
      "8 metabolites initially\n",
      "2 genes initially\n"
     ]
    }
   ],
   "source": [
    "print(f'{len(model.reactions)} reactions initially')\n",
    "print(f'{len(model.metabolites)} metabolites initially')\n",
    "print(f'{len(model.genes)} genes initially')"
   ]
  },
  {
   "cell_type": "markdown",
   "metadata": {
    "deletable": true,
    "editable": true
   },
   "source": [
    "我们将反应添加到模型中，该模型还将添加所有相关的代谢物和基因"
   ]
  },
  {
   "cell_type": "code",
   "execution_count": 30,
   "metadata": {
    "collapsed": false,
    "deletable": true,
    "editable": true,
    "ExecuteTime": {
     "end_time": "2024-01-13T09:01:01.531447700Z",
     "start_time": "2024-01-13T09:01:01.494306900Z"
    }
   },
   "outputs": [
    {
     "name": "stderr",
     "output_type": "stream",
     "text": [
      "Ignoring reaction 'R_3OAS140' since it already exists.\n"
     ]
    },
    {
     "name": "stdout",
     "output_type": "stream",
     "text": [
      "3 reactions\n",
      "8 metabolites\n",
      "2 genes\n"
     ]
    }
   ],
   "source": [
    "model.add_reactions([reaction])\n",
    "\n",
    "# The objects have been added to the model\n",
    "print(f'{len(model.reactions)} reactions')\n",
    "print(f'{len(model.metabolites)} metabolites')\n",
    "print(f'{len(model.genes)} genes')"
   ]
  },
  {
   "cell_type": "markdown",
   "metadata": {
    "deletable": true,
    "editable": true
   },
   "source": [
    "我们可以遍历模型对象来观察内容"
   ]
  },
  {
   "cell_type": "code",
   "execution_count": 31,
   "metadata": {
    "collapsed": false,
    "deletable": true,
    "editable": true,
    "ExecuteTime": {
     "end_time": "2024-01-13T09:01:04.297321900Z",
     "start_time": "2024-01-13T09:01:04.254275700Z"
    }
   },
   "outputs": [
    {
     "name": "stdout",
     "output_type": "stream",
     "text": [
      "Reactions\n",
      "---------\n",
      "R_3OAS140 : 2.0 ddcaACP_c + 2.0 h_c + 2.0 malACP_c --> 2.0 ACP_c + 2.0 M3omrsACP_c + 2.0 co2_c\n",
      "EX_co2_e : co2_e <=> \n",
      "SK_glycogen_c : glycogen_c <=> \n",
      "\n",
      "Metabolites\n",
      "-----------\n",
      " malACP_c : C14H22N2O10PRS\n",
      "      h_c : H\n",
      "ddcaACP_c : C23H43N2O8PRS\n",
      "    co2_c : CO2\n",
      "    ACP_c : C11H21N2O7PRS\n",
      "M3omrsACP_c : C25H45N2O9PRS\n",
      "glycogen_c : None\n",
      "    co2_e : None\n",
      "\n",
      "Genes\n",
      "-----\n",
      "STM1197 is associated with reactions: {R_3OAS140}\n",
      "STM2378 is associated with reactions: {R_3OAS140}\n"
     ]
    }
   ],
   "source": [
    "# Iterate through the the objects in the model\n",
    "print(\"Reactions\")\n",
    "print(\"---------\")\n",
    "for x in model.reactions:\n",
    "    print(\"%s : %s\" % (x.id, x.reaction))\n",
    "\n",
    "print(\"\")\n",
    "print(\"Metabolites\")\n",
    "print(\"-----------\")\n",
    "for x in model.metabolites:\n",
    "    print('%9s : %s' % (x.id, x.formula))\n",
    "\n",
    "print(\"\")\n",
    "print(\"Genes\")\n",
    "print(\"-----\")\n",
    "for x in model.genes:\n",
    "    associated_ids = (i.id for i in x.reactions)\n",
    "    print(\"%s is associated with reactions: %s\" %\n",
    "          (x.id, \"{\" + \", \".join(associated_ids) + \"}\"))"
   ]
  },
  {
   "cell_type": "markdown",
   "metadata": {},
   "source": [
    "## 目标"
   ]
  },
  {
   "cell_type": "markdown",
   "metadata": {
    "deletable": true,
    "editable": true
   },
   "source": [
    "最后，我们需要设定模型的目标。在这里，我们只希望这是我们添加的单个反应中通量的最大化，我们通过将反应的标识符分配给模型的“目标”属性来做到这一点。"
   ]
  },
  {
   "cell_type": "code",
   "execution_count": 32,
   "metadata": {
    "collapsed": false,
    "deletable": true,
    "editable": true,
    "ExecuteTime": {
     "end_time": "2024-01-13T09:01:07.668296100Z",
     "start_time": "2024-01-13T09:01:07.631294800Z"
    }
   },
   "outputs": [],
   "source": [
    "model.objective = 'R_3OAS140'"
   ]
  },
  {
   "cell_type": "markdown",
   "metadata": {
    "deletable": true,
    "editable": true
   },
   "source": [
    "创建的目标是一个符号代数表达式，我们可以通过打印来检查它"
   ]
  },
  {
   "cell_type": "code",
   "execution_count": 33,
   "metadata": {
    "collapsed": false,
    "deletable": true,
    "editable": true,
    "ExecuteTime": {
     "end_time": "2024-01-13T09:01:09.542938100Z",
     "start_time": "2024-01-13T09:01:09.529931300Z"
    }
   },
   "outputs": [
    {
     "name": "stdout",
     "output_type": "stream",
     "text": [
      "1.0*R_3OAS140 - 1.0*R_3OAS140_reverse_60acb\n",
      "max\n"
     ]
    }
   ],
   "source": [
    "print(model.objective.expression)\n",
    "print(model.objective.direction)"
   ]
  },
  {
   "cell_type": "markdown",
   "metadata": {
    "deletable": true,
    "editable": true
   },
   "source": [
    "这里表明求解器将在正向上最大化通量。"
   ]
  },
  {
   "cell_type": "markdown",
   "metadata": {},
   "source": [
    "## 模型验证"
   ]
  },
  {
   "cell_type": "markdown",
   "metadata": {},
   "source": [
    "为了与其他工具进行交换，您可以验证模型并将其导出到 SBML。\n",
    "有关序列化和可用格式的详细信息，请参阅“读取和写入模型”部分"
   ]
  },
  {
   "cell_type": "code",
   "execution_count": 34,
   "metadata": {
    "ExecuteTime": {
     "end_time": "2024-01-13T09:01:13.254082800Z",
     "start_time": "2024-01-13T09:01:13.215006500Z"
    }
   },
   "outputs": [
    {
     "name": "stdout",
     "output_type": "stream",
     "text": [
      "(None,\n",
      " {'COBRA_CHECK': [],\n",
      "  'COBRA_ERROR': ['No SBML model detected in file.'],\n",
      "  'COBRA_FATAL': [],\n",
      "  'COBRA_WARNING': [],\n",
      "  'SBML_ERROR': ['E0 (Error): Operating system (core, L1); File unreadable; '\n",
      "                 'File unreadable. '\n",
      "                 'C:\\\\Users\\\\ADMINI~1\\\\AppData\\\\Local\\\\Temp\\\\tmpc4e0sees.xml\\n'],\n",
      "  'SBML_FATAL': [],\n",
      "  'SBML_SCHEMA_ERROR': [],\n",
      "  'SBML_WARNING': []})\n"
     ]
    }
   ],
   "source": [
    "import tempfile\n",
    "from pprint import pprint\n",
    "from cobra.io import write_sbml_model, validate_sbml_model\n",
    "with tempfile.NamedTemporaryFile(suffix='.xml') as f_sbml:\n",
    "    write_sbml_model(model, filename=f_sbml.name)\n",
    "    report = validate_sbml_model(filename=f_sbml.name)\n",
    "\n",
    "pprint(report)"
   ]
  },
  {
   "cell_type": "markdown",
   "metadata": {},
   "source": [
    "该模型有效，没有 COBRA 或 SBML 错误或警告。"
   ]
  },
  {
   "cell_type": "markdown",
   "metadata": {},
   "source": [
    "## 交换（exchange）、汇（sinks）和需求（demands）\n",
    "可以使用模型的“add_boundary”方法添加边界反应\n",
    "有三种不同类型的预定义边界反应：交换反应、需求反应和汇反应。它们都是不平衡的伪反应，这意味着它们通过在模型系统中添加或去除代谢物来实现建模功能，但不是基于真实的生物学。交换反应是一种可逆反应，在细胞外区室中增加或去除细胞外代谢物。需求反应是消耗细胞内代谢物的不可逆反应。汇类似于交换，但专门用于细胞内代谢物，即添加或去除细胞内代谢物的可逆反应。"
   ]
  },
  {
   "cell_type": "code",
   "execution_count": 35,
   "metadata": {
    "ExecuteTime": {
     "end_time": "2024-01-13T09:01:16.109593200Z",
     "start_time": "2024-01-13T09:01:16.075582Z"
    }
   },
   "outputs": [
    {
     "name": "stdout",
     "output_type": "stream",
     "text": [
      "exchanges [<Reaction EX_co2_e at 0x1a2c266f190>]\n",
      "demands []\n",
      "sinks [<Reaction SK_glycogen_c at 0x1a2c264de50>]\n"
     ]
    }
   ],
   "source": [
    "print(\"exchanges\", model.exchanges)\n",
    "print(\"demands\", model.demands)\n",
    "print(\"sinks\", model.sinks)"
   ]
  },
  {
   "cell_type": "markdown",
   "metadata": {},
   "source": [
    "边界反应在代谢物上定义。首先，我们在模型中添加两种代谢物，然后\n",
    "我们定义边界反应。我们将糖原添加到胞质区室“c”中，将 CO2 添加到外部区室“e”。"
   ]
  },
  {
   "cell_type": "code",
   "execution_count": 36,
   "metadata": {
    "ExecuteTime": {
     "end_time": "2024-01-13T09:01:18.125055200Z",
     "start_time": "2024-01-13T09:01:18.114015700Z"
    }
   },
   "outputs": [],
   "source": [
    "model.add_metabolites([\n",
    "    Metabolite(\n",
    "    'glycogen_c',\n",
    "    name='glycogen',\n",
    "    compartment='c'\n",
    "    ),\n",
    "    Metabolite(\n",
    "    'co2_e',\n",
    "    name='CO2',\n",
    "    compartment='e'\n",
    "    ),\n",
    "])"
   ]
  },
  {
   "cell_type": "code",
   "execution_count": 37,
   "metadata": {
    "ExecuteTime": {
     "end_time": "2024-01-13T09:01:19.346825100Z",
     "start_time": "2024-01-13T09:01:19.306203900Z"
    }
   },
   "outputs": [
    {
     "ename": "ValueError",
     "evalue": "Boundary reaction 'EX_co2_e' already exists.",
     "output_type": "error",
     "traceback": [
      "\u001B[1;31m---------------------------------------------------------------------------\u001B[0m",
      "\u001B[1;31mValueError\u001B[0m                                Traceback (most recent call last)",
      "Cell \u001B[1;32mIn[37], line 2\u001B[0m\n\u001B[0;32m      1\u001B[0m \u001B[38;5;66;03m# create exchange reaction\u001B[39;00m\n\u001B[1;32m----> 2\u001B[0m model\u001B[38;5;241m.\u001B[39madd_boundary(model\u001B[38;5;241m.\u001B[39mmetabolites\u001B[38;5;241m.\u001B[39mget_by_id(\u001B[38;5;124m\"\u001B[39m\u001B[38;5;124mco2_e\u001B[39m\u001B[38;5;124m\"\u001B[39m), \u001B[38;5;28mtype\u001B[39m\u001B[38;5;241m=\u001B[39m\u001B[38;5;124m\"\u001B[39m\u001B[38;5;124mexchange\u001B[39m\u001B[38;5;124m\"\u001B[39m)\n",
      "File \u001B[1;32md:\\ProgramData\\anaconda3\\Lib\\site-packages\\cobra\\core\\model.py:679\u001B[0m, in \u001B[0;36mModel.add_boundary\u001B[1;34m(self, metabolite, type, reaction_id, lb, ub, sbo_term)\u001B[0m\n\u001B[0;32m    674\u001B[0m     \u001B[38;5;28;01mraise\u001B[39;00m \u001B[38;5;167;01mValueError\u001B[39;00m(\n\u001B[0;32m    675\u001B[0m         \u001B[38;5;124m\"\u001B[39m\u001B[38;5;124mCustom types of boundary reactions require a custom \u001B[39m\u001B[38;5;124m\"\u001B[39m\n\u001B[0;32m    676\u001B[0m         \u001B[38;5;124m\"\u001B[39m\u001B[38;5;124midentifier. Please set the `reaction_id`.\u001B[39m\u001B[38;5;124m\"\u001B[39m\n\u001B[0;32m    677\u001B[0m     )\n\u001B[0;32m    678\u001B[0m \u001B[38;5;28;01mif\u001B[39;00m reaction_id \u001B[38;5;129;01min\u001B[39;00m \u001B[38;5;28mself\u001B[39m\u001B[38;5;241m.\u001B[39mreactions:\n\u001B[1;32m--> 679\u001B[0m     \u001B[38;5;28;01mraise\u001B[39;00m \u001B[38;5;167;01mValueError\u001B[39;00m(\u001B[38;5;124mf\u001B[39m\u001B[38;5;124m\"\u001B[39m\u001B[38;5;124mBoundary reaction \u001B[39m\u001B[38;5;124m'\u001B[39m\u001B[38;5;132;01m{\u001B[39;00mreaction_id\u001B[38;5;132;01m}\u001B[39;00m\u001B[38;5;124m'\u001B[39m\u001B[38;5;124m already exists.\u001B[39m\u001B[38;5;124m\"\u001B[39m)\n\u001B[0;32m    680\u001B[0m name \u001B[38;5;241m=\u001B[39m \u001B[38;5;124mf\u001B[39m\u001B[38;5;124m\"\u001B[39m\u001B[38;5;132;01m{\u001B[39;00mmetabolite\u001B[38;5;241m.\u001B[39mname\u001B[38;5;132;01m}\u001B[39;00m\u001B[38;5;124m \u001B[39m\u001B[38;5;132;01m{\u001B[39;00m\u001B[38;5;28mtype\u001B[39m\u001B[38;5;132;01m}\u001B[39;00m\u001B[38;5;124m\"\u001B[39m\n\u001B[0;32m    681\u001B[0m rxn \u001B[38;5;241m=\u001B[39m Reaction(\u001B[38;5;28mid\u001B[39m\u001B[38;5;241m=\u001B[39mreaction_id, name\u001B[38;5;241m=\u001B[39mname, lower_bound\u001B[38;5;241m=\u001B[39mlb, upper_bound\u001B[38;5;241m=\u001B[39mub)\n",
      "\u001B[1;31mValueError\u001B[0m: Boundary reaction 'EX_co2_e' already exists."
     ]
    }
   ],
   "source": [
    "# create exchange reaction\n",
    "model.add_boundary(model.metabolites.get_by_id(\"co2_e\"), type=\"exchange\")"
   ]
  },
  {
   "cell_type": "code",
   "execution_count": 38,
   "metadata": {
    "ExecuteTime": {
     "end_time": "2024-01-13T09:01:20.363796900Z",
     "start_time": "2024-01-13T09:01:20.296162600Z"
    }
   },
   "outputs": [
    {
     "ename": "ValueError",
     "evalue": "Boundary reaction 'SK_glycogen_c' already exists.",
     "output_type": "error",
     "traceback": [
      "\u001B[1;31m---------------------------------------------------------------------------\u001B[0m",
      "\u001B[1;31mValueError\u001B[0m                                Traceback (most recent call last)",
      "Cell \u001B[1;32mIn[38], line 2\u001B[0m\n\u001B[0;32m      1\u001B[0m \u001B[38;5;66;03m# create exchange reaction\u001B[39;00m\n\u001B[1;32m----> 2\u001B[0m model\u001B[38;5;241m.\u001B[39madd_boundary(model\u001B[38;5;241m.\u001B[39mmetabolites\u001B[38;5;241m.\u001B[39mget_by_id(\u001B[38;5;124m\"\u001B[39m\u001B[38;5;124mglycogen_c\u001B[39m\u001B[38;5;124m\"\u001B[39m), \u001B[38;5;28mtype\u001B[39m\u001B[38;5;241m=\u001B[39m\u001B[38;5;124m\"\u001B[39m\u001B[38;5;124msink\u001B[39m\u001B[38;5;124m\"\u001B[39m)\n",
      "File \u001B[1;32md:\\ProgramData\\anaconda3\\Lib\\site-packages\\cobra\\core\\model.py:679\u001B[0m, in \u001B[0;36mModel.add_boundary\u001B[1;34m(self, metabolite, type, reaction_id, lb, ub, sbo_term)\u001B[0m\n\u001B[0;32m    674\u001B[0m     \u001B[38;5;28;01mraise\u001B[39;00m \u001B[38;5;167;01mValueError\u001B[39;00m(\n\u001B[0;32m    675\u001B[0m         \u001B[38;5;124m\"\u001B[39m\u001B[38;5;124mCustom types of boundary reactions require a custom \u001B[39m\u001B[38;5;124m\"\u001B[39m\n\u001B[0;32m    676\u001B[0m         \u001B[38;5;124m\"\u001B[39m\u001B[38;5;124midentifier. Please set the `reaction_id`.\u001B[39m\u001B[38;5;124m\"\u001B[39m\n\u001B[0;32m    677\u001B[0m     )\n\u001B[0;32m    678\u001B[0m \u001B[38;5;28;01mif\u001B[39;00m reaction_id \u001B[38;5;129;01min\u001B[39;00m \u001B[38;5;28mself\u001B[39m\u001B[38;5;241m.\u001B[39mreactions:\n\u001B[1;32m--> 679\u001B[0m     \u001B[38;5;28;01mraise\u001B[39;00m \u001B[38;5;167;01mValueError\u001B[39;00m(\u001B[38;5;124mf\u001B[39m\u001B[38;5;124m\"\u001B[39m\u001B[38;5;124mBoundary reaction \u001B[39m\u001B[38;5;124m'\u001B[39m\u001B[38;5;132;01m{\u001B[39;00mreaction_id\u001B[38;5;132;01m}\u001B[39;00m\u001B[38;5;124m'\u001B[39m\u001B[38;5;124m already exists.\u001B[39m\u001B[38;5;124m\"\u001B[39m)\n\u001B[0;32m    680\u001B[0m name \u001B[38;5;241m=\u001B[39m \u001B[38;5;124mf\u001B[39m\u001B[38;5;124m\"\u001B[39m\u001B[38;5;132;01m{\u001B[39;00mmetabolite\u001B[38;5;241m.\u001B[39mname\u001B[38;5;132;01m}\u001B[39;00m\u001B[38;5;124m \u001B[39m\u001B[38;5;132;01m{\u001B[39;00m\u001B[38;5;28mtype\u001B[39m\u001B[38;5;132;01m}\u001B[39;00m\u001B[38;5;124m\"\u001B[39m\n\u001B[0;32m    681\u001B[0m rxn \u001B[38;5;241m=\u001B[39m Reaction(\u001B[38;5;28mid\u001B[39m\u001B[38;5;241m=\u001B[39mreaction_id, name\u001B[38;5;241m=\u001B[39mname, lower_bound\u001B[38;5;241m=\u001B[39mlb, upper_bound\u001B[38;5;241m=\u001B[39mub)\n",
      "\u001B[1;31mValueError\u001B[0m: Boundary reaction 'SK_glycogen_c' already exists."
     ]
    }
   ],
   "source": [
    "# create exchange reaction\n",
    "model.add_boundary(model.metabolites.get_by_id(\"glycogen_c\"), type=\"sink\")"
   ]
  },
  {
   "cell_type": "code",
   "execution_count": 39,
   "metadata": {
    "ExecuteTime": {
     "end_time": "2024-01-13T09:01:21.421233100Z",
     "start_time": "2024-01-13T09:01:21.383215200Z"
    }
   },
   "outputs": [
    {
     "name": "stdout",
     "output_type": "stream",
     "text": [
      "exchanges [<Reaction EX_co2_e at 0x1a2c266f190>]\n",
      "sinks [<Reaction SK_glycogen_c at 0x1a2c264de50>]\n",
      "demands []\n"
     ]
    }
   ],
   "source": [
    "# Now we have an additional exchange and sink reaction in the model\n",
    "print(\"exchanges\", model.exchanges)\n",
    "print(\"sinks\", model.sinks)\n",
    "print(\"demands\", model.demands)"
   ]
  },
  {
   "cell_type": "markdown",
   "metadata": {},
   "source": [
    "若要创建需求反应而不是接收器，请使用类型“demand”而不是“sink”。"
   ]
  },
  {
   "cell_type": "markdown",
   "metadata": {},
   "source": [
    "有关所有边界反应的信息都可以通过模型的属性“边界”获得。"
   ]
  },
  {
   "cell_type": "code",
   "execution_count": 40,
   "metadata": {
    "ExecuteTime": {
     "end_time": "2024-01-13T09:01:23.872682800Z",
     "start_time": "2024-01-13T09:01:23.837674400Z"
    }
   },
   "outputs": [
    {
     "data": {
      "text/plain": "[<Reaction EX_co2_e at 0x1a2c266f190>,\n <Reaction SK_glycogen_c at 0x1a2c264de50>]"
     },
     "execution_count": 40,
     "metadata": {},
     "output_type": "execute_result"
    }
   ],
   "source": [
    "# boundary reactions\n",
    "model.boundary"
   ]
  },
  {
   "cell_type": "markdown",
   "metadata": {},
   "source": [
    "获得所有代谢反应的一个巧妙技巧是"
   ]
  },
  {
   "cell_type": "code",
   "execution_count": 41,
   "metadata": {
    "ExecuteTime": {
     "end_time": "2024-01-13T09:01:25.652578500Z",
     "start_time": "2024-01-13T09:01:25.618585300Z"
    }
   },
   "outputs": [
    {
     "data": {
      "text/plain": "{<Reaction R_3OAS140 at 0x1a2c2602b90>}"
     },
     "execution_count": 41,
     "metadata": {},
     "output_type": "execute_result"
    }
   ],
   "source": [
    "# metabolic reactions\n",
    "set(model.reactions) - set(model.boundary)"
   ]
  }
 ],
 "metadata": {
  "kernelspec": {
   "display_name": "Python 3 (ipykernel)",
   "language": "python",
   "name": "python3"
  },
  "language_info": {
   "codemirror_mode": {
    "name": "ipython",
    "version": 3
   },
   "file_extension": ".py",
   "mimetype": "text/x-python",
   "name": "python",
   "nbconvert_exporter": "python",
   "pygments_lexer": "ipython3",
   "version": "3.8.18"
  }
 },
 "nbformat": 4,
 "nbformat_minor": 4
}

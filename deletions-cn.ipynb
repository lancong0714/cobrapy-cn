{
 "cells": [
  {
   "cell_type": "markdown",
   "metadata": {},
   "source": [
    "# 模拟删除"
   ]
  },
  {
   "cell_type": "code",
   "execution_count": 1,
   "metadata": {
    "ExecuteTime": {
     "end_time": "2024-01-13T09:07:53.019105400Z",
     "start_time": "2024-01-13T09:07:47.653272900Z"
    }
   },
   "outputs": [],
   "source": [
    "import pandas\n",
    "from time import time\n",
    "\n",
    "from cobra.io import load_model\n",
    "from cobra.flux_analysis import (\n",
    "    single_gene_deletion, single_reaction_deletion, double_gene_deletion,\n",
    "    double_reaction_deletion)\n",
    "\n",
    "cobra_model = load_model(\"textbook\")\n",
    "ecoli_model = load_model(\"iJO1366\")"
   ]
  },
  {
   "cell_type": "markdown",
   "metadata": {},
   "source": [
    "## 敲除单个基因和反应"
   ]
  },
  {
   "cell_type": "markdown",
   "metadata": {},
   "source": [
    "在分析代谢模型时，一个经常被问到的问题是，如果某种反应不允许有任何通量，会发生什么。这可以通过以下方式使用 cobrapy 进行测试"
   ]
  },
  {
   "cell_type": "code",
   "execution_count": 2,
   "metadata": {
    "tags": [],
    "ExecuteTime": {
     "end_time": "2024-01-13T09:07:56.007891Z",
     "start_time": "2024-01-13T09:07:56.001833500Z"
    }
   },
   "outputs": [
    {
     "name": "stdout",
     "output_type": "stream",
     "text": [
      "complete model:  <Solution 0.874 at 0x2551f601bd0>\n",
      "pfk knocked out:  <Solution 0.704 at 0x2551f603b50>\n"
     ]
    }
   ],
   "source": [
    "print('complete model: ', cobra_model.optimize())\n",
    "with cobra_model:\n",
    "    cobra_model.reactions.PFK.knock_out()\n",
    "    print('pfk knocked out: ', cobra_model.optimize())"
   ]
  },
  {
   "cell_type": "markdown",
   "metadata": {},
   "source": [
    "在评估遗传的操作策略时，更有趣的是检查如果给定的基因被敲除会发生什么，因为这样做在冗余的情况下不会影响任何反应，或者如果基因参与多个反应，则会影响更多的反应。"
   ]
  },
  {
   "cell_type": "code",
   "execution_count": 3,
   "metadata": {
    "tags": [],
    "ExecuteTime": {
     "end_time": "2024-01-13T09:07:58.468745300Z",
     "start_time": "2024-01-13T09:07:58.375679500Z"
    }
   },
   "outputs": [
    {
     "name": "stdout",
     "output_type": "stream",
     "text": [
      "complete model:  <Solution 0.874 at 0x2551f60ec90>\n",
      "pfkA knocked out:  <Solution 0.874 at 0x2551f60e590>\n",
      "pfkB knocked out:  <Solution 0.704 at 0x2551f60e0d0>\n"
     ]
    }
   ],
   "source": [
    "print('complete model: ', cobra_model.optimize())\n",
    "with cobra_model:\n",
    "    cobra_model.genes.b1723.knock_out()\n",
    "    print('pfkA knocked out: ', cobra_model.optimize())\n",
    "    cobra_model.genes.b3916.knock_out()\n",
    "    print('pfkB knocked out: ', cobra_model.optimize())"
   ]
  },
  {
   "cell_type": "markdown",
   "metadata": {},
   "source": [
    "## 单次删除"
   ]
  },
  {
   "cell_type": "markdown",
   "metadata": {},
   "source": [
    "在模型上执行所有单基因删除"
   ]
  },
  {
   "cell_type": "code",
   "execution_count": 4,
   "metadata": {
    "ExecuteTime": {
     "end_time": "2024-01-13T09:08:08.941962300Z",
     "start_time": "2024-01-13T09:08:02.003662400Z"
    }
   },
   "outputs": [],
   "source": [
    "deletion_results = single_gene_deletion(cobra_model)"
   ]
  },
  {
   "cell_type": "markdown",
   "metadata": {},
   "source": [
    "这些也可以只对一部分基因进行"
   ]
  },
  {
   "cell_type": "code",
   "execution_count": 5,
   "metadata": {
    "ExecuteTime": {
     "end_time": "2024-01-13T09:08:13.403896400Z",
     "start_time": "2024-01-13T09:08:08.943963900Z"
    }
   },
   "outputs": [
    {
     "data": {
      "text/plain": "        ids    growth   status\n0   {b1241}  0.873922  optimal\n1   {b1478}  0.873922  optimal\n2   {b0727}  0.858307  optimal\n3   {b2587}  0.873922  optimal\n4   {b1849}  0.873922  optimal\n5   {b0474}  0.873922  optimal\n6   {b2296}  0.873922  optimal\n7   {b0116}  0.782351  optimal\n8   {b0351}  0.873922  optimal\n9   {b3734}  0.374230  optimal\n10  {b3732}  0.374230  optimal\n11  {s0001}  0.211141  optimal\n12  {b3733}  0.374230  optimal\n13  {b1276}  0.873922  optimal\n14  {b0118}  0.873922  optimal\n15  {b0356}  0.873922  optimal\n16  {b3115}  0.873922  optimal\n17  {b0726}  0.858307  optimal\n18  {b3735}  0.374230  optimal\n19  {b3736}  0.374230  optimal",
      "text/html": "<div>\n<style scoped>\n    .dataframe tbody tr th:only-of-type {\n        vertical-align: middle;\n    }\n\n    .dataframe tbody tr th {\n        vertical-align: top;\n    }\n\n    .dataframe thead th {\n        text-align: right;\n    }\n</style>\n<table border=\"1\" class=\"dataframe\">\n  <thead>\n    <tr style=\"text-align: right;\">\n      <th></th>\n      <th>ids</th>\n      <th>growth</th>\n      <th>status</th>\n    </tr>\n  </thead>\n  <tbody>\n    <tr>\n      <th>0</th>\n      <td>{b1241}</td>\n      <td>0.873922</td>\n      <td>optimal</td>\n    </tr>\n    <tr>\n      <th>1</th>\n      <td>{b1478}</td>\n      <td>0.873922</td>\n      <td>optimal</td>\n    </tr>\n    <tr>\n      <th>2</th>\n      <td>{b0727}</td>\n      <td>0.858307</td>\n      <td>optimal</td>\n    </tr>\n    <tr>\n      <th>3</th>\n      <td>{b2587}</td>\n      <td>0.873922</td>\n      <td>optimal</td>\n    </tr>\n    <tr>\n      <th>4</th>\n      <td>{b1849}</td>\n      <td>0.873922</td>\n      <td>optimal</td>\n    </tr>\n    <tr>\n      <th>5</th>\n      <td>{b0474}</td>\n      <td>0.873922</td>\n      <td>optimal</td>\n    </tr>\n    <tr>\n      <th>6</th>\n      <td>{b2296}</td>\n      <td>0.873922</td>\n      <td>optimal</td>\n    </tr>\n    <tr>\n      <th>7</th>\n      <td>{b0116}</td>\n      <td>0.782351</td>\n      <td>optimal</td>\n    </tr>\n    <tr>\n      <th>8</th>\n      <td>{b0351}</td>\n      <td>0.873922</td>\n      <td>optimal</td>\n    </tr>\n    <tr>\n      <th>9</th>\n      <td>{b3734}</td>\n      <td>0.374230</td>\n      <td>optimal</td>\n    </tr>\n    <tr>\n      <th>10</th>\n      <td>{b3732}</td>\n      <td>0.374230</td>\n      <td>optimal</td>\n    </tr>\n    <tr>\n      <th>11</th>\n      <td>{s0001}</td>\n      <td>0.211141</td>\n      <td>optimal</td>\n    </tr>\n    <tr>\n      <th>12</th>\n      <td>{b3733}</td>\n      <td>0.374230</td>\n      <td>optimal</td>\n    </tr>\n    <tr>\n      <th>13</th>\n      <td>{b1276}</td>\n      <td>0.873922</td>\n      <td>optimal</td>\n    </tr>\n    <tr>\n      <th>14</th>\n      <td>{b0118}</td>\n      <td>0.873922</td>\n      <td>optimal</td>\n    </tr>\n    <tr>\n      <th>15</th>\n      <td>{b0356}</td>\n      <td>0.873922</td>\n      <td>optimal</td>\n    </tr>\n    <tr>\n      <th>16</th>\n      <td>{b3115}</td>\n      <td>0.873922</td>\n      <td>optimal</td>\n    </tr>\n    <tr>\n      <th>17</th>\n      <td>{b0726}</td>\n      <td>0.858307</td>\n      <td>optimal</td>\n    </tr>\n    <tr>\n      <th>18</th>\n      <td>{b3735}</td>\n      <td>0.374230</td>\n      <td>optimal</td>\n    </tr>\n    <tr>\n      <th>19</th>\n      <td>{b3736}</td>\n      <td>0.374230</td>\n      <td>optimal</td>\n    </tr>\n  </tbody>\n</table>\n</div>"
     },
     "execution_count": 5,
     "metadata": {},
     "output_type": "execute_result"
    }
   ],
   "source": [
    "single_gene_deletion(cobra_model, cobra_model.genes[:20])"
   ]
  },
  {
   "cell_type": "markdown",
   "metadata": {},
   "source": [
    "这也可用于反应"
   ]
  },
  {
   "cell_type": "code",
   "execution_count": 6,
   "metadata": {
    "ExecuteTime": {
     "end_time": "2024-01-13T09:08:17.906383100Z",
     "start_time": "2024-01-13T09:08:13.376898700Z"
    }
   },
   "outputs": [
    {
     "data": {
      "text/plain": "                     ids        growth   status\n0               {ACONTb} -1.376403e-15  optimal\n1                  {ENO}  8.053080e-16  optimal\n2                {ACALD}  8.739215e-01  optimal\n3                {CYTBD}  2.116629e-01  optimal\n4               {ALCD2x}  8.739215e-01  optimal\n5                   {CS} -7.494929e-15  optimal\n6              {D_LACt2}  8.739215e-01  optimal\n7                 {ACKr}  8.739215e-01  optimal\n8              {ETOHt2r}  8.739215e-01  optimal\n9   {Biomass_Ecoli_core}  0.000000e+00  optimal\n10              {AKGt2r}  8.739215e-01  optimal\n11               {AKGDH}  8.583074e-01  optimal\n12              {ACALDt}  8.739215e-01  optimal\n13              {ACONTa} -1.405299e-15  optimal\n14               {ACt2r}  8.739215e-01  optimal\n15              {ATPS4r}  3.742299e-01  optimal\n16             {EX_ac_e}  8.739215e-01  optimal\n17                {CO2t}  4.616696e-01  optimal\n18                {ADK1}  8.739215e-01  optimal\n19                {ATPM}  9.166475e-01  optimal",
      "text/html": "<div>\n<style scoped>\n    .dataframe tbody tr th:only-of-type {\n        vertical-align: middle;\n    }\n\n    .dataframe tbody tr th {\n        vertical-align: top;\n    }\n\n    .dataframe thead th {\n        text-align: right;\n    }\n</style>\n<table border=\"1\" class=\"dataframe\">\n  <thead>\n    <tr style=\"text-align: right;\">\n      <th></th>\n      <th>ids</th>\n      <th>growth</th>\n      <th>status</th>\n    </tr>\n  </thead>\n  <tbody>\n    <tr>\n      <th>0</th>\n      <td>{ACONTb}</td>\n      <td>-1.376403e-15</td>\n      <td>optimal</td>\n    </tr>\n    <tr>\n      <th>1</th>\n      <td>{ENO}</td>\n      <td>8.053080e-16</td>\n      <td>optimal</td>\n    </tr>\n    <tr>\n      <th>2</th>\n      <td>{ACALD}</td>\n      <td>8.739215e-01</td>\n      <td>optimal</td>\n    </tr>\n    <tr>\n      <th>3</th>\n      <td>{CYTBD}</td>\n      <td>2.116629e-01</td>\n      <td>optimal</td>\n    </tr>\n    <tr>\n      <th>4</th>\n      <td>{ALCD2x}</td>\n      <td>8.739215e-01</td>\n      <td>optimal</td>\n    </tr>\n    <tr>\n      <th>5</th>\n      <td>{CS}</td>\n      <td>-7.494929e-15</td>\n      <td>optimal</td>\n    </tr>\n    <tr>\n      <th>6</th>\n      <td>{D_LACt2}</td>\n      <td>8.739215e-01</td>\n      <td>optimal</td>\n    </tr>\n    <tr>\n      <th>7</th>\n      <td>{ACKr}</td>\n      <td>8.739215e-01</td>\n      <td>optimal</td>\n    </tr>\n    <tr>\n      <th>8</th>\n      <td>{ETOHt2r}</td>\n      <td>8.739215e-01</td>\n      <td>optimal</td>\n    </tr>\n    <tr>\n      <th>9</th>\n      <td>{Biomass_Ecoli_core}</td>\n      <td>0.000000e+00</td>\n      <td>optimal</td>\n    </tr>\n    <tr>\n      <th>10</th>\n      <td>{AKGt2r}</td>\n      <td>8.739215e-01</td>\n      <td>optimal</td>\n    </tr>\n    <tr>\n      <th>11</th>\n      <td>{AKGDH}</td>\n      <td>8.583074e-01</td>\n      <td>optimal</td>\n    </tr>\n    <tr>\n      <th>12</th>\n      <td>{ACALDt}</td>\n      <td>8.739215e-01</td>\n      <td>optimal</td>\n    </tr>\n    <tr>\n      <th>13</th>\n      <td>{ACONTa}</td>\n      <td>-1.405299e-15</td>\n      <td>optimal</td>\n    </tr>\n    <tr>\n      <th>14</th>\n      <td>{ACt2r}</td>\n      <td>8.739215e-01</td>\n      <td>optimal</td>\n    </tr>\n    <tr>\n      <th>15</th>\n      <td>{ATPS4r}</td>\n      <td>3.742299e-01</td>\n      <td>optimal</td>\n    </tr>\n    <tr>\n      <th>16</th>\n      <td>{EX_ac_e}</td>\n      <td>8.739215e-01</td>\n      <td>optimal</td>\n    </tr>\n    <tr>\n      <th>17</th>\n      <td>{CO2t}</td>\n      <td>4.616696e-01</td>\n      <td>optimal</td>\n    </tr>\n    <tr>\n      <th>18</th>\n      <td>{ADK1}</td>\n      <td>8.739215e-01</td>\n      <td>optimal</td>\n    </tr>\n    <tr>\n      <th>19</th>\n      <td>{ATPM}</td>\n      <td>9.166475e-01</td>\n      <td>optimal</td>\n    </tr>\n  </tbody>\n</table>\n</div>"
     },
     "execution_count": 6,
     "metadata": {},
     "output_type": "execute_result"
    }
   ],
   "source": [
    "single_reaction_deletion(cobra_model, cobra_model.reactions[:20])"
   ]
  },
  {
   "cell_type": "markdown",
   "metadata": {},
   "source": [
    "## 双重删除"
   ]
  },
  {
   "cell_type": "markdown",
   "metadata": {},
   "source": [
    "双重删除以类似的方式运行。"
   ]
  },
  {
   "cell_type": "code",
   "execution_count": 7,
   "metadata": {
    "ExecuteTime": {
     "end_time": "2024-01-13T09:08:21.752050900Z",
     "start_time": "2024-01-13T09:08:17.907386200Z"
    }
   },
   "outputs": [
    {
     "data": {
      "text/plain": "               ids  growth   status\n0   {b2935, b2465}  0.0000  optimal\n1   {b0008, b2935}  0.8739  optimal\n2          {b2464}  0.8739  optimal\n3   {b3919, b2465}  0.7040  optimal\n4          {b0008}  0.8739  optimal\n5   {b0008, b2464}  0.8648  optimal\n6   {b2935, b2464}  0.8739  optimal\n7          {b2935}  0.8739  optimal\n8   {b2935, b3919}  0.7040  optimal\n9   {b3919, b2464}  0.7040  optimal\n10  {b2464, b2465}  0.8739  optimal\n11         {b3919}  0.7040  optimal\n12  {b0008, b2465}  0.8739  optimal\n13         {b2465}  0.8739  optimal\n14  {b0008, b3919}  0.7040  optimal",
      "text/html": "<div>\n<style scoped>\n    .dataframe tbody tr th:only-of-type {\n        vertical-align: middle;\n    }\n\n    .dataframe tbody tr th {\n        vertical-align: top;\n    }\n\n    .dataframe thead th {\n        text-align: right;\n    }\n</style>\n<table border=\"1\" class=\"dataframe\">\n  <thead>\n    <tr style=\"text-align: right;\">\n      <th></th>\n      <th>ids</th>\n      <th>growth</th>\n      <th>status</th>\n    </tr>\n  </thead>\n  <tbody>\n    <tr>\n      <th>0</th>\n      <td>{b2935, b2465}</td>\n      <td>0.0000</td>\n      <td>optimal</td>\n    </tr>\n    <tr>\n      <th>1</th>\n      <td>{b0008, b2935}</td>\n      <td>0.8739</td>\n      <td>optimal</td>\n    </tr>\n    <tr>\n      <th>2</th>\n      <td>{b2464}</td>\n      <td>0.8739</td>\n      <td>optimal</td>\n    </tr>\n    <tr>\n      <th>3</th>\n      <td>{b3919, b2465}</td>\n      <td>0.7040</td>\n      <td>optimal</td>\n    </tr>\n    <tr>\n      <th>4</th>\n      <td>{b0008}</td>\n      <td>0.8739</td>\n      <td>optimal</td>\n    </tr>\n    <tr>\n      <th>5</th>\n      <td>{b0008, b2464}</td>\n      <td>0.8648</td>\n      <td>optimal</td>\n    </tr>\n    <tr>\n      <th>6</th>\n      <td>{b2935, b2464}</td>\n      <td>0.8739</td>\n      <td>optimal</td>\n    </tr>\n    <tr>\n      <th>7</th>\n      <td>{b2935}</td>\n      <td>0.8739</td>\n      <td>optimal</td>\n    </tr>\n    <tr>\n      <th>8</th>\n      <td>{b2935, b3919}</td>\n      <td>0.7040</td>\n      <td>optimal</td>\n    </tr>\n    <tr>\n      <th>9</th>\n      <td>{b3919, b2464}</td>\n      <td>0.7040</td>\n      <td>optimal</td>\n    </tr>\n    <tr>\n      <th>10</th>\n      <td>{b2464, b2465}</td>\n      <td>0.8739</td>\n      <td>optimal</td>\n    </tr>\n    <tr>\n      <th>11</th>\n      <td>{b3919}</td>\n      <td>0.7040</td>\n      <td>optimal</td>\n    </tr>\n    <tr>\n      <th>12</th>\n      <td>{b0008, b2465}</td>\n      <td>0.8739</td>\n      <td>optimal</td>\n    </tr>\n    <tr>\n      <th>13</th>\n      <td>{b2465}</td>\n      <td>0.8739</td>\n      <td>optimal</td>\n    </tr>\n    <tr>\n      <th>14</th>\n      <td>{b0008, b3919}</td>\n      <td>0.7040</td>\n      <td>optimal</td>\n    </tr>\n  </tbody>\n</table>\n</div>"
     },
     "execution_count": 7,
     "metadata": {},
     "output_type": "execute_result"
    }
   ],
   "source": [
    "double_gene_deletion(\n",
    "    cobra_model, cobra_model.genes[-5:]).round(4)"
   ]
  },
  {
   "cell_type": "markdown",
   "metadata": {},
   "source": [
    "默认情况下，双重删除功能将自动使用多重处理，如果可用，则将任务拆分为最多 4 个内核。也可以手动指定内核数。设置使用单个内核将禁用多处理库，这通常有助于调试。"
   ]
  },
  {
   "cell_type": "code",
   "execution_count": 8,
   "metadata": {
    "tags": [],
    "ExecuteTime": {
     "end_time": "2024-01-13T09:08:29.678103400Z",
     "start_time": "2024-01-13T09:08:21.741048300Z"
    }
   },
   "outputs": [
    {
     "name": "stdout",
     "output_type": "stream",
     "text": [
      "Double gene deletions for 200 genes completed in 5.06 sec with 2 cores\n",
      "Double gene deletions for 200 genes completed in 2.85 sec with 1 core\n",
      "Speedup of 0.56x\n"
     ]
    }
   ],
   "source": [
    "start = time()  # start timer()\n",
    "double_gene_deletion(\n",
    "    ecoli_model, ecoli_model.genes[:25], processes=2)\n",
    "t1 = time() - start\n",
    "print(\"Double gene deletions for 200 genes completed in \"\n",
    "      \"%.2f sec with 2 cores\" % t1)\n",
    "\n",
    "start = time()  # start timer()\n",
    "double_gene_deletion(\n",
    "    ecoli_model, ecoli_model.genes[:25], processes=1)\n",
    "t2 = time() - start\n",
    "print(\"Double gene deletions for 200 genes completed in \"\n",
    "      \"%.2f sec with 1 core\" % t2)\n",
    "\n",
    "print(\"Speedup of %.2fx\" % (t2 / t1))"
   ]
  },
  {
   "cell_type": "markdown",
   "metadata": {},
   "source": [
    "也可以对反应运行双重删除。"
   ]
  },
  {
   "cell_type": "code",
   "execution_count": 9,
   "metadata": {
    "ExecuteTime": {
     "end_time": "2024-01-13T09:08:33.547457300Z",
     "start_time": "2024-01-13T09:08:29.658102300Z"
    }
   },
   "outputs": [
    {
     "data": {
      "text/plain": "                 ids  growth   status\n0      {ACKr, ACt2r}  0.8739  optimal\n1    {ACONTb, ACt2r} -0.0000  optimal\n2      {ADK1, ACt2r}  0.8739  optimal\n3             {ACKr}  0.8739  optimal\n4     {ACONTa, ACKr}  0.0000  optimal\n5   {ACONTb, ACONTa} -0.0000  optimal\n6     {ADK1, ACONTa} -0.0000  optimal\n7           {ACONTb} -0.0000  optimal\n8     {ACONTb, ACKr} -0.0000  optimal\n9       {ADK1, ACKr}  0.8739  optimal\n10    {ACONTb, ADK1} -0.0000  optimal\n11            {ADK1}  0.8739  optimal\n12          {ACONTa} -0.0000  optimal\n13           {ACt2r}  0.8739  optimal\n14   {ACONTa, ACt2r} -0.0000  optimal",
      "text/html": "<div>\n<style scoped>\n    .dataframe tbody tr th:only-of-type {\n        vertical-align: middle;\n    }\n\n    .dataframe tbody tr th {\n        vertical-align: top;\n    }\n\n    .dataframe thead th {\n        text-align: right;\n    }\n</style>\n<table border=\"1\" class=\"dataframe\">\n  <thead>\n    <tr style=\"text-align: right;\">\n      <th></th>\n      <th>ids</th>\n      <th>growth</th>\n      <th>status</th>\n    </tr>\n  </thead>\n  <tbody>\n    <tr>\n      <th>0</th>\n      <td>{ACKr, ACt2r}</td>\n      <td>0.8739</td>\n      <td>optimal</td>\n    </tr>\n    <tr>\n      <th>1</th>\n      <td>{ACONTb, ACt2r}</td>\n      <td>-0.0000</td>\n      <td>optimal</td>\n    </tr>\n    <tr>\n      <th>2</th>\n      <td>{ADK1, ACt2r}</td>\n      <td>0.8739</td>\n      <td>optimal</td>\n    </tr>\n    <tr>\n      <th>3</th>\n      <td>{ACKr}</td>\n      <td>0.8739</td>\n      <td>optimal</td>\n    </tr>\n    <tr>\n      <th>4</th>\n      <td>{ACONTa, ACKr}</td>\n      <td>0.0000</td>\n      <td>optimal</td>\n    </tr>\n    <tr>\n      <th>5</th>\n      <td>{ACONTb, ACONTa}</td>\n      <td>-0.0000</td>\n      <td>optimal</td>\n    </tr>\n    <tr>\n      <th>6</th>\n      <td>{ADK1, ACONTa}</td>\n      <td>-0.0000</td>\n      <td>optimal</td>\n    </tr>\n    <tr>\n      <th>7</th>\n      <td>{ACONTb}</td>\n      <td>-0.0000</td>\n      <td>optimal</td>\n    </tr>\n    <tr>\n      <th>8</th>\n      <td>{ACONTb, ACKr}</td>\n      <td>-0.0000</td>\n      <td>optimal</td>\n    </tr>\n    <tr>\n      <th>9</th>\n      <td>{ADK1, ACKr}</td>\n      <td>0.8739</td>\n      <td>optimal</td>\n    </tr>\n    <tr>\n      <th>10</th>\n      <td>{ACONTb, ADK1}</td>\n      <td>-0.0000</td>\n      <td>optimal</td>\n    </tr>\n    <tr>\n      <th>11</th>\n      <td>{ADK1}</td>\n      <td>0.8739</td>\n      <td>optimal</td>\n    </tr>\n    <tr>\n      <th>12</th>\n      <td>{ACONTa}</td>\n      <td>-0.0000</td>\n      <td>optimal</td>\n    </tr>\n    <tr>\n      <th>13</th>\n      <td>{ACt2r}</td>\n      <td>0.8739</td>\n      <td>optimal</td>\n    </tr>\n    <tr>\n      <th>14</th>\n      <td>{ACONTa, ACt2r}</td>\n      <td>-0.0000</td>\n      <td>optimal</td>\n    </tr>\n  </tbody>\n</table>\n</div>"
     },
     "execution_count": 9,
     "metadata": {},
     "output_type": "execute_result"
    }
   ],
   "source": [
    "double_reaction_deletion(\n",
    "    cobra_model, cobra_model.reactions[2:7]).round(4)"
   ]
  },
  {
   "cell_type": "markdown",
   "metadata": {},
   "source": [
    "## 访问单个删除结果\n",
    "请注意，删除的索引是 python set 对象。这是适当的类型，因为删除的顺序无关紧要。删除反应 1 和反应 2 与删除反应 2 和反应 1 的效果相同。\n",
    "\n",
    "为了更轻松地访问结果，COBRAPpy 删除函数返回的所有 DataFrame 都有一个 knockout 索引器，使访问变得更加简单。索引器中的每个条目都被视为单个删除条目。因此，您需要传递双重删除的集合。"
   ]
  },
  {
   "cell_type": "code",
   "execution_count": 10,
   "metadata": {
    "tags": [],
    "ExecuteTime": {
     "end_time": "2024-01-13T09:08:47.674567Z",
     "start_time": "2024-01-13T09:08:33.540458900Z"
    }
   },
   "outputs": [
    {
     "name": "stdout",
     "output_type": "stream",
     "text": [
      "       ids    growth   status\n",
      "92  {ATPM}  0.916647  optimal\n",
      "             ids   growth   status\n",
      "19  {ATPM, TKT1}  0.90584  optimal\n"
     ]
    }
   ],
   "source": [
    "single = single_reaction_deletion(cobra_model)\n",
    "double = double_reaction_deletion(cobra_model)\n",
    "\n",
    "print(single.knockout[\"ATPM\"])\n",
    "print(double.knockout[{\"ATPM\", \"TKT1\"}])"
   ]
  },
  {
   "cell_type": "markdown",
   "metadata": {},
   "source": [
    "这可用于一次获得多个删除，也适用于反应或基因对象（取决于您删除的内容）。"
   ]
  },
  {
   "cell_type": "code",
   "execution_count": 11,
   "metadata": {
    "tags": [],
    "ExecuteTime": {
     "end_time": "2024-01-13T09:08:47.689071500Z",
     "start_time": "2024-01-13T09:08:47.676567Z"
    }
   },
   "outputs": [
    {
     "name": "stdout",
     "output_type": "stream",
     "text": [
      "       ids    growth   status\n",
      "60  {TKT1}  0.864759  optimal\n",
      "81   {PFK}  0.704037  optimal\n",
      "92  {ATPM}  0.916647  optimal\n",
      "               ids    growth   status\n",
      "19    {ATPM, TKT1}  0.905840  optimal\n",
      "1136   {PFK, ATPM}  0.704037  optimal\n",
      "3996        {ATPM}  0.916647  optimal\n"
     ]
    }
   ],
   "source": [
    "atpm = cobra_model.reactions.ATPM\n",
    "tkt1 = cobra_model.reactions.TKT1\n",
    "pfk = cobra_model.reactions.PFK\n",
    "\n",
    "print(single.knockout[atpm, tkt1, pfk])\n",
    "print(double.knockout[{atpm, tkt1}, {atpm, pfk}, {atpm}])\n"
   ]
  }
 ],
 "metadata": {
  "kernelspec": {
   "display_name": "Python 3 (ipykernel)",
   "language": "python",
   "name": "python3"
  },
  "language_info": {
   "codemirror_mode": {
    "name": "ipython",
    "version": 3
   },
   "file_extension": ".py",
   "mimetype": "text/x-python",
   "name": "python",
   "nbconvert_exporter": "python",
   "pygments_lexer": "ipython3",
   "version": "3.8.18"
  }
 },
 "nbformat": 4,
 "nbformat_minor": 4
}
